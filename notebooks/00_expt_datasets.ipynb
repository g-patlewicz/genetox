{
 "cells": [
  {
   "cell_type": "markdown",
   "metadata": {},
   "source": [
    "#### Creation of the experimental genotoxicity dataset"
   ]
  },
  {
   "cell_type": "code",
   "execution_count": 1,
   "metadata": {},
   "outputs": [],
   "source": [
    "import numpy as np\n",
    "import pandas as pd\n",
    "import matplotlib.pyplot as plt\n",
    "import seaborn as sns\n",
    "%matplotlib inline"
   ]
  },
  {
   "cell_type": "code",
   "execution_count": 2,
   "metadata": {},
   "outputs": [],
   "source": [
    "raw_dat_dir = '/home/grace/Documents/python/genetox/data/raw/'\n",
    "processed_dat_dir = '/home/grace/Documents/python/genetox/data/processed/'\n",
    "interim_dat_dir = '/home/grace/Documents/python/genetox/data/interim/'\n",
    "figures_dir = '/home/grace/Documents/python/genetox/reports/figures/'\n",
    "external_dat_dir = '/home/grace/Documents/python/genetox/data/external/'"
   ]
  },
  {
   "cell_type": "code",
   "execution_count": 3,
   "metadata": {},
   "outputs": [],
   "source": [
    "raw_genetox = pd.read_excel(raw_dat_dir+'combined_genetox_standard_2021-02-05.xlsx')"
   ]
  },
  {
   "cell_type": "code",
   "execution_count": 4,
   "metadata": {},
   "outputs": [
    {
     "data": {
      "text/plain": [
       "(54805, 31)"
      ]
     },
     "execution_count": 4,
     "metadata": {},
     "output_type": "execute_result"
    }
   ],
   "source": [
    "raw_genetox.shape"
   ]
  },
  {
   "cell_type": "code",
   "execution_count": 34,
   "metadata": {},
   "outputs": [],
   "source": [
    "import sys\n",
    "\n",
    "sys.path.append('/home/grace/Documents/python/genetox/src/models/')\n",
    "\n",
    "from genetox_dict import *\n",
    "\n",
    "from genetox_dict2 import *"
   ]
  },
  {
   "cell_type": "code",
   "execution_count": 35,
   "metadata": {},
   "outputs": [],
   "source": [
    "df = clean_up(raw_genetox)"
   ]
  },
  {
   "cell_type": "code",
   "execution_count": 36,
   "metadata": {},
   "outputs": [
    {
     "data": {
      "text/plain": [
       "(54805, 34)"
      ]
     },
     "execution_count": 36,
     "metadata": {},
     "output_type": "execute_result"
    }
   ],
   "source": [
    "df.shape"
   ]
  },
  {
   "cell_type": "code",
   "execution_count": 37,
   "metadata": {},
   "outputs": [
    {
     "data": {
      "text/plain": [
       "673"
      ]
     },
     "execution_count": 37,
     "metadata": {},
     "output_type": "execute_result"
    }
   ],
   "source": [
    "len(df.standard_assay_type.unique().tolist())"
   ]
  },
  {
   "cell_type": "code",
   "execution_count": 38,
   "metadata": {},
   "outputs": [],
   "source": [
    "df_rev = clean_up2(df)"
   ]
  },
  {
   "cell_type": "code",
   "execution_count": 40,
   "metadata": {},
   "outputs": [],
   "source": [
    "# Create a Pandas Excel writer using XlsxWriter as the engine.\n",
    "writer = pd.ExcelWriter(processed_dat_dir+'genetox_merged_110221_all.xlsx', engine='xlsxwriter')\n",
    "\n",
    "# Convert the dataframe to an XlsxWriter Excel object.\n",
    "df_rev.to_excel(writer, sheet_name='all_genetox_data')\n",
    "\n",
    "# Close the Pandas Excel writer and output the Excel file.\n",
    "writer.save()"
   ]
  },
  {
   "cell_type": "markdown",
   "metadata": {},
   "source": [
    "#### This did a reasonable first cut of the mapping but manual checking showed that some mappings need to be updated based on species information conflicts."
   ]
  },
  {
   "cell_type": "markdown",
   "metadata": {},
   "source": [
    "Remapping of forward mutation assays if they are mammalian cells"
   ]
  },
  {
   "cell_type": "code",
   "execution_count": 46,
   "metadata": {},
   "outputs": [],
   "source": [
    "species_ = list(set(df_rev[df_rev['standard_assay_type'] == 'bacterial forward mutation assay']['species'].tolist()))"
   ]
  },
  {
   "cell_type": "code",
   "execution_count": 47,
   "metadata": {},
   "outputs": [
    {
     "data": {
      "text/plain": [
       "['Chinese hamster Ovary (CHO)',\n",
       " 'S. typhimurium, other: TA92, TA1535,TA100, TA1537, TA94 and TA98',\n",
       " 'Chinese hamster lung fibroblasts (V79)',\n",
       " 'S. typhimurium, other: TM677',\n",
       " 'S. typhimurium TA 98',\n",
       " 'yeast, other: Neurospora crassa',\n",
       " 'S. typhimurium, other: TA 100, TA98, TA97, TA 102',\n",
       " 'S. typhimurium TA 100',\n",
       " 'S. typhimurium, other: TA 1532',\n",
       " 'S. typhimurium TA 1535, TA 1537, TA 98 and TA 100',\n",
       " 'S. typhimurium TA 1535, TA 1537, TA 98, TA 100 and E. coli WP2',\n",
       " 'mouse lymphoma L5178Y cells',\n",
       " 'S. typhimurium, other: TA100, TA1535, TA98, TA1537 and Escherichia coli WP2 uvrA.',\n",
       " 'E. coli WP2 uvr A',\n",
       " 'other: S typhimurium (G46, TA 1535, TA 100, C3076, TA1537, D3052, TA1538, and TA98) and two tryptophan auxotrophs of E coli (WP2 and WF2uvrA-).',\n",
       " 'S. typhimurium, other: TA 1535, TA 100, TA 1537, TA 98',\n",
       " 'S. typhimurium, other: TA 97a, TA 98, TA 100, TA 102, TA 1535',\n",
       " 'S. typhimurium, other: TA97, TA98, TA100, TA102',\n",
       " 'S. typhimurium TA 1535',\n",
       " 'S. typhimurium TA 1535, TA 1537, TA 98, TA 100 and TA 102',\n",
       " 'E. coli, other: WP2 pKM01',\n",
       " 'S. typhimurium, other: 98, 100, 1535, 1537, 1538',\n",
       " 'S. typhimurium TA 102',\n",
       " 'S. typhimurium TA 97',\n",
       " 'S. typhimurium, other: TA 1964',\n",
       " 'E. coli WP2 uvr A pKM 101',\n",
       " 'other: Klebsiella pneumoniae',\n",
       " 'S. typhimurium, other: TA 1530',\n",
       " 'S. typhimurium, other: TA98, TA100',\n",
       " 'other: Neurospora crassa',\n",
       " 'S. typhimurium TA 1538',\n",
       " 'S. typhimurium, other: TA1535, TA100, TA1537, TA1538, TA98']"
      ]
     },
     "execution_count": 47,
     "metadata": {},
     "output_type": "execute_result"
    }
   ],
   "source": [
    "species_"
   ]
  },
  {
   "cell_type": "code",
   "execution_count": 50,
   "metadata": {},
   "outputs": [],
   "source": [
    "mask = (df_rev['standard_assay_type'] == 'bacterial forward mutation assay') & (df_rev['species'].isin(['Chinese hamster Ovary (CHO)', 'Chinese hamster lung fibroblasts (V79)']))"
   ]
  },
  {
   "cell_type": "code",
   "execution_count": 51,
   "metadata": {},
   "outputs": [],
   "source": [
    "mask2 = (df_rev['standard_assay_type'] == 'bacterial forward mutation assay') & (df_rev['species'] == 'mouse lymphoma L5178Y cells')"
   ]
  },
  {
   "cell_type": "code",
   "execution_count": 57,
   "metadata": {},
   "outputs": [
    {
     "data": {
      "text/plain": [
       "Int64Index([392, 416, 428, 438, 439, 444, 445, 450, 451, 455], dtype='int64')"
      ]
     },
     "execution_count": 57,
     "metadata": {},
     "output_type": "execute_result"
    }
   ],
   "source": [
    "df_rev[mask].index"
   ]
  },
  {
   "cell_type": "code",
   "execution_count": 66,
   "metadata": {},
   "outputs": [],
   "source": [
    "for index in df_rev[mask].index:\n",
    "    if df_rev.loc[index, 'standard_assay_type'] == 'bacterial forward mutation assay':\n",
    "        df_rev.loc[index, 'standard_assay_type'] = 'in vitro mammalian cell gene mutation test using the Hprt and xprt genes'"
   ]
  },
  {
   "cell_type": "code",
   "execution_count": 67,
   "metadata": {},
   "outputs": [],
   "source": [
    "for index in df_rev[mask2].index:\n",
    "    if df_rev.loc[index, 'standard_assay_type'] == 'bacterial forward mutation assay':\n",
    "        df_rev.loc[index, 'standard_assay_type'] = 'in vitro mammalian cell gene mutation test using the thymidine kinase gene'"
   ]
  },
  {
   "cell_type": "markdown",
   "metadata": {},
   "source": [
    "Ames tests incorrectly mapped to yeast and other fungi or mammalian cells"
   ]
  },
  {
   "cell_type": "code",
   "execution_count": 70,
   "metadata": {},
   "outputs": [],
   "source": [
    "species_1 = list(set(df_rev[df_rev['standard_assay_type'] == 'bacterial reverse mutation test']['species'].tolist()))"
   ]
  },
  {
   "cell_type": "code",
   "execution_count": 89,
   "metadata": {},
   "outputs": [
    {
     "data": {
      "text/plain": [
       "['other: WP2P',\n",
       " 'yeast, other: Saccharomyces cerevisiae, D4',\n",
       " 'mammalian cell line, other: In vitro mammalian cell transformation assay',\n",
       " 'other: Bacillus subtilis/: H17(rec+)and M45(Rec-)',\n",
       " 'other: Saccharomyces cerevisiae: D4',\n",
       " 'other: Bacillus subtilis M45 (rec -) and H17 (rec +)',\n",
       " 'other: Saccharomyces cerevisiae, strain 04',\n",
       " 'other: Streptomyces coelicolor A3/hisA1',\n",
       " 'other: Bacillus subtilis/ H17, M45',\n",
       " 'Chinese hamster lung fibroblasts (V79)',\n",
       " 'yeast, other: Saccharomyces cerevisiae D4',\n",
       " 'bacteria, other: BACILLUS SUBTILIS,H17 and M45 rec assay',\n",
       " 'SALMONELLA TYPHIMURIUM',\n",
       " 'Chinese hamster Ovary (CHO)',\n",
       " 'other:',\n",
       " 'other: Saccharomyces cerevisiae D4',\n",
       " 'STREPTOMYCES GRISEOFLAVUS',\n",
       " 'yeast, other: Neurospora crassa',\n",
       " 'BACTERIOPHAGE',\n",
       " 'other: S. typhymurium BA 9',\n",
       " 'other: D3 strain of S. cerevisiae',\n",
       " 'bacteria, other:',\n",
       " 'other: Human gastric lavage and saliva',\n",
       " 'mammalian cell line, other: A Chinese hamster lung fibroblast cell line (CHL)',\n",
       " 'Saccharomyces cerevisiae',\n",
       " 'no data',\n",
       " 'bacteria, other: Bacillus subtilis H 17 (Rec+)nd M45 (Rec-)',\n",
       " 'mouse lymphoma L5178Y cells',\n",
       " 'other: 7001-7006',\n",
       " 'ASPERGILLUS NIDULANS']"
      ]
     },
     "execution_count": 89,
     "metadata": {},
     "output_type": "execute_result"
    }
   ],
   "source": [
    "[e for e in species_1[1:] if not any(x in e for x in ['typhimurium', 'coli', 'TA', 'ESC', 'typhymurium' 'SAL' ]) ]\n"
   ]
  },
  {
   "cell_type": "code",
   "execution_count": 90,
   "metadata": {},
   "outputs": [],
   "source": [
    "mask_ames = (df_rev['standard_assay_type'] == 'bacterial reverse mutation test') & (df_rev['species'].isin([e for e in species_1[1:] if not any(x in e for x in ['typhimurium', 'typhymurium','coli', 'TA', 'ESC', 'SAL' ]) ]))"
   ]
  },
  {
   "cell_type": "code",
   "execution_count": 92,
   "metadata": {},
   "outputs": [],
   "source": [
    "for index in df_rev[mask_ames].index:\n",
    "    if df_rev.loc[index, 'standard_assay_type'] == 'bacterial reverse mutation test':\n",
    "        df_rev.loc[index, 'standard_assay_type'] = 'Other mutation'"
   ]
  },
  {
   "cell_type": "markdown",
   "metadata": {},
   "source": [
    "Some of the mammalian gene mutation assays are mismapped"
   ]
  },
  {
   "cell_type": "code",
   "execution_count": 95,
   "metadata": {},
   "outputs": [],
   "source": [
    "species_2 = list(set(df_rev[df_rev['standard_assay_type'] == 'in vitro mammalian cell gene mutation test']['species'].tolist()))"
   ]
  },
  {
   "cell_type": "code",
   "execution_count": 100,
   "metadata": {},
   "outputs": [],
   "source": [
    "mask_ML = (df_rev['standard_assay_type'] == 'in vitro mammalian cell gene mutation test') & (df_rev['species'].isin([e for e in species_2 if 'L5178Y' in e]))"
   ]
  },
  {
   "cell_type": "code",
   "execution_count": 104,
   "metadata": {},
   "outputs": [],
   "source": [
    "#df_rev[mask_ML]['guideline'].tolist()"
   ]
  },
  {
   "cell_type": "markdown",
   "metadata": {},
   "source": [
    "Looks like the mouse lymphoma cell line corresponds to the right mapping. No change made."
   ]
  },
  {
   "cell_type": "markdown",
   "metadata": {},
   "source": [
    "But it looks like some Ames and other bacterial have filtered through - sigh.."
   ]
  },
  {
   "cell_type": "code",
   "execution_count": 122,
   "metadata": {},
   "outputs": [
    {
     "data": {
      "text/plain": [
       "['other: G46, TA1530', 'Saccharomyces cerevisiae']"
      ]
     },
     "execution_count": 122,
     "metadata": {},
     "output_type": "execute_result"
    }
   ],
   "source": [
    "[e for e in species_2 if any(x in e for x in ['G46', 'Sacc'])]"
   ]
  },
  {
   "cell_type": "code",
   "execution_count": 111,
   "metadata": {},
   "outputs": [],
   "source": [
    "mask_gene = (df_rev['standard_assay_type'] == 'in vitro mammalian cell gene mutation test') & (df_rev['species'].isin([e for e in species_2 if any(x in e for x in ['typhimurium'])]))"
   ]
  },
  {
   "cell_type": "code",
   "execution_count": 117,
   "metadata": {},
   "outputs": [
    {
     "data": {
      "text/plain": [
       "Int64Index([38335, 38337, 38750, 39549, 42524], dtype='int64')"
      ]
     },
     "execution_count": 117,
     "metadata": {},
     "output_type": "execute_result"
    }
   ],
   "source": [
    "df_rev[mask_gene].index"
   ]
  },
  {
   "cell_type": "code",
   "execution_count": 118,
   "metadata": {},
   "outputs": [],
   "source": [
    "for index in df_rev[mask_gene].index:\n",
    "    if df_rev.loc[index, 'standard_assay_type'] == 'Other mutation':\n",
    "        df_rev.loc[index, 'standard_assay_type'] = 'bacterial reverse mutation test'"
   ]
  },
  {
   "cell_type": "code",
   "execution_count": 123,
   "metadata": {},
   "outputs": [],
   "source": [
    "mask_gene2 = (df_rev['standard_assay_type'] == 'in vitro mammalian cell gene mutation test') & (df_rev['species'].isin([e for e in species_2 if any(x in e for x in ['GA', 'Sacc'])]))"
   ]
  },
  {
   "cell_type": "code",
   "execution_count": 124,
   "metadata": {},
   "outputs": [
    {
     "data": {
      "text/html": [
       "<div>\n",
       "<style scoped>\n",
       "    .dataframe tbody tr th:only-of-type {\n",
       "        vertical-align: middle;\n",
       "    }\n",
       "\n",
       "    .dataframe tbody tr th {\n",
       "        vertical-align: top;\n",
       "    }\n",
       "\n",
       "    .dataframe thead th {\n",
       "        text-align: right;\n",
       "    }\n",
       "</style>\n",
       "<table border=\"1\" class=\"dataframe\">\n",
       "  <thead>\n",
       "    <tr style=\"text-align: right;\">\n",
       "      <th></th>\n",
       "      <th>source</th>\n",
       "      <th>name</th>\n",
       "      <th>casrn</th>\n",
       "      <th>assay_category</th>\n",
       "      <th>assay_type</th>\n",
       "      <th>assay_result</th>\n",
       "      <th>species</th>\n",
       "      <th>strain</th>\n",
       "      <th>metabolic_activation</th>\n",
       "      <th>cytotoxicity</th>\n",
       "      <th>...</th>\n",
       "      <th>sex</th>\n",
       "      <th>dose_response</th>\n",
       "      <th>panel_report</th>\n",
       "      <th>glp</th>\n",
       "      <th>guideline</th>\n",
       "      <th>dtxsid</th>\n",
       "      <th>assay_type_standard</th>\n",
       "      <th>standard_assay_type</th>\n",
       "      <th>assay_result_std</th>\n",
       "      <th>assay_outcome</th>\n",
       "    </tr>\n",
       "  </thead>\n",
       "  <tbody>\n",
       "    <tr>\n",
       "      <th>39226</th>\n",
       "      <td>eChemPortal</td>\n",
       "      <td>sodium 1,1,3-trioxo-2,3-dihydro-1H-1λ⁶,2-benzo...</td>\n",
       "      <td>128-44-9</td>\n",
       "      <td>in vitro</td>\n",
       "      <td>mammalian cell gene mutation assay</td>\n",
       "      <td>negative</td>\n",
       "      <td>Saccharomyces cerevisiae</td>\n",
       "      <td>NaN</td>\n",
       "      <td>without</td>\n",
       "      <td>no</td>\n",
       "      <td>...</td>\n",
       "      <td>NaN</td>\n",
       "      <td>NaN</td>\n",
       "      <td>NaN</td>\n",
       "      <td>no data</td>\n",
       "      <td>according to other guideline:</td>\n",
       "      <td>DTXSID5021253</td>\n",
       "      <td>mammalian gene mutation test (in vitro)</td>\n",
       "      <td>in vitro mammalian cell gene mutation test</td>\n",
       "      <td>negative</td>\n",
       "      <td>0</td>\n",
       "    </tr>\n",
       "    <tr>\n",
       "      <th>39229</th>\n",
       "      <td>eChemPortal</td>\n",
       "      <td>sodium 1,1,3-trioxo-2,3-dihydro-1H-1lambda6,2-...</td>\n",
       "      <td>128-44-9</td>\n",
       "      <td>in vitro</td>\n",
       "      <td>mammalian cell gene mutation assay</td>\n",
       "      <td>negative</td>\n",
       "      <td>Saccharomyces cerevisiae</td>\n",
       "      <td>NaN</td>\n",
       "      <td>without</td>\n",
       "      <td>no</td>\n",
       "      <td>...</td>\n",
       "      <td>NaN</td>\n",
       "      <td>NaN</td>\n",
       "      <td>NaN</td>\n",
       "      <td>no data</td>\n",
       "      <td>according to other guideline:</td>\n",
       "      <td>DTXSID5021253</td>\n",
       "      <td>mammalian gene mutation test (in vitro)</td>\n",
       "      <td>in vitro mammalian cell gene mutation test</td>\n",
       "      <td>negative</td>\n",
       "      <td>0</td>\n",
       "    </tr>\n",
       "  </tbody>\n",
       "</table>\n",
       "<p>2 rows × 34 columns</p>\n",
       "</div>"
      ],
      "text/plain": [
       "            source                                               name  \\\n",
       "39226  eChemPortal  sodium 1,1,3-trioxo-2,3-dihydro-1H-1λ⁶,2-benzo...   \n",
       "39229  eChemPortal  sodium 1,1,3-trioxo-2,3-dihydro-1H-1lambda6,2-...   \n",
       "\n",
       "          casrn assay_category                          assay_type  \\\n",
       "39226  128-44-9       in vitro  mammalian cell gene mutation assay   \n",
       "39229  128-44-9       in vitro  mammalian cell gene mutation assay   \n",
       "\n",
       "      assay_result                   species strain metabolic_activation  \\\n",
       "39226     negative  Saccharomyces cerevisiae    NaN              without   \n",
       "39229     negative  Saccharomyces cerevisiae    NaN              without   \n",
       "\n",
       "      cytotoxicity  ...  sex dose_response panel_report      glp  \\\n",
       "39226           no  ...  NaN           NaN          NaN  no data   \n",
       "39229           no  ...  NaN           NaN          NaN  no data   \n",
       "\n",
       "                           guideline         dtxsid  \\\n",
       "39226  according to other guideline:  DTXSID5021253   \n",
       "39229  according to other guideline:  DTXSID5021253   \n",
       "\n",
       "                           assay_type_standard  \\\n",
       "39226  mammalian gene mutation test (in vitro)   \n",
       "39229  mammalian gene mutation test (in vitro)   \n",
       "\n",
       "                              standard_assay_type  assay_result_std  \\\n",
       "39226  in vitro mammalian cell gene mutation test          negative   \n",
       "39229  in vitro mammalian cell gene mutation test          negative   \n",
       "\n",
       "      assay_outcome  \n",
       "39226             0  \n",
       "39229             0  \n",
       "\n",
       "[2 rows x 34 columns]"
      ]
     },
     "execution_count": 124,
     "metadata": {},
     "output_type": "execute_result"
    }
   ],
   "source": [
    "df_rev[mask_gene2]"
   ]
  },
  {
   "cell_type": "code",
   "execution_count": 125,
   "metadata": {},
   "outputs": [],
   "source": [
    "for index in df_rev[mask_gene2].index:\n",
    "    if df_rev.loc[index, 'standard_assay_type'] == 'in vitro mammalian cell gene mutation test':\n",
    "        df_rev.loc[index, 'standard_assay_type'] = 'Other mutation'"
   ]
  },
  {
   "cell_type": "code",
   "execution_count": 127,
   "metadata": {},
   "outputs": [
    {
     "data": {
      "text/html": [
       "<div>\n",
       "<style scoped>\n",
       "    .dataframe tbody tr th:only-of-type {\n",
       "        vertical-align: middle;\n",
       "    }\n",
       "\n",
       "    .dataframe tbody tr th {\n",
       "        vertical-align: top;\n",
       "    }\n",
       "\n",
       "    .dataframe thead th {\n",
       "        text-align: right;\n",
       "    }\n",
       "</style>\n",
       "<table border=\"1\" class=\"dataframe\">\n",
       "  <thead>\n",
       "    <tr style=\"text-align: right;\">\n",
       "      <th></th>\n",
       "      <th>source</th>\n",
       "      <th>name</th>\n",
       "      <th>casrn</th>\n",
       "      <th>assay_category</th>\n",
       "      <th>assay_type</th>\n",
       "      <th>assay_result</th>\n",
       "      <th>species</th>\n",
       "      <th>strain</th>\n",
       "      <th>metabolic_activation</th>\n",
       "      <th>cytotoxicity</th>\n",
       "      <th>...</th>\n",
       "      <th>sex</th>\n",
       "      <th>dose_response</th>\n",
       "      <th>panel_report</th>\n",
       "      <th>glp</th>\n",
       "      <th>guideline</th>\n",
       "      <th>dtxsid</th>\n",
       "      <th>assay_type_standard</th>\n",
       "      <th>standard_assay_type</th>\n",
       "      <th>assay_result_std</th>\n",
       "      <th>assay_outcome</th>\n",
       "    </tr>\n",
       "  </thead>\n",
       "  <tbody>\n",
       "    <tr>\n",
       "      <th>39226</th>\n",
       "      <td>eChemPortal</td>\n",
       "      <td>sodium 1,1,3-trioxo-2,3-dihydro-1H-1λ⁶,2-benzo...</td>\n",
       "      <td>128-44-9</td>\n",
       "      <td>in vitro</td>\n",
       "      <td>mammalian cell gene mutation assay</td>\n",
       "      <td>negative</td>\n",
       "      <td>Saccharomyces cerevisiae</td>\n",
       "      <td>NaN</td>\n",
       "      <td>without</td>\n",
       "      <td>no</td>\n",
       "      <td>...</td>\n",
       "      <td>NaN</td>\n",
       "      <td>NaN</td>\n",
       "      <td>NaN</td>\n",
       "      <td>no data</td>\n",
       "      <td>according to other guideline:</td>\n",
       "      <td>DTXSID5021253</td>\n",
       "      <td>mammalian gene mutation test (in vitro)</td>\n",
       "      <td>Other mutation</td>\n",
       "      <td>negative</td>\n",
       "      <td>0</td>\n",
       "    </tr>\n",
       "    <tr>\n",
       "      <th>39229</th>\n",
       "      <td>eChemPortal</td>\n",
       "      <td>sodium 1,1,3-trioxo-2,3-dihydro-1H-1lambda6,2-...</td>\n",
       "      <td>128-44-9</td>\n",
       "      <td>in vitro</td>\n",
       "      <td>mammalian cell gene mutation assay</td>\n",
       "      <td>negative</td>\n",
       "      <td>Saccharomyces cerevisiae</td>\n",
       "      <td>NaN</td>\n",
       "      <td>without</td>\n",
       "      <td>no</td>\n",
       "      <td>...</td>\n",
       "      <td>NaN</td>\n",
       "      <td>NaN</td>\n",
       "      <td>NaN</td>\n",
       "      <td>no data</td>\n",
       "      <td>according to other guideline:</td>\n",
       "      <td>DTXSID5021253</td>\n",
       "      <td>mammalian gene mutation test (in vitro)</td>\n",
       "      <td>Other mutation</td>\n",
       "      <td>negative</td>\n",
       "      <td>0</td>\n",
       "    </tr>\n",
       "  </tbody>\n",
       "</table>\n",
       "<p>2 rows × 34 columns</p>\n",
       "</div>"
      ],
      "text/plain": [
       "            source                                               name  \\\n",
       "39226  eChemPortal  sodium 1,1,3-trioxo-2,3-dihydro-1H-1λ⁶,2-benzo...   \n",
       "39229  eChemPortal  sodium 1,1,3-trioxo-2,3-dihydro-1H-1lambda6,2-...   \n",
       "\n",
       "          casrn assay_category                          assay_type  \\\n",
       "39226  128-44-9       in vitro  mammalian cell gene mutation assay   \n",
       "39229  128-44-9       in vitro  mammalian cell gene mutation assay   \n",
       "\n",
       "      assay_result                   species strain metabolic_activation  \\\n",
       "39226     negative  Saccharomyces cerevisiae    NaN              without   \n",
       "39229     negative  Saccharomyces cerevisiae    NaN              without   \n",
       "\n",
       "      cytotoxicity  ...  sex dose_response panel_report      glp  \\\n",
       "39226           no  ...  NaN           NaN          NaN  no data   \n",
       "39229           no  ...  NaN           NaN          NaN  no data   \n",
       "\n",
       "                           guideline         dtxsid  \\\n",
       "39226  according to other guideline:  DTXSID5021253   \n",
       "39229  according to other guideline:  DTXSID5021253   \n",
       "\n",
       "                           assay_type_standard  standard_assay_type  \\\n",
       "39226  mammalian gene mutation test (in vitro)       Other mutation   \n",
       "39229  mammalian gene mutation test (in vitro)       Other mutation   \n",
       "\n",
       "       assay_result_std assay_outcome  \n",
       "39226          negative             0  \n",
       "39229          negative             0  \n",
       "\n",
       "[2 rows x 34 columns]"
      ]
     },
     "execution_count": 127,
     "metadata": {},
     "output_type": "execute_result"
    }
   ],
   "source": [
    "df_rev[mask_gene2]"
   ]
  },
  {
   "cell_type": "markdown",
   "metadata": {},
   "source": [
    "Looks like in vitro mammalian cell MN contain other species that are not relevant"
   ]
  },
  {
   "cell_type": "code",
   "execution_count": 128,
   "metadata": {},
   "outputs": [],
   "source": [
    "species_MN = list(set(df_rev[df_rev['standard_assay_type'] == 'in vitro mammalian cell micronucleus test']['species'].tolist()))"
   ]
  },
  {
   "cell_type": "code",
   "execution_count": 133,
   "metadata": {},
   "outputs": [
    {
     "data": {
      "text/plain": [
       "['TRADESCANTIA', 'ALLIUM CEPA (ONION)']"
      ]
     },
     "execution_count": 133,
     "metadata": {},
     "output_type": "execute_result"
    }
   ],
   "source": [
    "[e for e in species_MN[1:] if any(x in e for x in ['TRAD', 'PLANT', 'plant', 'ONION'])]"
   ]
  },
  {
   "cell_type": "code",
   "execution_count": 137,
   "metadata": {},
   "outputs": [],
   "source": [
    "mask_MNivt = (df_rev['standard_assay_type'] == 'in vitro mammalian cell micronucleus test') & (df_rev['species'].isin([e for e in species_MN[1:] if any(x in e for x in ['TRAD', 'PLANT', 'plant', 'ONION'])]))"
   ]
  },
  {
   "cell_type": "code",
   "execution_count": 139,
   "metadata": {},
   "outputs": [],
   "source": [
    "for index in df_rev[mask_MNivt].index:\n",
    "    if df_rev.loc[index, 'standard_assay_type'] == 'in vitro mammalian cell micronucleus test':\n",
    "        df_rev.loc[index, 'standard_assay_type'] = 'chromosome aberrations (plant)'"
   ]
  },
  {
   "cell_type": "code",
   "execution_count": 140,
   "metadata": {},
   "outputs": [],
   "source": [
    "species_CA = list(set(df_rev[df_rev['standard_assay_type'] == 'in vitro mammalian chromosome aberration test']['species'].tolist()))"
   ]
  },
  {
   "cell_type": "code",
   "execution_count": 146,
   "metadata": {},
   "outputs": [],
   "source": [
    "#species_CA"
   ]
  },
  {
   "cell_type": "code",
   "execution_count": 145,
   "metadata": {},
   "outputs": [
    {
     "data": {
      "text/plain": [
       "['ESCHERICHIA COLI',\n",
       " 'BARLEY',\n",
       " 'PLANTS',\n",
       " 'VICIA FABA',\n",
       " 'ASPERGILLUS NIDULANS',\n",
       " 'ALLIUM CEPA (ONION)']"
      ]
     },
     "execution_count": 145,
     "metadata": {},
     "output_type": "execute_result"
    }
   ],
   "source": [
    "[e for e in species_CA[1:] if any(x in e for x in ['TRAD', 'PLANT', 'plant', 'ONION', 'BARLEY', 'VIC', 'ESCHERICHIA COLI', 'ASP', 'BAC', 'bacc'])]"
   ]
  },
  {
   "cell_type": "code",
   "execution_count": 147,
   "metadata": {},
   "outputs": [],
   "source": [
    "mask_CAivt = (df_rev['standard_assay_type'] == 'in vitro mammalian chromosome aberration test') & (df_rev['species'].isin([e for e in species_CA[1:] if any(x in e for x in ['TRAD', 'PLANT', 'plant', 'ONION', 'BARLEY', 'VIC'])]))"
   ]
  },
  {
   "cell_type": "code",
   "execution_count": 149,
   "metadata": {},
   "outputs": [],
   "source": [
    "for index in df_rev[mask_CAivt].index:\n",
    "    if df_rev.loc[index, 'standard_assay_type'] == 'in vitro mammalian chromosome aberration test':\n",
    "        df_rev.loc[index, 'standard_assay_type'] = 'chromosome aberrations (plant)'"
   ]
  },
  {
   "cell_type": "code",
   "execution_count": 153,
   "metadata": {},
   "outputs": [],
   "source": [
    "mask_CAivt2 = (df_rev['standard_assay_type'] == 'in vitro mammalian chromosome aberration test') & (df_rev['species'].isin([e for e in species_CA[1:] if any(x in e for x in ['ESCHERICHIA COLI', 'SACC','ASP', 'BAC', 'bacc'])]))"
   ]
  },
  {
   "cell_type": "code",
   "execution_count": 154,
   "metadata": {},
   "outputs": [],
   "source": [
    "for index in df_rev[mask_CAivt2].index:\n",
    "    if df_rev.loc[index, 'standard_assay_type'] == 'in vitro mammalian chromosome aberration test':\n",
    "        df_rev.loc[index, 'standard_assay_type'] = 'Other chromosomal aberration'"
   ]
  },
  {
   "cell_type": "code",
   "execution_count": 156,
   "metadata": {},
   "outputs": [],
   "source": [
    "#df_rev[mask_CAivt2]"
   ]
  },
  {
   "cell_type": "code",
   "execution_count": 157,
   "metadata": {},
   "outputs": [],
   "source": [
    "species_CAiv = list(set(df_rev[df_rev['standard_assay_type'] == 'in vivo chromosome aberrations']['species'].tolist()))"
   ]
  },
  {
   "cell_type": "code",
   "execution_count": 159,
   "metadata": {},
   "outputs": [],
   "source": [
    "mask_CAiv = (df_rev['standard_assay_type'] == 'in vivo chromosome aberrations') & (df_rev['species'].isin([e for e in species_CAiv[1:] if any(x in e for x in ['PLANTS', 'BARL','ONIO'])]))"
   ]
  },
  {
   "cell_type": "code",
   "execution_count": 161,
   "metadata": {},
   "outputs": [],
   "source": [
    "for index in df_rev[mask_CAiv].index:\n",
    "    if df_rev.loc[index, 'standard_assay_type'] == 'in vivo chromosome aberrations':\n",
    "        df_rev.loc[index, 'standard_assay_type'] = 'chromosome aberrations (plant)'"
   ]
  },
  {
   "cell_type": "code",
   "execution_count": 163,
   "metadata": {},
   "outputs": [],
   "source": [
    "mask_CAiv2 = (df_rev['standard_assay_type'] == 'in vivo chromosome aberrations') & (df_rev['species'].isin([e for e in species_CAiv[1:] if any(x in e for x in ['ESCHERIC', 'typh', 'bacc','DROS','Coli'])]))"
   ]
  },
  {
   "cell_type": "code",
   "execution_count": 164,
   "metadata": {},
   "outputs": [],
   "source": [
    "for index in df_rev[mask_CAiv2].index:\n",
    "    if df_rev.loc[index, 'standard_assay_type'] == 'in vivo chromosome aberrations':\n",
    "        df_rev.loc[index, 'standard_assay_type'] = 'Other chromosomal aberration'"
   ]
  },
  {
   "cell_type": "code",
   "execution_count": 167,
   "metadata": {},
   "outputs": [],
   "source": [
    "species_MNiv = list(set(df_rev[df_rev['standard_assay_type'] == 'in vivo micronucleus test']['species'].tolist()))"
   ]
  },
  {
   "cell_type": "code",
   "execution_count": 169,
   "metadata": {},
   "outputs": [],
   "source": [
    "mask_MNiv = (df_rev['standard_assay_type'] == 'in vivo micronucleus test') & (df_rev['species'].isin([e for e in species_MNiv[1:] if any(x in e for x in ['PLANTS', 'PLANT','VIC', 'Vic', 'Plant', 'BARL','ONIO'])]))"
   ]
  },
  {
   "cell_type": "code",
   "execution_count": 170,
   "metadata": {},
   "outputs": [],
   "source": [
    "for index in df_rev[mask_MNiv].index:\n",
    "    if df_rev.loc[index, 'standard_assay_type'] == 'in vivo micronucleus test':\n",
    "        df_rev.loc[index, 'standard_assay_type'] = 'chromosome aberrations (plant)'"
   ]
  },
  {
   "cell_type": "code",
   "execution_count": 171,
   "metadata": {},
   "outputs": [],
   "source": [
    "mask_MNiv2 = (df_rev['standard_assay_type'] == 'in vivo micronucleus test') & (df_rev['species'].isin([e for e in species_MNiv[1:] if any(x in e for x in ['ESCHERIC', 'typh', 'bacc','DROS','Coli'])]))"
   ]
  },
  {
   "cell_type": "code",
   "execution_count": 172,
   "metadata": {},
   "outputs": [],
   "source": [
    "for index in df_rev[mask_MNiv2].index:\n",
    "    if df_rev.loc[index, 'standard_assay_type'] == 'in vivo micronucleus test':\n",
    "        df_rev.loc[index, 'standard_assay_type'] = 'Other chromosomal aberration'"
   ]
  },
  {
   "cell_type": "markdown",
   "metadata": {},
   "source": [
    "Other chromosomal aberrations to abberration typo"
   ]
  },
  {
   "cell_type": "code",
   "execution_count": 175,
   "metadata": {},
   "outputs": [],
   "source": [
    "for index in df_rev[df_rev['standard_assay_type'] == 'Other chromosomal aberrations'].index:\n",
    "    df_rev.loc[index, 'standard_assay_type'] = 'Other chromosomal aberration'"
   ]
  },
  {
   "cell_type": "markdown",
   "metadata": {},
   "source": [
    "Change 2 assay names: pol A and Rec assay"
   ]
  },
  {
   "cell_type": "code",
   "execution_count": 178,
   "metadata": {},
   "outputs": [],
   "source": [
    "for index in df_rev[(df_rev['standard_assay_type'] == 'pol_A assay') | (df_rev['standard_assay_type'] == 'Rec assay') ].index:\n",
    "    df_rev.loc[index, 'standard_assay_type'] = 'DNA damage/repair'"
   ]
  },
  {
   "cell_type": "code",
   "execution_count": 179,
   "metadata": {},
   "outputs": [],
   "source": [
    "# Create a Pandas Excel writer using XlsxWriter as the engine.\n",
    "writer = pd.ExcelWriter(processed_dat_dir+'genetox_merged_110221_all_revised.xlsx', engine='xlsxwriter')\n",
    "\n",
    "# Convert the dataframe to an XlsxWriter Excel object.\n",
    "df_rev.to_excel(writer, sheet_name='all_genetox_data')\n",
    "\n",
    "# Close the Pandas Excel writer and output the Excel file.\n",
    "writer.save()"
   ]
  },
  {
   "cell_type": "code",
   "execution_count": 183,
   "metadata": {},
   "outputs": [],
   "source": [
    "df = df_rev.copy()"
   ]
  },
  {
   "cell_type": "code",
   "execution_count": 186,
   "metadata": {},
   "outputs": [],
   "source": [
    "df.drop(['assay_type_standard'], axis = 1, inplace = True)"
   ]
  },
  {
   "cell_type": "code",
   "execution_count": 187,
   "metadata": {},
   "outputs": [
    {
     "data": {
      "text/plain": [
       "array(['bacterial fluctuation assay', 'DNA damage/repair',\n",
       "       'bacterial forward mutation assay',\n",
       "       'in vitro mammalian cell gene mutation test using the Hprt and xprt genes',\n",
       "       'in vitro mammalian cell gene mutation test using the thymidine kinase gene',\n",
       "       'bacterial reverse mutation test', 'Other mutation', 'Other',\n",
       "       'in vitro mammalian chromosome aberration test',\n",
       "       'in vivo chromosome aberrations', 'cytotoxicity',\n",
       "       'Drosophila sex-linked recessive lethal (SLRL) test',\n",
       "       'chromosome aberrations (plant)', 'Other chromosomal aberration',\n",
       "       'in vivo micronucleus test',\n",
       "       'in vitro mammalian cell gene mutation test',\n",
       "       'transgenic rodent somatic and germ cell gene mutation assays (TGR)',\n",
       "       'rodent dominant lethal assay',\n",
       "       'in vitro mammalian cell micronucleus test', nan], dtype=object)"
      ]
     },
     "execution_count": 187,
     "metadata": {},
     "output_type": "execute_result"
    }
   ],
   "source": [
    "df.standard_assay_type.unique()"
   ]
  },
  {
   "cell_type": "markdown",
   "metadata": {},
   "source": [
    "Creating an aggregate study type based on the standardised assay types"
   ]
  },
  {
   "cell_type": "code",
   "execution_count": 188,
   "metadata": {},
   "outputs": [],
   "source": [
    "df['aggregate_study_type'] =df['standard_assay_type']"
   ]
  },
  {
   "cell_type": "code",
   "execution_count": 190,
   "metadata": {},
   "outputs": [],
   "source": [
    "tag_aggregate= {'bacterial fluctuation assay': 'other', \n",
    "              'DNA damage/repair' : 'DNA damage/repair',\n",
    "       'bacterial forward mutation assay' : 'other',\n",
    "       'in vitro mammalian cell gene mutation test using the Hprt and xprt genes' : 'ivt_gene_mutation',\n",
    "       'in vitro mammalian cell gene mutation test using the thymidine kinase gene': 'MLA',\n",
    "       'bacterial reverse mutation test': 'Ames', \n",
    "        'Other mutation':'other', \n",
    "        'Other':'other',\n",
    "       'in vitro mammalian chromosome aberration test' : 'ivtCA',\n",
    "       'in vivo chromosome aberrations': 'ivCA', \n",
    "        'cytotoxicity' : 'other',\n",
    "       'Drosophila sex-linked recessive lethal (SLRL) test' : 'other',\n",
    "       'chromosome aberrations (plant)':'other', \n",
    "        'Other chromosomal aberration':'other',\n",
    "       'in vivo micronucleus test' : 'ivMN',\n",
    "       'in vitro mammalian cell gene mutation test' : 'ivt_gene_mutation',\n",
    "       'transgenic rodent somatic and germ cell gene mutation assays (TGR)' : 'TGR',\n",
    "       'rodent dominant lethal assay': 'DLT',\n",
    "       'in vitro mammalian cell micronucleus test' : 'ivtMN', \n",
    "               }"
   ]
  },
  {
   "cell_type": "code",
   "execution_count": 191,
   "metadata": {},
   "outputs": [],
   "source": [
    "df['aggregate_study_type'].replace(tag_aggregate , inplace = True)"
   ]
  },
  {
   "cell_type": "code",
   "execution_count": 197,
   "metadata": {},
   "outputs": [],
   "source": [
    "tag_simple = {'other': 'other', 'ivtCA': 'clastogen', 'ivtMN': 'clastogen', 'DNA damage/repair': 'other', 'ivCA': 'clastogen', 'ivMNT': 'clastogen',\n",
    "       'Ames': 'Ames', 'ivt_gene_mutation': 'gene_mutation', 'MLA': 'clastogen', 'DLT': 'clastogen', 'TGR': 'clastogen', 'ivMN' :'clastogen' }"
   ]
  },
  {
   "cell_type": "code",
   "execution_count": 198,
   "metadata": {},
   "outputs": [],
   "source": [
    "df['simple_aggregate'] = df['aggregate_study_type']"
   ]
  },
  {
   "cell_type": "code",
   "execution_count": 199,
   "metadata": {},
   "outputs": [],
   "source": [
    "df['simple_aggregate'].replace(tag_simple , inplace = True)"
   ]
  },
  {
   "cell_type": "code",
   "execution_count": 245,
   "metadata": {},
   "outputs": [
    {
     "data": {
      "text/plain": [
       "array(['other', 'gene_mutation', 'clastogen', 'Ames'], dtype=object)"
      ]
     },
     "execution_count": 245,
     "metadata": {},
     "output_type": "execute_result"
    }
   ],
   "source": [
    "df.simple_aggregate.unique()"
   ]
  },
  {
   "cell_type": "markdown",
   "metadata": {},
   "source": [
    "There seem to be still some nans unaccounted for."
   ]
  },
  {
   "cell_type": "code",
   "execution_count": 205,
   "metadata": {},
   "outputs": [],
   "source": [
    "for index in df.loc[(df['aggregate_study_type'].isnull()) & (df['standard_assay_type'].isnull()) & (df['simple_aggregate'].isnull())].index:\n",
    "    df.loc[index, 'standard_assay_type'] = 'Other'\n",
    "    df.loc[index, 'aggregate_study_type'] = 'other'\n",
    "    df.loc[index, 'simple_aggregate'] = 'other'"
   ]
  },
  {
   "cell_type": "code",
   "execution_count": 209,
   "metadata": {},
   "outputs": [
    {
     "data": {
      "text/plain": [
       "array(['other', 'gene_mutation', 'clastogen', 'Ames'], dtype=object)"
      ]
     },
     "execution_count": 209,
     "metadata": {},
     "output_type": "execute_result"
    }
   ],
   "source": [
    "df.simple_aggregate.unique()"
   ]
  },
  {
   "cell_type": "code",
   "execution_count": 210,
   "metadata": {},
   "outputs": [
    {
     "data": {
      "text/html": [
       "<div>\n",
       "<style scoped>\n",
       "    .dataframe tbody tr th:only-of-type {\n",
       "        vertical-align: middle;\n",
       "    }\n",
       "\n",
       "    .dataframe tbody tr th {\n",
       "        vertical-align: top;\n",
       "    }\n",
       "\n",
       "    .dataframe thead th {\n",
       "        text-align: right;\n",
       "    }\n",
       "</style>\n",
       "<table border=\"1\" class=\"dataframe\">\n",
       "  <thead>\n",
       "    <tr style=\"text-align: right;\">\n",
       "      <th></th>\n",
       "      <th>source</th>\n",
       "      <th>name</th>\n",
       "      <th>casrn</th>\n",
       "      <th>assay_category</th>\n",
       "      <th>assay_type</th>\n",
       "      <th>assay_result</th>\n",
       "      <th>species</th>\n",
       "      <th>strain</th>\n",
       "      <th>metabolic_activation</th>\n",
       "      <th>cytotoxicity</th>\n",
       "      <th>...</th>\n",
       "      <th>dose_response</th>\n",
       "      <th>panel_report</th>\n",
       "      <th>glp</th>\n",
       "      <th>guideline</th>\n",
       "      <th>dtxsid</th>\n",
       "      <th>standard_assay_type</th>\n",
       "      <th>assay_result_std</th>\n",
       "      <th>assay_outcome</th>\n",
       "      <th>aggregate_study_type</th>\n",
       "      <th>simple_aggregate</th>\n",
       "    </tr>\n",
       "  </thead>\n",
       "  <tbody>\n",
       "    <tr>\n",
       "      <th>0</th>\n",
       "      <td>eChemPortal</td>\n",
       "      <td>1,3,5-trinitro-1,3,5-triazinane</td>\n",
       "      <td>121-82-4</td>\n",
       "      <td>in vitro</td>\n",
       "      <td>fluctuation test</td>\n",
       "      <td>negative</td>\n",
       "      <td>S. typhimurium TA 98</td>\n",
       "      <td>NaN</td>\n",
       "      <td>with and without</td>\n",
       "      <td>not determined</td>\n",
       "      <td>...</td>\n",
       "      <td>NaN</td>\n",
       "      <td>NaN</td>\n",
       "      <td>no data</td>\n",
       "      <td>equivalent or similar to OECD Guideline 471 (B...</td>\n",
       "      <td>DTXSID9024142</td>\n",
       "      <td>bacterial fluctuation assay</td>\n",
       "      <td>negative</td>\n",
       "      <td>0</td>\n",
       "      <td>other</td>\n",
       "      <td>other</td>\n",
       "    </tr>\n",
       "    <tr>\n",
       "      <th>1</th>\n",
       "      <td>eChemPortal</td>\n",
       "      <td>1,3,5-trinitro-1,3,5-triazinane</td>\n",
       "      <td>121-82-4</td>\n",
       "      <td>in vitro</td>\n",
       "      <td>fluctuation test</td>\n",
       "      <td>negative</td>\n",
       "      <td>S. typhimurium TA 100</td>\n",
       "      <td>NaN</td>\n",
       "      <td>with and without</td>\n",
       "      <td>not determined</td>\n",
       "      <td>...</td>\n",
       "      <td>NaN</td>\n",
       "      <td>NaN</td>\n",
       "      <td>no data</td>\n",
       "      <td>equivalent or similar to OECD Guideline 471 (B...</td>\n",
       "      <td>DTXSID9024142</td>\n",
       "      <td>bacterial fluctuation assay</td>\n",
       "      <td>negative</td>\n",
       "      <td>0</td>\n",
       "      <td>other</td>\n",
       "      <td>other</td>\n",
       "    </tr>\n",
       "    <tr>\n",
       "      <th>2</th>\n",
       "      <td>eChemPortal</td>\n",
       "      <td>1,3,5-trinitro-1,3,5-triazinane</td>\n",
       "      <td>121-82-4</td>\n",
       "      <td>in vitro</td>\n",
       "      <td>fluctuation test</td>\n",
       "      <td>negative</td>\n",
       "      <td>S. typhimurium TA 98</td>\n",
       "      <td>NaN</td>\n",
       "      <td>with and without</td>\n",
       "      <td>not determined</td>\n",
       "      <td>...</td>\n",
       "      <td>NaN</td>\n",
       "      <td>NaN</td>\n",
       "      <td>no data</td>\n",
       "      <td>equivalent or similar to OECD Guideline 471 (B...</td>\n",
       "      <td>DTXSID9024142</td>\n",
       "      <td>bacterial fluctuation assay</td>\n",
       "      <td>negative</td>\n",
       "      <td>0</td>\n",
       "      <td>other</td>\n",
       "      <td>other</td>\n",
       "    </tr>\n",
       "    <tr>\n",
       "      <th>3</th>\n",
       "      <td>eChemPortal</td>\n",
       "      <td>nickel(2+) dichloride</td>\n",
       "      <td>7718-54-9</td>\n",
       "      <td>in vitro</td>\n",
       "      <td>bacterial fluctuation assay</td>\n",
       "      <td>negative</td>\n",
       "      <td>other: E. coli strains WP2+, WP2-, WP6, WP67, ...</td>\n",
       "      <td>NaN</td>\n",
       "      <td>with</td>\n",
       "      <td>yes</td>\n",
       "      <td>...</td>\n",
       "      <td>NaN</td>\n",
       "      <td>NaN</td>\n",
       "      <td>no data</td>\n",
       "      <td>according to other guideline: Gatehouse 1978 (...</td>\n",
       "      <td>DTXSID7040316</td>\n",
       "      <td>bacterial fluctuation assay</td>\n",
       "      <td>negative</td>\n",
       "      <td>0</td>\n",
       "      <td>other</td>\n",
       "      <td>other</td>\n",
       "    </tr>\n",
       "    <tr>\n",
       "      <th>4</th>\n",
       "      <td>eChemPortal</td>\n",
       "      <td>nickel(2+) ion dichloride</td>\n",
       "      <td>7718-54-9</td>\n",
       "      <td>in vitro</td>\n",
       "      <td>bacterial fluctuation assay</td>\n",
       "      <td>negative</td>\n",
       "      <td>other: E. coli strains WP2+, WP2-, WP6, WP67, ...</td>\n",
       "      <td>NaN</td>\n",
       "      <td>with</td>\n",
       "      <td>yes</td>\n",
       "      <td>...</td>\n",
       "      <td>NaN</td>\n",
       "      <td>NaN</td>\n",
       "      <td>no data</td>\n",
       "      <td>according to other guideline: Gatehouse 1978 (...</td>\n",
       "      <td>DTXSID7040316</td>\n",
       "      <td>bacterial fluctuation assay</td>\n",
       "      <td>negative</td>\n",
       "      <td>0</td>\n",
       "      <td>other</td>\n",
       "      <td>other</td>\n",
       "    </tr>\n",
       "  </tbody>\n",
       "</table>\n",
       "<p>5 rows × 35 columns</p>\n",
       "</div>"
      ],
      "text/plain": [
       "        source                             name      casrn assay_category  \\\n",
       "0  eChemPortal  1,3,5-trinitro-1,3,5-triazinane   121-82-4       in vitro   \n",
       "1  eChemPortal  1,3,5-trinitro-1,3,5-triazinane   121-82-4       in vitro   \n",
       "2  eChemPortal  1,3,5-trinitro-1,3,5-triazinane   121-82-4       in vitro   \n",
       "3  eChemPortal            nickel(2+) dichloride  7718-54-9       in vitro   \n",
       "4  eChemPortal        nickel(2+) ion dichloride  7718-54-9       in vitro   \n",
       "\n",
       "                    assay_type assay_result  \\\n",
       "0             fluctuation test     negative   \n",
       "1             fluctuation test     negative   \n",
       "2             fluctuation test     negative   \n",
       "3  bacterial fluctuation assay     negative   \n",
       "4  bacterial fluctuation assay     negative   \n",
       "\n",
       "                                             species strain  \\\n",
       "0                               S. typhimurium TA 98    NaN   \n",
       "1                              S. typhimurium TA 100    NaN   \n",
       "2                               S. typhimurium TA 98    NaN   \n",
       "3  other: E. coli strains WP2+, WP2-, WP6, WP67, ...    NaN   \n",
       "4  other: E. coli strains WP2+, WP2-, WP6, WP67, ...    NaN   \n",
       "\n",
       "  metabolic_activation    cytotoxicity  ... dose_response panel_report  \\\n",
       "0     with and without  not determined  ...           NaN          NaN   \n",
       "1     with and without  not determined  ...           NaN          NaN   \n",
       "2     with and without  not determined  ...           NaN          NaN   \n",
       "3                 with             yes  ...           NaN          NaN   \n",
       "4                 with             yes  ...           NaN          NaN   \n",
       "\n",
       "       glp                                          guideline         dtxsid  \\\n",
       "0  no data  equivalent or similar to OECD Guideline 471 (B...  DTXSID9024142   \n",
       "1  no data  equivalent or similar to OECD Guideline 471 (B...  DTXSID9024142   \n",
       "2  no data  equivalent or similar to OECD Guideline 471 (B...  DTXSID9024142   \n",
       "3  no data  according to other guideline: Gatehouse 1978 (...  DTXSID7040316   \n",
       "4  no data  according to other guideline: Gatehouse 1978 (...  DTXSID7040316   \n",
       "\n",
       "           standard_assay_type assay_result_std  assay_outcome  \\\n",
       "0  bacterial fluctuation assay         negative              0   \n",
       "1  bacterial fluctuation assay         negative              0   \n",
       "2  bacterial fluctuation assay         negative              0   \n",
       "3  bacterial fluctuation assay         negative              0   \n",
       "4  bacterial fluctuation assay         negative              0   \n",
       "\n",
       "   aggregate_study_type simple_aggregate  \n",
       "0                 other            other  \n",
       "1                 other            other  \n",
       "2                 other            other  \n",
       "3                 other            other  \n",
       "4                 other            other  \n",
       "\n",
       "[5 rows x 35 columns]"
      ]
     },
     "execution_count": 210,
     "metadata": {},
     "output_type": "execute_result"
    }
   ],
   "source": [
    "df.head()"
   ]
  },
  {
   "cell_type": "markdown",
   "metadata": {},
   "source": [
    "Final dataset created - manual check completed."
   ]
  },
  {
   "cell_type": "code",
   "execution_count": 211,
   "metadata": {},
   "outputs": [],
   "source": [
    "# Create a Pandas Excel writer using XlsxWriter as the engine.\n",
    "writer = pd.ExcelWriter(processed_dat_dir+'genetox_merged_110221_final.xlsx', engine='xlsxwriter')\n",
    "\n",
    "# Convert the dataframe to an XlsxWriter Excel object.\n",
    "df.to_excel(writer, sheet_name='all_genetox_data')\n",
    "\n",
    "# Close the Pandas Excel writer and output the Excel file.\n",
    "writer.save()"
   ]
  },
  {
   "cell_type": "code",
   "execution_count": 213,
   "metadata": {},
   "outputs": [
    {
     "data": {
      "text/plain": [
       "(54805, 35)"
      ]
     },
     "execution_count": 213,
     "metadata": {},
     "output_type": "execute_result"
    }
   ],
   "source": [
    "df.shape"
   ]
  },
  {
   "cell_type": "code",
   "execution_count": 214,
   "metadata": {},
   "outputs": [
    {
     "data": {
      "text/plain": [
       "(54805, 35)"
      ]
     },
     "execution_count": 214,
     "metadata": {},
     "output_type": "execute_result"
    }
   ],
   "source": [
    "df.shape"
   ]
  },
  {
   "cell_type": "code",
   "execution_count": 215,
   "metadata": {},
   "outputs": [
    {
     "data": {
      "text/plain": [
       "9299"
      ]
     },
     "execution_count": 215,
     "metadata": {},
     "output_type": "execute_result"
    }
   ],
   "source": [
    "df.dtxsid.nunique()"
   ]
  },
  {
   "cell_type": "code",
   "execution_count": 217,
   "metadata": {},
   "outputs": [
    {
     "data": {
      "text/plain": [
       "Index(['source', 'name', 'casrn', 'assay_category', 'assay_type',\n",
       "       'assay_result', 'species', 'strain', 'metabolic_activation',\n",
       "       'cytotoxicity', 'data_quality', 'reference', 'year', 'document_source',\n",
       "       'duration', 'assay_potency', 'comment', 'document_number', 'title',\n",
       "       'genetox_results', 'reference_url', 'genetox_note', 'protocol_era',\n",
       "       'assay_code', 'sex', 'dose_response', 'panel_report', 'glp',\n",
       "       'guideline', 'dtxsid', 'standard_assay_type', 'assay_result_std',\n",
       "       'assay_outcome', 'aggregate_study_type', 'simple_aggregate'],\n",
       "      dtype='object')"
      ]
     },
     "execution_count": 217,
     "metadata": {},
     "output_type": "execute_result"
    }
   ],
   "source": [
    "df.columns"
   ]
  },
  {
   "cell_type": "code",
   "execution_count": 226,
   "metadata": {},
   "outputs": [
    {
     "data": {
      "text/plain": [
       "eChemPortal           38453\n",
       "TOXNET                 5986\n",
       "COSMOS                 4403\n",
       "NTP                    2904\n",
       "Kirkland_2005_2011     1667\n",
       "US_NTP                  749\n",
       "SCCS                    185\n",
       "CSCL_ISHL               174\n",
       "ECHA                    108\n",
       "CosE                     96\n",
       "EFSA                     52\n",
       "ISSTox                   21\n",
       "BASF                      7\n",
       "Name: source, dtype: int64"
      ]
     },
     "execution_count": 226,
     "metadata": {},
     "output_type": "execute_result"
    }
   ],
   "source": [
    "df.source.value_counts()"
   ]
  },
  {
   "cell_type": "code",
   "execution_count": 222,
   "metadata": {},
   "outputs": [],
   "source": [
    "df['source_aggregate'] = df['source']"
   ]
  },
  {
   "cell_type": "code",
   "execution_count": 231,
   "metadata": {},
   "outputs": [],
   "source": [
    "tag_source = {'eChemPortal' : 'eChemPortal' ,\n",
    " 'TOXNET':'TOXNET',\n",
    " 'COSMOS': 'COSMOS',\n",
    " 'EFSA':'ECVAM',\n",
    " 'Kirkland_2005_2011' : 'ECVAM',\n",
    " 'US_NTP': 'ECVAM',\n",
    " 'SCCS': 'ECVAM',\n",
    " 'CosE': 'ECVAM',\n",
    " 'ECHA': 'ECVAM',\n",
    " 'ISSTox': 'ECVAM',\n",
    " 'BASF': 'ECVAM',\n",
    " 'NTP': 'NTP',\n",
    " 'CSCL_ISHL': 'ECVAM'}"
   ]
  },
  {
   "cell_type": "code",
   "execution_count": 232,
   "metadata": {},
   "outputs": [],
   "source": [
    "df['source_aggregate'].replace(tag_source, inplace = True)"
   ]
  },
  {
   "cell_type": "markdown",
   "metadata": {},
   "source": [
    "#### Section 2.1 Dataset described in the manuscript"
   ]
  },
  {
   "cell_type": "code",
   "execution_count": 233,
   "metadata": {},
   "outputs": [
    {
     "data": {
      "text/plain": [
       "eChemPortal    38453\n",
       "TOXNET          5986\n",
       "COSMOS          4403\n",
       "ECVAM           3059\n",
       "NTP             2904\n",
       "Name: source_aggregate, dtype: int64"
      ]
     },
     "execution_count": 233,
     "metadata": {},
     "output_type": "execute_result"
    }
   ],
   "source": [
    "df.source_aggregate.value_counts()"
   ]
  },
  {
   "cell_type": "code",
   "execution_count": 237,
   "metadata": {},
   "outputs": [],
   "source": [
    "echemportal_ids = df[df['source_aggregate'] == 'eChemPortal']['dtxsid'].tolist()\n",
    "TOXNET_ids = df[df['source_aggregate'] == 'TOXNET']['dtxsid'].tolist()\n",
    "COSMOS_ids = df[df['source_aggregate'] == 'COSMOS']['dtxsid'].tolist()\n",
    "ECVAM_ids = df[df['source_aggregate'] == 'ECVAM']['dtxsid'].tolist()\n",
    "NTP_ids = df[df['source_aggregate'] == 'NTP']['dtxsid'].tolist()"
   ]
  },
  {
   "cell_type": "markdown",
   "metadata": {},
   "source": [
    "#### Overlap between inventories: Table 1 - new for revised submission to provide some information about the coverage and overlap between the data sources used in the analysis"
   ]
  },
  {
   "cell_type": "code",
   "execution_count": 240,
   "metadata": {},
   "outputs": [
    {
     "name": "stdout",
     "output_type": "stream",
     "text": [
      "38453\n",
      "4132\n",
      "2293\n",
      "1830\n",
      "7614\n"
     ]
    }
   ],
   "source": [
    "print(len([e for e in echemportal_ids if e in echemportal_ids]))\n",
    "print(len([e for e in echemportal_ids if e in TOXNET_ids]))\n",
    "print(len([e for e in echemportal_ids if e in COSMOS_ids]))\n",
    "print(len([e for e in echemportal_ids if e in ECVAM_ids]))\n",
    "print(len([e for e in echemportal_ids if e in NTP_ids]))\n",
    "#print(len[e for e in echemportal_ids if e in echemportal_ids])\n",
    "#print(len[e for e in echemportal_ids if e in echemportal_ids])\n",
    "#print(len[e for e in echemportal_ids if e in echemportal_ids])"
   ]
  },
  {
   "cell_type": "code",
   "execution_count": 241,
   "metadata": {},
   "outputs": [
    {
     "name": "stdout",
     "output_type": "stream",
     "text": [
      "1259\n",
      "811\n",
      "225\n",
      "477\n",
      "2904\n"
     ]
    }
   ],
   "source": [
    "print(len([e for e in NTP_ids if e in echemportal_ids]))\n",
    "print(len([e for e in NTP_ids if e in TOXNET_ids]))\n",
    "print(len([e for e in NTP_ids if e in COSMOS_ids]))\n",
    "print(len([e for e in NTP_ids if e in ECVAM_ids]))\n",
    "print(len([e for e in NTP_ids if e in NTP_ids]))"
   ]
  },
  {
   "cell_type": "code",
   "execution_count": 242,
   "metadata": {},
   "outputs": [
    {
     "name": "stdout",
     "output_type": "stream",
     "text": [
      "1338\n",
      "5986\n",
      "259\n",
      "2421\n",
      "2619\n"
     ]
    }
   ],
   "source": [
    "print(len([e for e in TOXNET_ids if e in echemportal_ids]))\n",
    "print(len([e for e in TOXNET_ids if e in TOXNET_ids]))\n",
    "print(len([e for e in TOXNET_ids if e in COSMOS_ids]))\n",
    "print(len([e for e in TOXNET_ids if e in ECVAM_ids]))\n",
    "print(len([e for e in TOXNET_ids if e in NTP_ids]))"
   ]
  },
  {
   "cell_type": "code",
   "execution_count": 243,
   "metadata": {},
   "outputs": [
    {
     "name": "stdout",
     "output_type": "stream",
     "text": [
      "3346\n",
      "2471\n",
      "4403\n",
      "589\n",
      "2583\n"
     ]
    }
   ],
   "source": [
    "print(len([e for e in COSMOS_ids if e in echemportal_ids]))\n",
    "print(len([e for e in COSMOS_ids if e in TOXNET_ids]))\n",
    "print(len([e for e in COSMOS_ids if e in COSMOS_ids]))\n",
    "print(len([e for e in COSMOS_ids if e in ECVAM_ids]))\n",
    "print(len([e for e in COSMOS_ids if e in NTP_ids]))"
   ]
  },
  {
   "cell_type": "code",
   "execution_count": 244,
   "metadata": {},
   "outputs": [
    {
     "name": "stdout",
     "output_type": "stream",
     "text": [
      "1041\n",
      "1993\n",
      "94\n",
      "3059\n",
      "1957\n"
     ]
    }
   ],
   "source": [
    "print(len([e for e in ECVAM_ids if e in echemportal_ids]))\n",
    "print(len([e for e in ECVAM_ids if e in TOXNET_ids]))\n",
    "print(len([e for e in ECVAM_ids if e in COSMOS_ids]))\n",
    "print(len([e for e in ECVAM_ids if e in ECVAM_ids]))\n",
    "print(len([e for e in ECVAM_ids if e in NTP_ids]))"
   ]
  },
  {
   "cell_type": "markdown",
   "metadata": {},
   "source": [
    "##### How many chemicals and records where there are just Ames and clastogenicity data"
   ]
  },
  {
   "cell_type": "code",
   "execution_count": 247,
   "metadata": {},
   "outputs": [
    {
     "name": "stdout",
     "output_type": "stream",
     "text": [
      "(39507, 36)\n",
      "8442\n"
     ]
    }
   ],
   "source": [
    "mask_ames_CA = (df['simple_aggregate'] == 'Ames')| (df['simple_aggregate'] =='clastogen')\n"
   ]
  },
  {
   "cell_type": "code",
   "execution_count": 250,
   "metadata": {},
   "outputs": [
    {
     "name": "stdout",
     "output_type": "stream",
     "text": [
      "There are 39507 Ames and clastogenicity records in the database.\n",
      "There are 8442 unique substances in this filtered dataset.\n"
     ]
    }
   ],
   "source": [
    "print('There are {} Ames and clastogenicity records in the database.'.format(df[mask_ames_CA].shape[0]))\n",
    "print('There are {} unique substances in this filtered dataset.'.format(df[mask_ames_CA]['dtxsid'].nunique()))"
   ]
  },
  {
   "cell_type": "code",
   "execution_count": 252,
   "metadata": {},
   "outputs": [
    {
     "data": {
      "text/plain": [
       "Ames         25111\n",
       "clastogen    14396\n",
       "Name: simple_aggregate, dtype: int64"
      ]
     },
     "execution_count": 252,
     "metadata": {},
     "output_type": "execute_result"
    }
   ],
   "source": [
    "df[mask_ames_CA].simple_aggregate.value_counts()"
   ]
  },
  {
   "cell_type": "code",
   "execution_count": 290,
   "metadata": {},
   "outputs": [
    {
     "data": {
      "text/plain": [
       "dtxsid          simple_aggregate\n",
       "DTXSID00100074  gene_mutation        1\n",
       "DTXSID00100498  clastogen            1\n",
       "DTXSID00100670  Ames                 9\n",
       "                clastogen            4\n",
       "                gene_mutation        4\n",
       "                                    ..\n",
       "DTXSID9099080   Ames                 9\n",
       "                clastogen            4\n",
       "                gene_mutation        4\n",
       "DTXSID9099876   Ames                11\n",
       "                clastogen            2\n",
       "Name: simple_aggregate, Length: 18658, dtype: int64"
      ]
     },
     "execution_count": 290,
     "metadata": {},
     "output_type": "execute_result"
    }
   ],
   "source": [
    "df.groupby('dtxsid')['simple_aggregate'].value_counts()"
   ]
  },
  {
   "cell_type": "code",
   "execution_count": 257,
   "metadata": {},
   "outputs": [
    {
     "data": {
      "text/html": [
       "<div>\n",
       "<style scoped>\n",
       "    .dataframe tbody tr th:only-of-type {\n",
       "        vertical-align: middle;\n",
       "    }\n",
       "\n",
       "    .dataframe tbody tr th {\n",
       "        vertical-align: top;\n",
       "    }\n",
       "\n",
       "    .dataframe thead th {\n",
       "        text-align: right;\n",
       "    }\n",
       "</style>\n",
       "<table border=\"1\" class=\"dataframe\">\n",
       "  <thead>\n",
       "    <tr style=\"text-align: right;\">\n",
       "      <th></th>\n",
       "      <th>source</th>\n",
       "      <th>name</th>\n",
       "      <th>casrn</th>\n",
       "      <th>assay_category</th>\n",
       "      <th>assay_type</th>\n",
       "      <th>assay_result</th>\n",
       "      <th>species</th>\n",
       "      <th>strain</th>\n",
       "      <th>metabolic_activation</th>\n",
       "      <th>cytotoxicity</th>\n",
       "      <th>...</th>\n",
       "      <th>panel_report</th>\n",
       "      <th>glp</th>\n",
       "      <th>guideline</th>\n",
       "      <th>dtxsid</th>\n",
       "      <th>standard_assay_type</th>\n",
       "      <th>assay_result_std</th>\n",
       "      <th>assay_outcome</th>\n",
       "      <th>aggregate_study_type</th>\n",
       "      <th>simple_aggregate</th>\n",
       "      <th>source_aggregate</th>\n",
       "    </tr>\n",
       "  </thead>\n",
       "  <tbody>\n",
       "    <tr>\n",
       "      <th>0</th>\n",
       "      <td>eChemPortal</td>\n",
       "      <td>1,3,5-trinitro-1,3,5-triazinane</td>\n",
       "      <td>121-82-4</td>\n",
       "      <td>in vitro</td>\n",
       "      <td>fluctuation test</td>\n",
       "      <td>negative</td>\n",
       "      <td>S. typhimurium TA 98</td>\n",
       "      <td>NaN</td>\n",
       "      <td>with and without</td>\n",
       "      <td>not determined</td>\n",
       "      <td>...</td>\n",
       "      <td>NaN</td>\n",
       "      <td>no data</td>\n",
       "      <td>equivalent or similar to OECD Guideline 471 (B...</td>\n",
       "      <td>DTXSID9024142</td>\n",
       "      <td>bacterial fluctuation assay</td>\n",
       "      <td>negative</td>\n",
       "      <td>0</td>\n",
       "      <td>other</td>\n",
       "      <td>other</td>\n",
       "      <td>eChemPortal</td>\n",
       "    </tr>\n",
       "    <tr>\n",
       "      <th>1</th>\n",
       "      <td>eChemPortal</td>\n",
       "      <td>1,3,5-trinitro-1,3,5-triazinane</td>\n",
       "      <td>121-82-4</td>\n",
       "      <td>in vitro</td>\n",
       "      <td>fluctuation test</td>\n",
       "      <td>negative</td>\n",
       "      <td>S. typhimurium TA 100</td>\n",
       "      <td>NaN</td>\n",
       "      <td>with and without</td>\n",
       "      <td>not determined</td>\n",
       "      <td>...</td>\n",
       "      <td>NaN</td>\n",
       "      <td>no data</td>\n",
       "      <td>equivalent or similar to OECD Guideline 471 (B...</td>\n",
       "      <td>DTXSID9024142</td>\n",
       "      <td>bacterial fluctuation assay</td>\n",
       "      <td>negative</td>\n",
       "      <td>0</td>\n",
       "      <td>other</td>\n",
       "      <td>other</td>\n",
       "      <td>eChemPortal</td>\n",
       "    </tr>\n",
       "    <tr>\n",
       "      <th>2</th>\n",
       "      <td>eChemPortal</td>\n",
       "      <td>1,3,5-trinitro-1,3,5-triazinane</td>\n",
       "      <td>121-82-4</td>\n",
       "      <td>in vitro</td>\n",
       "      <td>fluctuation test</td>\n",
       "      <td>negative</td>\n",
       "      <td>S. typhimurium TA 98</td>\n",
       "      <td>NaN</td>\n",
       "      <td>with and without</td>\n",
       "      <td>not determined</td>\n",
       "      <td>...</td>\n",
       "      <td>NaN</td>\n",
       "      <td>no data</td>\n",
       "      <td>equivalent or similar to OECD Guideline 471 (B...</td>\n",
       "      <td>DTXSID9024142</td>\n",
       "      <td>bacterial fluctuation assay</td>\n",
       "      <td>negative</td>\n",
       "      <td>0</td>\n",
       "      <td>other</td>\n",
       "      <td>other</td>\n",
       "      <td>eChemPortal</td>\n",
       "    </tr>\n",
       "    <tr>\n",
       "      <th>3</th>\n",
       "      <td>eChemPortal</td>\n",
       "      <td>nickel(2+) dichloride</td>\n",
       "      <td>7718-54-9</td>\n",
       "      <td>in vitro</td>\n",
       "      <td>bacterial fluctuation assay</td>\n",
       "      <td>negative</td>\n",
       "      <td>other: E. coli strains WP2+, WP2-, WP6, WP67, ...</td>\n",
       "      <td>NaN</td>\n",
       "      <td>with</td>\n",
       "      <td>yes</td>\n",
       "      <td>...</td>\n",
       "      <td>NaN</td>\n",
       "      <td>no data</td>\n",
       "      <td>according to other guideline: Gatehouse 1978 (...</td>\n",
       "      <td>DTXSID7040316</td>\n",
       "      <td>bacterial fluctuation assay</td>\n",
       "      <td>negative</td>\n",
       "      <td>0</td>\n",
       "      <td>other</td>\n",
       "      <td>other</td>\n",
       "      <td>eChemPortal</td>\n",
       "    </tr>\n",
       "    <tr>\n",
       "      <th>4</th>\n",
       "      <td>eChemPortal</td>\n",
       "      <td>nickel(2+) ion dichloride</td>\n",
       "      <td>7718-54-9</td>\n",
       "      <td>in vitro</td>\n",
       "      <td>bacterial fluctuation assay</td>\n",
       "      <td>negative</td>\n",
       "      <td>other: E. coli strains WP2+, WP2-, WP6, WP67, ...</td>\n",
       "      <td>NaN</td>\n",
       "      <td>with</td>\n",
       "      <td>yes</td>\n",
       "      <td>...</td>\n",
       "      <td>NaN</td>\n",
       "      <td>no data</td>\n",
       "      <td>according to other guideline: Gatehouse 1978 (...</td>\n",
       "      <td>DTXSID7040316</td>\n",
       "      <td>bacterial fluctuation assay</td>\n",
       "      <td>negative</td>\n",
       "      <td>0</td>\n",
       "      <td>other</td>\n",
       "      <td>other</td>\n",
       "      <td>eChemPortal</td>\n",
       "    </tr>\n",
       "  </tbody>\n",
       "</table>\n",
       "<p>5 rows × 36 columns</p>\n",
       "</div>"
      ],
      "text/plain": [
       "        source                             name      casrn assay_category  \\\n",
       "0  eChemPortal  1,3,5-trinitro-1,3,5-triazinane   121-82-4       in vitro   \n",
       "1  eChemPortal  1,3,5-trinitro-1,3,5-triazinane   121-82-4       in vitro   \n",
       "2  eChemPortal  1,3,5-trinitro-1,3,5-triazinane   121-82-4       in vitro   \n",
       "3  eChemPortal            nickel(2+) dichloride  7718-54-9       in vitro   \n",
       "4  eChemPortal        nickel(2+) ion dichloride  7718-54-9       in vitro   \n",
       "\n",
       "                    assay_type assay_result  \\\n",
       "0             fluctuation test     negative   \n",
       "1             fluctuation test     negative   \n",
       "2             fluctuation test     negative   \n",
       "3  bacterial fluctuation assay     negative   \n",
       "4  bacterial fluctuation assay     negative   \n",
       "\n",
       "                                             species strain  \\\n",
       "0                               S. typhimurium TA 98    NaN   \n",
       "1                              S. typhimurium TA 100    NaN   \n",
       "2                               S. typhimurium TA 98    NaN   \n",
       "3  other: E. coli strains WP2+, WP2-, WP6, WP67, ...    NaN   \n",
       "4  other: E. coli strains WP2+, WP2-, WP6, WP67, ...    NaN   \n",
       "\n",
       "  metabolic_activation    cytotoxicity  ... panel_report      glp  \\\n",
       "0     with and without  not determined  ...          NaN  no data   \n",
       "1     with and without  not determined  ...          NaN  no data   \n",
       "2     with and without  not determined  ...          NaN  no data   \n",
       "3                 with             yes  ...          NaN  no data   \n",
       "4                 with             yes  ...          NaN  no data   \n",
       "\n",
       "                                           guideline         dtxsid  \\\n",
       "0  equivalent or similar to OECD Guideline 471 (B...  DTXSID9024142   \n",
       "1  equivalent or similar to OECD Guideline 471 (B...  DTXSID9024142   \n",
       "2  equivalent or similar to OECD Guideline 471 (B...  DTXSID9024142   \n",
       "3  according to other guideline: Gatehouse 1978 (...  DTXSID7040316   \n",
       "4  according to other guideline: Gatehouse 1978 (...  DTXSID7040316   \n",
       "\n",
       "           standard_assay_type  assay_result_std assay_outcome  \\\n",
       "0  bacterial fluctuation assay          negative             0   \n",
       "1  bacterial fluctuation assay          negative             0   \n",
       "2  bacterial fluctuation assay          negative             0   \n",
       "3  bacterial fluctuation assay          negative             0   \n",
       "4  bacterial fluctuation assay          negative             0   \n",
       "\n",
       "   aggregate_study_type  simple_aggregate source_aggregate  \n",
       "0                 other             other      eChemPortal  \n",
       "1                 other             other      eChemPortal  \n",
       "2                 other             other      eChemPortal  \n",
       "3                 other             other      eChemPortal  \n",
       "4                 other             other      eChemPortal  \n",
       "\n",
       "[5 rows x 36 columns]"
      ]
     },
     "execution_count": 257,
     "metadata": {},
     "output_type": "execute_result"
    }
   ],
   "source": [
    "df.head()"
   ]
  },
  {
   "cell_type": "markdown",
   "metadata": {},
   "source": [
    "#### Categorisation to derive overall outcomes - this is the benchmark set of outcomes that is being used to evaluate performance for the in silico tools being used."
   ]
  },
  {
   "cell_type": "code",
   "execution_count": 291,
   "metadata": {},
   "outputs": [],
   "source": [
    "calls = {}\n",
    "for i, group in df.groupby('dtxsid'):\n",
    "    subset = group[['simple_aggregate', 'assay_outcome']]\n",
    "    tuples = [tuple(x) for x in subset.values]\n",
    "    if ('Ames', 1) in tuples:\n",
    "        calls[i]='gentox'\n",
    "    elif ('clastogen', 1) in tuples:\n",
    "        calls[i]='clastogen'  \n",
    "    elif ('Ames', 2) in tuples:\n",
    "        calls[i]='inconclusive'    \n",
    "    elif ('clastogen', 2) in tuples:\n",
    "        calls[i]='inconclusive' \n",
    "    elif ('Ames', 0) in tuples:\n",
    "        calls[i]='non gentox'\n",
    "    elif ('clastogen', 0) in tuples:\n",
    "        calls[i]='not clastogen'    \n",
    "    else:\n",
    "        None"
   ]
  },
  {
   "cell_type": "code",
   "execution_count": 295,
   "metadata": {},
   "outputs": [],
   "source": [
    "df_demarini = pd.DataFrame(calls.items(), columns = ['dtxsid', 'DeMarini_call'])"
   ]
  },
  {
   "cell_type": "markdown",
   "metadata": {},
   "source": [
    "These are noted in Section 2.3."
   ]
  },
  {
   "cell_type": "code",
   "execution_count": 304,
   "metadata": {},
   "outputs": [
    {
     "data": {
      "text/plain": [
       "non gentox       5328\n",
       "gentox           2055\n",
       "clastogen         673\n",
       "not clastogen     257\n",
       "inconclusive      129\n",
       "Name: DeMarini_call, dtype: int64"
      ]
     },
     "execution_count": 304,
     "metadata": {},
     "output_type": "execute_result"
    }
   ],
   "source": [
    "df_demarini.DeMarini_call.value_counts()"
   ]
  },
  {
   "cell_type": "code",
   "execution_count": 303,
   "metadata": {},
   "outputs": [
    {
     "data": {
      "text/plain": [
       "857"
      ]
     },
     "execution_count": 303,
     "metadata": {},
     "output_type": "execute_result"
    }
   ],
   "source": [
    "9299-8442"
   ]
  },
  {
   "cell_type": "markdown",
   "metadata": {},
   "source": [
    "#### Plot of the distribution of the genotoxicity categorisation assignments: Figure 3 in the revised submission"
   ]
  },
  {
   "cell_type": "code",
   "execution_count": 308,
   "metadata": {},
   "outputs": [
    {
     "data": {
      "image/png": "[encoded data removed]",
      "text/plain": [
       "<Figure size 2400x1800 with 1 Axes>"
      ]
     },
     "metadata": {
      "needs_background": "light"
     },
     "output_type": "display_data"
    }
   ],
   "source": [
    "demarini = df_demarini.copy()\n",
    "\n",
    "plt.figure(figsize=(8, 6), dpi = 300)\n",
    "y = demarini.DeMarini_call.value_counts()\n",
    "ax = y.plot.barh()\n",
    "for i, v in enumerate(y):\n",
    "    ax.text(v-190, i + .3, str(v), color='purple', fontsize = 16, fontweight = 'bold')\n",
    "plt.xticks(fontsize = 16, family = 'serif')\n",
    "ticklabels = ['Non-mutagenic', 'Mutagenic', 'Clastogen',  'Non-clastogen', 'Inconclusive']\n",
    "plt.yticks(range(0,5), ticklabels, fontsize = 16, family = 'serif')\n",
    "plt.xlabel('Number of Chemicals', size = 24, labelpad = 10, family = 'serif')\n",
    "plt.ylabel('Classification', size = 24, labelpad = -10, family = 'serif')\n",
    "plt.savefig(figures_dir+'ClassificationCount.png', bbox_inches='tight')"
   ]
  },
  {
   "cell_type": "code",
   "execution_count": 310,
   "metadata": {},
   "outputs": [],
   "source": [
    "demarini = demarini.set_index('dtxsid')"
   ]
  },
  {
   "cell_type": "code",
   "execution_count": 313,
   "metadata": {},
   "outputs": [
    {
     "data": {
      "text/html": [
       "<div>\n",
       "<style scoped>\n",
       "    .dataframe tbody tr th:only-of-type {\n",
       "        vertical-align: middle;\n",
       "    }\n",
       "\n",
       "    .dataframe tbody tr th {\n",
       "        vertical-align: top;\n",
       "    }\n",
       "\n",
       "    .dataframe thead th {\n",
       "        text-align: right;\n",
       "    }\n",
       "</style>\n",
       "<table border=\"1\" class=\"dataframe\">\n",
       "  <thead>\n",
       "    <tr style=\"text-align: right;\">\n",
       "      <th></th>\n",
       "      <th>DeMarini_call</th>\n",
       "    </tr>\n",
       "    <tr>\n",
       "      <th>dtxsid</th>\n",
       "      <th></th>\n",
       "    </tr>\n",
       "  </thead>\n",
       "  <tbody>\n",
       "    <tr>\n",
       "      <th>DTXSID00100498</th>\n",
       "      <td>not clastogen</td>\n",
       "    </tr>\n",
       "    <tr>\n",
       "      <th>DTXSID00100670</th>\n",
       "      <td>non gentox</td>\n",
       "    </tr>\n",
       "    <tr>\n",
       "      <th>DTXSID00100756</th>\n",
       "      <td>non gentox</td>\n",
       "    </tr>\n",
       "    <tr>\n",
       "      <th>DTXSID00101041</th>\n",
       "      <td>gentox</td>\n",
       "    </tr>\n",
       "    <tr>\n",
       "      <th>DTXSID00101061</th>\n",
       "      <td>clastogen</td>\n",
       "    </tr>\n",
       "    <tr>\n",
       "      <th>...</th>\n",
       "      <td>...</td>\n",
       "    </tr>\n",
       "    <tr>\n",
       "      <th>DTXSID9097381</th>\n",
       "      <td>non gentox</td>\n",
       "    </tr>\n",
       "    <tr>\n",
       "      <th>DTXSID9098147</th>\n",
       "      <td>non gentox</td>\n",
       "    </tr>\n",
       "    <tr>\n",
       "      <th>DTXSID9098220</th>\n",
       "      <td>non gentox</td>\n",
       "    </tr>\n",
       "    <tr>\n",
       "      <th>DTXSID9099080</th>\n",
       "      <td>non gentox</td>\n",
       "    </tr>\n",
       "    <tr>\n",
       "      <th>DTXSID9099876</th>\n",
       "      <td>non gentox</td>\n",
       "    </tr>\n",
       "  </tbody>\n",
       "</table>\n",
       "<p>8442 rows × 1 columns</p>\n",
       "</div>"
      ],
      "text/plain": [
       "                DeMarini_call\n",
       "dtxsid                       \n",
       "DTXSID00100498  not clastogen\n",
       "DTXSID00100670     non gentox\n",
       "DTXSID00100756     non gentox\n",
       "DTXSID00101041         gentox\n",
       "DTXSID00101061      clastogen\n",
       "...                       ...\n",
       "DTXSID9097381      non gentox\n",
       "DTXSID9098147      non gentox\n",
       "DTXSID9098220      non gentox\n",
       "DTXSID9099080      non gentox\n",
       "DTXSID9099876      non gentox\n",
       "\n",
       "[8442 rows x 1 columns]"
      ]
     },
     "execution_count": 313,
     "metadata": {},
     "output_type": "execute_result"
    }
   ],
   "source": [
    "demarini"
   ]
  },
  {
   "cell_type": "code",
   "execution_count": 312,
   "metadata": {},
   "outputs": [],
   "source": [
    "genetox_data = df.copy()"
   ]
  },
  {
   "cell_type": "markdown",
   "metadata": {},
   "source": [
    "Create a new dataframe for summary assay statistics per chemical"
   ]
  },
  {
   "cell_type": "code",
   "execution_count": 315,
   "metadata": {},
   "outputs": [],
   "source": [
    "## Create a new dataframe for summary assay statistics per chemical\n",
    "genetox_data_summary = pd.DataFrame(index = demarini.index, columns = ['nAmes', 'nAmesPos', 'nAmesNeg', 'nAmesInc', '%AmesPos', \\\n",
    "                                                                'nClas', 'nClasPos','nClasNeg', 'nClasInc', '%ClasPos', 'DeMarini'])\n",
    "genetox_data_summary['DeMarini'] = demarini['DeMarini_call']\n",
    "# Update each row in the dataframe\n",
    "for dtxsid in genetox_data_summary.index:\n",
    "    # Ames\n",
    "    genetox_data_summary.loc[dtxsid, 'nAmes'] = len(genetox_data[(genetox_data['dtxsid'] == dtxsid) \\\n",
    "                            & (genetox_data['simple_aggregate'] == 'Ames')])\n",
    "    genetox_data_summary.loc[dtxsid, 'nAmesPos'] = len(genetox_data[(genetox_data['dtxsid'] == dtxsid) \\\n",
    "                            & (genetox_data['simple_aggregate'] == 'Ames')\\\n",
    "                            & (genetox_data['assay_outcome'] == 1)])\n",
    "    genetox_data_summary.loc[dtxsid, 'nAmesNeg'] = len(genetox_data[(genetox_data['dtxsid'] == dtxsid) \\\n",
    "                            & (genetox_data['simple_aggregate'] == 'Ames')\\\n",
    "                            & (genetox_data['assay_outcome'] == 0)])\n",
    "    genetox_data_summary.loc[dtxsid, 'nAmesInc'] = len(genetox_data[(genetox_data['dtxsid'] == dtxsid) \\\n",
    "                            & (genetox_data['simple_aggregate'] == 'Ames')\\\n",
    "                            & (genetox_data['assay_outcome'] == 2)])\n",
    "    if genetox_data_summary.loc[dtxsid, 'nAmes'] == 0:\n",
    "        genetox_data_summary.loc[dtxsid, '%AmesPos'] = np.nan\n",
    "    else:\n",
    "        genetox_data_summary.loc[dtxsid, '%AmesPos'] = 100*genetox_data_summary.loc[dtxsid, 'nAmesPos']/genetox_data_summary.loc[dtxsid, 'nAmes']\n",
    "    # Update inconclusives\n",
    "    n1 = len(genetox_data[(genetox_data['dtxsid'] == dtxsid) \\\n",
    "                            & (genetox_data['simple_aggregate'] == 'Ames')\\\n",
    "                            & (genetox_data['assay_outcome'] == 2)])\n",
    "    if genetox_data_summary.loc[dtxsid, '%AmesPos'] == 0 and n1 > 0:\n",
    "        genetox_data_summary.loc[dtxsid, '%AmesPos'] = -9 #inconclusive is indicated by -9\n",
    "   # Clastogens\n",
    "    genetox_data_summary.loc[dtxsid, 'nClas'] = len(genetox_data[(genetox_data['dtxsid'] == dtxsid) \\\n",
    "                            & (genetox_data['simple_aggregate'] == 'clastogen')])\n",
    "    genetox_data_summary.loc[dtxsid, 'nClasPos'] = len(genetox_data[(genetox_data['dtxsid'] == dtxsid) \\\n",
    "                            & (genetox_data['simple_aggregate'] == 'clastogen')\\\n",
    "                            & (genetox_data['assay_outcome'] == 1)])\n",
    "    genetox_data_summary.loc[dtxsid, 'nClasNeg'] = len(genetox_data[(genetox_data['dtxsid'] == dtxsid) \\\n",
    "                            & (genetox_data['simple_aggregate'] == 'clastogen')\\\n",
    "                            & (genetox_data['assay_outcome'] == 0)])    \n",
    "    genetox_data_summary.loc[dtxsid, 'nClasInc'] = len(genetox_data[(genetox_data['dtxsid'] == dtxsid) \\\n",
    "                            & (genetox_data['simple_aggregate'] == 'clastogen')\\\n",
    "                            & (genetox_data['assay_outcome'] == 2)])        \n",
    "    if genetox_data_summary.loc[dtxsid, 'nClas'] == 0:\n",
    "        genetox_data_summary.loc[dtxsid, '%ClasPos'] = np.nan\n",
    "    else:\n",
    "        genetox_data_summary.loc[dtxsid, '%ClasPos'] = 100*genetox_data_summary.loc[dtxsid, 'nClasPos']/genetox_data_summary.loc[dtxsid, 'nClas']\n",
    "    # Update inconclusives \n",
    "    n2 = len(genetox_data[(genetox_data['dtxsid'] == dtxsid) \\\n",
    "                            & (genetox_data['simple_aggregate'] == 'clastogen')\\\n",
    "                            & (genetox_data['assay_outcome'] == 2)])    \n",
    "    if genetox_data_summary.loc[dtxsid, '%ClasPos'] == 0 and n2 > 0:\n",
    "        genetox_data_summary.loc[dtxsid, '%ClasPos'] = -9 #inconclusive is indicated by -9"
   ]
  },
  {
   "cell_type": "code",
   "execution_count": 316,
   "metadata": {},
   "outputs": [
    {
     "data": {
      "text/html": [
       "<div>\n",
       "<style scoped>\n",
       "    .dataframe tbody tr th:only-of-type {\n",
       "        vertical-align: middle;\n",
       "    }\n",
       "\n",
       "    .dataframe tbody tr th {\n",
       "        vertical-align: top;\n",
       "    }\n",
       "\n",
       "    .dataframe thead th {\n",
       "        text-align: right;\n",
       "    }\n",
       "</style>\n",
       "<table border=\"1\" class=\"dataframe\">\n",
       "  <thead>\n",
       "    <tr style=\"text-align: right;\">\n",
       "      <th></th>\n",
       "      <th>nAmes</th>\n",
       "      <th>nAmesPos</th>\n",
       "      <th>nAmesNeg</th>\n",
       "      <th>nAmesInc</th>\n",
       "      <th>%AmesPos</th>\n",
       "      <th>nClas</th>\n",
       "      <th>nClasPos</th>\n",
       "      <th>nClasNeg</th>\n",
       "      <th>nClasInc</th>\n",
       "      <th>%ClasPos</th>\n",
       "      <th>DeMarini</th>\n",
       "    </tr>\n",
       "    <tr>\n",
       "      <th>dtxsid</th>\n",
       "      <th></th>\n",
       "      <th></th>\n",
       "      <th></th>\n",
       "      <th></th>\n",
       "      <th></th>\n",
       "      <th></th>\n",
       "      <th></th>\n",
       "      <th></th>\n",
       "      <th></th>\n",
       "      <th></th>\n",
       "      <th></th>\n",
       "    </tr>\n",
       "  </thead>\n",
       "  <tbody>\n",
       "    <tr>\n",
       "      <th>DTXSID00100498</th>\n",
       "      <td>0</td>\n",
       "      <td>0</td>\n",
       "      <td>0</td>\n",
       "      <td>0</td>\n",
       "      <td>NaN</td>\n",
       "      <td>1</td>\n",
       "      <td>0</td>\n",
       "      <td>1</td>\n",
       "      <td>0</td>\n",
       "      <td>0</td>\n",
       "      <td>not clastogen</td>\n",
       "    </tr>\n",
       "    <tr>\n",
       "      <th>DTXSID00100670</th>\n",
       "      <td>9</td>\n",
       "      <td>0</td>\n",
       "      <td>9</td>\n",
       "      <td>0</td>\n",
       "      <td>0</td>\n",
       "      <td>4</td>\n",
       "      <td>0</td>\n",
       "      <td>4</td>\n",
       "      <td>0</td>\n",
       "      <td>0</td>\n",
       "      <td>non gentox</td>\n",
       "    </tr>\n",
       "    <tr>\n",
       "      <th>DTXSID00100756</th>\n",
       "      <td>2</td>\n",
       "      <td>0</td>\n",
       "      <td>2</td>\n",
       "      <td>0</td>\n",
       "      <td>0</td>\n",
       "      <td>2</td>\n",
       "      <td>0</td>\n",
       "      <td>2</td>\n",
       "      <td>0</td>\n",
       "      <td>0</td>\n",
       "      <td>non gentox</td>\n",
       "    </tr>\n",
       "    <tr>\n",
       "      <th>DTXSID00101041</th>\n",
       "      <td>2</td>\n",
       "      <td>2</td>\n",
       "      <td>0</td>\n",
       "      <td>0</td>\n",
       "      <td>100</td>\n",
       "      <td>0</td>\n",
       "      <td>0</td>\n",
       "      <td>0</td>\n",
       "      <td>0</td>\n",
       "      <td>NaN</td>\n",
       "      <td>gentox</td>\n",
       "    </tr>\n",
       "    <tr>\n",
       "      <th>DTXSID00101061</th>\n",
       "      <td>1</td>\n",
       "      <td>0</td>\n",
       "      <td>1</td>\n",
       "      <td>0</td>\n",
       "      <td>0</td>\n",
       "      <td>2</td>\n",
       "      <td>1</td>\n",
       "      <td>1</td>\n",
       "      <td>0</td>\n",
       "      <td>50</td>\n",
       "      <td>clastogen</td>\n",
       "    </tr>\n",
       "    <tr>\n",
       "      <th>...</th>\n",
       "      <td>...</td>\n",
       "      <td>...</td>\n",
       "      <td>...</td>\n",
       "      <td>...</td>\n",
       "      <td>...</td>\n",
       "      <td>...</td>\n",
       "      <td>...</td>\n",
       "      <td>...</td>\n",
       "      <td>...</td>\n",
       "      <td>...</td>\n",
       "      <td>...</td>\n",
       "    </tr>\n",
       "    <tr>\n",
       "      <th>DTXSID9097381</th>\n",
       "      <td>3</td>\n",
       "      <td>0</td>\n",
       "      <td>3</td>\n",
       "      <td>0</td>\n",
       "      <td>0</td>\n",
       "      <td>0</td>\n",
       "      <td>0</td>\n",
       "      <td>0</td>\n",
       "      <td>0</td>\n",
       "      <td>NaN</td>\n",
       "      <td>non gentox</td>\n",
       "    </tr>\n",
       "    <tr>\n",
       "      <th>DTXSID9098147</th>\n",
       "      <td>4</td>\n",
       "      <td>0</td>\n",
       "      <td>4</td>\n",
       "      <td>0</td>\n",
       "      <td>0</td>\n",
       "      <td>0</td>\n",
       "      <td>0</td>\n",
       "      <td>0</td>\n",
       "      <td>0</td>\n",
       "      <td>NaN</td>\n",
       "      <td>non gentox</td>\n",
       "    </tr>\n",
       "    <tr>\n",
       "      <th>DTXSID9098220</th>\n",
       "      <td>2</td>\n",
       "      <td>0</td>\n",
       "      <td>2</td>\n",
       "      <td>0</td>\n",
       "      <td>0</td>\n",
       "      <td>2</td>\n",
       "      <td>0</td>\n",
       "      <td>2</td>\n",
       "      <td>0</td>\n",
       "      <td>0</td>\n",
       "      <td>non gentox</td>\n",
       "    </tr>\n",
       "    <tr>\n",
       "      <th>DTXSID9099080</th>\n",
       "      <td>9</td>\n",
       "      <td>0</td>\n",
       "      <td>9</td>\n",
       "      <td>0</td>\n",
       "      <td>0</td>\n",
       "      <td>4</td>\n",
       "      <td>0</td>\n",
       "      <td>4</td>\n",
       "      <td>0</td>\n",
       "      <td>0</td>\n",
       "      <td>non gentox</td>\n",
       "    </tr>\n",
       "    <tr>\n",
       "      <th>DTXSID9099876</th>\n",
       "      <td>11</td>\n",
       "      <td>0</td>\n",
       "      <td>11</td>\n",
       "      <td>0</td>\n",
       "      <td>0</td>\n",
       "      <td>2</td>\n",
       "      <td>0</td>\n",
       "      <td>2</td>\n",
       "      <td>0</td>\n",
       "      <td>0</td>\n",
       "      <td>non gentox</td>\n",
       "    </tr>\n",
       "  </tbody>\n",
       "</table>\n",
       "<p>8442 rows × 11 columns</p>\n",
       "</div>"
      ],
      "text/plain": [
       "               nAmes nAmesPos nAmesNeg nAmesInc %AmesPos nClas nClasPos  \\\n",
       "dtxsid                                                                    \n",
       "DTXSID00100498     0        0        0        0      NaN     1        0   \n",
       "DTXSID00100670     9        0        9        0        0     4        0   \n",
       "DTXSID00100756     2        0        2        0        0     2        0   \n",
       "DTXSID00101041     2        2        0        0      100     0        0   \n",
       "DTXSID00101061     1        0        1        0        0     2        1   \n",
       "...              ...      ...      ...      ...      ...   ...      ...   \n",
       "DTXSID9097381      3        0        3        0        0     0        0   \n",
       "DTXSID9098147      4        0        4        0        0     0        0   \n",
       "DTXSID9098220      2        0        2        0        0     2        0   \n",
       "DTXSID9099080      9        0        9        0        0     4        0   \n",
       "DTXSID9099876     11        0       11        0        0     2        0   \n",
       "\n",
       "               nClasNeg nClasInc %ClasPos       DeMarini  \n",
       "dtxsid                                                    \n",
       "DTXSID00100498        1        0        0  not clastogen  \n",
       "DTXSID00100670        4        0        0     non gentox  \n",
       "DTXSID00100756        2        0        0     non gentox  \n",
       "DTXSID00101041        0        0      NaN         gentox  \n",
       "DTXSID00101061        1        0       50      clastogen  \n",
       "...                 ...      ...      ...            ...  \n",
       "DTXSID9097381         0        0      NaN     non gentox  \n",
       "DTXSID9098147         0        0      NaN     non gentox  \n",
       "DTXSID9098220         2        0        0     non gentox  \n",
       "DTXSID9099080         4        0        0     non gentox  \n",
       "DTXSID9099876         2        0        0     non gentox  \n",
       "\n",
       "[8442 rows x 11 columns]"
      ]
     },
     "execution_count": 316,
     "metadata": {},
     "output_type": "execute_result"
    }
   ],
   "source": [
    "genetox_data_summary"
   ]
  },
  {
   "cell_type": "code",
   "execution_count": 318,
   "metadata": {},
   "outputs": [],
   "source": [
    "tag_demarini = {'clastogen':1, 'gentox':1, 'non gentox':0,  'inconclusive':np.nan,\n",
    "       'not clastogen':0}"
   ]
  },
  {
   "cell_type": "code",
   "execution_count": 353,
   "metadata": {},
   "outputs": [],
   "source": [
    "demarini['DeMarini_outcome'] = demarini['DeMarini_call'].replace(tag_demarini)"
   ]
  },
  {
   "cell_type": "code",
   "execution_count": 355,
   "metadata": {},
   "outputs": [],
   "source": [
    "demarini.to_csv(processed_dat_dir+'DeMarini_calls_120221.csv')"
   ]
  },
  {
   "cell_type": "code",
   "execution_count": 319,
   "metadata": {},
   "outputs": [],
   "source": [
    "genetox_data_summary['DeMarini_outcome'] = genetox_data_summary['DeMarini'].replace(tag_demarini)"
   ]
  },
  {
   "cell_type": "code",
   "execution_count": 347,
   "metadata": {},
   "outputs": [],
   "source": [
    "genetox_data_summary.to_csv(processed_dat_dir+'genetox_data_summary_120221.csv')"
   ]
  },
  {
   "cell_type": "markdown",
   "metadata": {},
   "source": [
    "\n",
    "Counts for Table 4. in manuscript (Analysis of chemicals tested in the Ames assay and their classification as genotoxic, non-genotoxic or inconclusive using the genotoxicity categorisation scheme)"
   ]
  },
  {
   "cell_type": "code",
   "execution_count": 322,
   "metadata": {},
   "outputs": [
    {
     "name": "stdout",
     "output_type": "stream",
     "text": [
      "Count PercAmesPos <50 = 6303\n",
      "Count PercAmesPos >=50 = 1673\n",
      "Count Ames Inconclusives = 82\n",
      "Count DeMarini negative and PercAmesPos <50 = 5328\n",
      "Count DeMarini negative and PercAmesPos >=50 = 0\n",
      "Count DeMarini negative and Ames Inconclusives = 0\n",
      "Count DeMarini positive and PercAmesPos <50 = 897\n",
      "Count DeMarini positive and PercAmesPos >=50 = 1673\n",
      "Count DeMarini positive and Ames Inconclusives = 35\n",
      "Count DeMarini Inconclusive and PercAmesPos <50 = 78\n",
      "Count DeMarini Inconclusive and PercAmesPos >=50 = 0\n",
      "Count DeMarini Inconclusive and Ames Inconclusives = 47\n"
     ]
    }
   ],
   "source": [
    "#Ames\n",
    "n10 = len(genetox_data_summary[(genetox_data_summary['%AmesPos'] != -9) & (genetox_data_summary['%AmesPos'] < 50)])\n",
    "n20 = len(genetox_data_summary[(genetox_data_summary['%AmesPos'] != -9) & (genetox_data_summary['%AmesPos'] >= 50)]) \n",
    "n30 = len(genetox_data_summary[(genetox_data_summary['%AmesPos'] == -9)]) \n",
    "print(\"Count PercAmesPos <50 = %d\" %n10)\n",
    "print(\"Count PercAmesPos >=50 = %d\" %n20)\n",
    "print(\"Count Ames Inconclusives = %d\" %n30)\n",
    "\n",
    "#Ames and DeMarini negative\n",
    "n11 = len(genetox_data_summary[(genetox_data_summary['%AmesPos'] != -9) & (genetox_data_summary['%AmesPos'] < 50) & (genetox_data_summary['DeMarini_outcome'] ==0)])\n",
    "n21 = len(genetox_data_summary[(genetox_data_summary['%AmesPos'] != -9) & (genetox_data_summary['%AmesPos'] >= 50) & (genetox_data_summary['DeMarini_outcome'] ==0)])\n",
    "n31 = len(genetox_data_summary[(genetox_data_summary['%AmesPos'] == -9) & (genetox_data_summary['DeMarini'] ==0)])\n",
    "print(\"Count DeMarini negative and PercAmesPos <50 = %d\" %n11)\n",
    "print(\"Count DeMarini negative and PercAmesPos >=50 = %d\" %n21)\n",
    "print(\"Count DeMarini negative and Ames Inconclusives = %d\" %n31)\n",
    "\n",
    "#Ames and DeMarini positive\n",
    "n12 = len(genetox_data_summary[(genetox_data_summary['%AmesPos'] != -9) & (genetox_data_summary['%AmesPos'] < 50) & (genetox_data_summary['DeMarini_outcome'] ==1)])\n",
    "n22 = len(genetox_data_summary[(genetox_data_summary['%AmesPos'] != -9) & (genetox_data_summary['%AmesPos'] >= 50) & (genetox_data_summary['DeMarini_outcome'] ==1)])\n",
    "n32 = len(genetox_data_summary[(genetox_data_summary['%AmesPos'] == -9) & (genetox_data_summary['DeMarini_outcome'] ==1)])\n",
    "print(\"Count DeMarini positive and PercAmesPos <50 = %d\" %n12)\n",
    "print(\"Count DeMarini positive and PercAmesPos >=50 = %d\" %n22)\n",
    "print(\"Count DeMarini positive and Ames Inconclusives = %d\" %n32)\n",
    "\n",
    "#Ames and DeMarini Inconclusive\n",
    "n13 = len(genetox_data_summary[(genetox_data_summary['%AmesPos'] != -9) & (genetox_data_summary['%AmesPos'] < 50) & (genetox_data_summary['DeMarini_outcome'].isnull())])\n",
    "n23 = len(genetox_data_summary[(genetox_data_summary['%AmesPos'] != -9) & (genetox_data_summary['%AmesPos'] >= 50) & (genetox_data_summary['DeMarini_outcome'].isnull())])\n",
    "n33 = len(genetox_data_summary[(genetox_data_summary['%AmesPos'] == -9) & (genetox_data_summary['DeMarini_outcome'].isnull())])\n",
    "print(\"Count DeMarini Inconclusive and PercAmesPos <50 = %d\" %n13)\n",
    "print(\"Count DeMarini Inconclusive and PercAmesPos >=50 = %d\" %n23)\n",
    "print(\"Count DeMarini Inconclusive and Ames Inconclusives = %d\" %n33)"
   ]
  },
  {
   "cell_type": "markdown",
   "metadata": {},
   "source": [
    "Counts for Table 5 in manuscript (A Characterisation of number of chemicals tested in less than K (1, 2, 3, 4, 5 and 10) or less number of Ames or Clastogen assays)"
   ]
  },
  {
   "cell_type": "code",
   "execution_count": 323,
   "metadata": {},
   "outputs": [
    {
     "name": "stdout",
     "output_type": "stream",
     "text": [
      "Number of chemicals tested in <= 0 Ames assays = 384\n",
      "Number of chemicals tested in <= 0 Clastogen assays = 3689\n",
      "Number of chemicals tested in <= 1 Ames assays = 3582\n",
      "Number of chemicals tested in <= 1 Clastogen assays = 5384\n",
      "Number of chemicals tested in <= 2 Ames assays = 5191\n",
      "Number of chemicals tested in <= 2 Clastogen assays = 6852\n",
      "Number of chemicals tested in <= 3 Ames assays = 6512\n",
      "Number of chemicals tested in <= 3 Clastogen assays = 7288\n",
      "Number of chemicals tested in <= 4 Ames assays = 7088\n",
      "Number of chemicals tested in <= 4 Clastogen assays = 7745\n",
      "Number of chemicals tested in <= 5 Ames assays = 7378\n",
      "Number of chemicals tested in <= 5 Clastogen assays = 7865\n",
      "Number of chemicals tested in <= 6 Ames assays = 7693\n",
      "Number of chemicals tested in <= 6 Clastogen assays = 7996\n",
      "Number of chemicals tested in <= 7 Ames assays = 7859\n",
      "Number of chemicals tested in <= 7 Clastogen assays = 8094\n",
      "Number of chemicals tested in <= 8 Ames assays = 7989\n",
      "Number of chemicals tested in <= 8 Clastogen assays = 8179\n",
      "Number of chemicals tested in <= 9 Ames assays = 8073\n",
      "Number of chemicals tested in <= 9 Clastogen assays = 8223\n",
      "Number of chemicals tested in <= 10 Ames assays = 8129\n",
      "Number of chemicals tested in <= 10 Clastogen assays = 8270\n"
     ]
    }
   ],
   "source": [
    "for k in range(11):\n",
    "    a = genetox_data_summary[genetox_data_summary['nAmes'] <= k]['nAmes'].count()\n",
    "    c = genetox_data_summary[genetox_data_summary['nClas'] <= k]['nClas'].count()\n",
    "    print(\"Number of chemicals tested in <= %d Ames assays = %d\" %(k,a))\n",
    "    print(\"Number of chemicals tested in <= %d Clastogen assays = %d\" %(k,c))"
   ]
  },
  {
   "cell_type": "code",
   "execution_count": 332,
   "metadata": {},
   "outputs": [
    {
     "name": "stdout",
     "output_type": "stream",
     "text": [
      "<class 'pandas.core.frame.DataFrame'>\n",
      "Index: 8442 entries, DTXSID00100498 to DTXSID9099876\n",
      "Data columns (total 12 columns):\n",
      " #   Column            Non-Null Count  Dtype  \n",
      "---  ------            --------------  -----  \n",
      " 0   nAmes             8442 non-null   object \n",
      " 1   nAmesPos          8442 non-null   object \n",
      " 2   nAmesNeg          8442 non-null   object \n",
      " 3   nAmesInc          8442 non-null   object \n",
      " 4   %AmesPos          8058 non-null   object \n",
      " 5   nClas             8442 non-null   object \n",
      " 6   nClasPos          8442 non-null   object \n",
      " 7   nClasNeg          8442 non-null   object \n",
      " 8   nClasInc          8442 non-null   object \n",
      " 9   %ClasPos          4753 non-null   object \n",
      " 10  DeMarini          8442 non-null   object \n",
      " 11  DeMarini_outcome  8313 non-null   float64\n",
      "dtypes: float64(1), object(11)\n",
      "memory usage: 1.1+ MB\n"
     ]
    }
   ],
   "source": [
    "genetox_data_summary.info()\n"
   ]
  },
  {
   "cell_type": "code",
   "execution_count": null,
   "metadata": {},
   "outputs": [],
   "source": []
  },
  {
   "cell_type": "code",
   "execution_count": null,
   "metadata": {},
   "outputs": [],
   "source": []
  },
  {
   "cell_type": "code",
   "execution_count": null,
   "metadata": {},
   "outputs": [],
   "source": []
  }
 ],
 "metadata": {
  "kernelspec": {
   "display_name": "Python 3",
   "language": "python",
   "name": "python3"
  },
  "language_info": {
   "codemirror_mode": {
    "name": "ipython",
    "version": 3
   },
   "file_extension": ".py",
   "mimetype": "text/x-python",
   "name": "python",
   "nbconvert_exporter": "python",
   "pygments_lexer": "ipython3",
   "version": "3.7.6"
  }
 },
 "nbformat": 4,
 "nbformat_minor": 4
}
