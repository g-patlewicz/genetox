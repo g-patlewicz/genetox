{
 "cells": [
  {
   "cell_type": "markdown",
   "metadata": {},
   "source": [
    "#### Section 2.3: Derive Genotoxicity categorisation calls per Figure 2"
   ]
  },
  {
   "cell_type": "code",
   "execution_count": 1,
   "metadata": {},
   "outputs": [],
   "source": [
    "import numpy as np\n",
    "import pandas as pd\n",
    "import matplotlib.pyplot as plt\n",
    "import seaborn as sns\n",
    "%matplotlib inline"
   ]
  },
  {
   "cell_type": "code",
   "execution_count": 2,
   "metadata": {},
   "outputs": [],
   "source": [
    "raw_dat_dir = '/home/grace/Documents/python/genetox/data/raw/'\n",
    "processed_dat_dir = '/home/grace/Documents/python/genetox/data/processed/'\n",
    "interim_dat_dir = '/home/grace/Documents/python/genetox/data/interim/'\n",
    "figures_dir = '/home/grace/Documents/python/genetox/reports/figures/'"
   ]
  },
  {
   "cell_type": "code",
   "execution_count": 3,
   "metadata": {},
   "outputs": [],
   "source": [
    "xls = pd.ExcelFile(raw_dat_dir+'Chemicals&AssayData.xlsx')"
   ]
  },
  {
   "cell_type": "code",
   "execution_count": 4,
   "metadata": {},
   "outputs": [
    {
     "data": {
      "text/plain": [
       "['all_genetox_exptdata']"
      ]
     },
     "execution_count": 4,
     "metadata": {},
     "output_type": "execute_result"
    }
   ],
   "source": [
    "xls.sheet_names"
   ]
  },
  {
   "cell_type": "code",
   "execution_count": 5,
   "metadata": {},
   "outputs": [],
   "source": [
    "genetox = xls.parse('all_genetox_exptdata')"
   ]
  },
  {
   "cell_type": "code",
   "execution_count": 6,
   "metadata": {},
   "outputs": [
    {
     "data": {
      "text/plain": [
       "(46557, 17)"
      ]
     },
     "execution_count": 6,
     "metadata": {},
     "output_type": "execute_result"
    }
   ],
   "source": [
    "genetox.shape"
   ]
  },
  {
   "cell_type": "code",
   "execution_count": 30,
   "metadata": {},
   "outputs": [
    {
     "data": {
      "text/html": [
       "<div>\n",
       "<style scoped>\n",
       "    .dataframe tbody tr th:only-of-type {\n",
       "        vertical-align: middle;\n",
       "    }\n",
       "\n",
       "    .dataframe tbody tr th {\n",
       "        vertical-align: top;\n",
       "    }\n",
       "\n",
       "    .dataframe thead th {\n",
       "        text-align: right;\n",
       "    }\n",
       "</style>\n",
       "<table border=\"1\" class=\"dataframe\">\n",
       "  <thead>\n",
       "    <tr style=\"text-align: right;\">\n",
       "      <th></th>\n",
       "      <th>Unnamed: 0</th>\n",
       "      <th>dsstox_substance_id</th>\n",
       "      <th>name</th>\n",
       "      <th>casrn</th>\n",
       "      <th>assay_result</th>\n",
       "      <th>assay_type</th>\n",
       "      <th>assay_type_standard</th>\n",
       "      <th>reference</th>\n",
       "      <th>source</th>\n",
       "      <th>species</th>\n",
       "      <th>strain</th>\n",
       "      <th>year</th>\n",
       "      <th>standard_assay_type</th>\n",
       "      <th>assay_result_std</th>\n",
       "      <th>assay_outcome</th>\n",
       "      <th>aggregate_study_type</th>\n",
       "      <th>simple_aggregate</th>\n",
       "    </tr>\n",
       "  </thead>\n",
       "  <tbody>\n",
       "    <tr>\n",
       "      <th>0</th>\n",
       "      <td>0</td>\n",
       "      <td>DTXSID5039224</td>\n",
       "      <td>ACETALDEHYDE (Preferred Term); ACETALDEHYDE (I...</td>\n",
       "      <td>75-07-0</td>\n",
       "      <td>positive</td>\n",
       "      <td>In Vivo Non-mammalian Mutagenesis</td>\n",
       "      <td>mutagenesis (in vivo)</td>\n",
       "      <td>ENVIRON MUTAGEN 7:677-702</td>\n",
       "      <td>COSMOS</td>\n",
       "      <td>DROSOPHILA MELANOGASTER</td>\n",
       "      <td>NaN</td>\n",
       "      <td>1985.0</td>\n",
       "      <td>In Vivo Non-mammalian Mutagenesis</td>\n",
       "      <td>positive</td>\n",
       "      <td>1</td>\n",
       "      <td>other</td>\n",
       "      <td>other</td>\n",
       "    </tr>\n",
       "    <tr>\n",
       "      <th>1</th>\n",
       "      <td>5</td>\n",
       "      <td>DTXSID5020106</td>\n",
       "      <td>ASCORBIC ACID (Preferred Term); ASCORBIC ACID ...</td>\n",
       "      <td>50-81-7</td>\n",
       "      <td>positive</td>\n",
       "      <td>In Vivo Non-mammalian Mutagenesis</td>\n",
       "      <td>mutagenesis (in vivo)</td>\n",
       "      <td>MUTAT RES 242:169-180</td>\n",
       "      <td>COSMOS</td>\n",
       "      <td>DROSOPHILA MELANOGASTER</td>\n",
       "      <td>NaN</td>\n",
       "      <td>1990.0</td>\n",
       "      <td>In Vivo Non-mammalian Mutagenesis</td>\n",
       "      <td>positive</td>\n",
       "      <td>1</td>\n",
       "      <td>other</td>\n",
       "      <td>other</td>\n",
       "    </tr>\n",
       "    <tr>\n",
       "      <th>2</th>\n",
       "      <td>6</td>\n",
       "      <td>DTXSID8039241</td>\n",
       "      <td>BENZALDEHYDE (INCI); BENZALDEHYDE (Preferred T...</td>\n",
       "      <td>100-52-7</td>\n",
       "      <td>positive</td>\n",
       "      <td>In Vivo Non-mammalian Mutagenesis</td>\n",
       "      <td>mutagenesis (in vivo)</td>\n",
       "      <td>ENVIRON MUTAGEN 7:677-702</td>\n",
       "      <td>COSMOS</td>\n",
       "      <td>DROSOPHILA MELANOGASTER</td>\n",
       "      <td>NaN</td>\n",
       "      <td>1985.0</td>\n",
       "      <td>In Vivo Non-mammalian Mutagenesis</td>\n",
       "      <td>positive</td>\n",
       "      <td>1</td>\n",
       "      <td>other</td>\n",
       "      <td>other</td>\n",
       "    </tr>\n",
       "    <tr>\n",
       "      <th>3</th>\n",
       "      <td>7</td>\n",
       "      <td>DTXSID1020144</td>\n",
       "      <td>BENZOIN (INCI); BENZOIN (Preferred Term)</td>\n",
       "      <td>119-53-9</td>\n",
       "      <td>positive</td>\n",
       "      <td>In Vivo Non-mammalian Mutagenesis</td>\n",
       "      <td>mutagenesis (in vivo)</td>\n",
       "      <td>PROG MUTAT RES 5:229-234</td>\n",
       "      <td>COSMOS</td>\n",
       "      <td>SACCHAROMYCES CEREVISIAE</td>\n",
       "      <td>NaN</td>\n",
       "      <td>1985.0</td>\n",
       "      <td>In Vivo Non-mammalian Mutagenesis</td>\n",
       "      <td>positive</td>\n",
       "      <td>1</td>\n",
       "      <td>other</td>\n",
       "      <td>other</td>\n",
       "    </tr>\n",
       "    <tr>\n",
       "      <th>4</th>\n",
       "      <td>8</td>\n",
       "      <td>DTXSID1020144</td>\n",
       "      <td>BENZOIN (INCI); BENZOIN (Preferred Term)</td>\n",
       "      <td>119-53-9</td>\n",
       "      <td>positive</td>\n",
       "      <td>In Vivo Non-mammalian Mutagenesis</td>\n",
       "      <td>mutagenesis (in vivo)</td>\n",
       "      <td>PROG MUTAT RES 5:243-255</td>\n",
       "      <td>COSMOS</td>\n",
       "      <td>SACCHAROMYCES CEREVISIAE</td>\n",
       "      <td>NaN</td>\n",
       "      <td>1985.0</td>\n",
       "      <td>In Vivo Non-mammalian Mutagenesis</td>\n",
       "      <td>positive</td>\n",
       "      <td>1</td>\n",
       "      <td>other</td>\n",
       "      <td>other</td>\n",
       "    </tr>\n",
       "  </tbody>\n",
       "</table>\n",
       "</div>"
      ],
      "text/plain": [
       "   Unnamed: 0 dsstox_substance_id  \\\n",
       "0           0       DTXSID5039224   \n",
       "1           5       DTXSID5020106   \n",
       "2           6       DTXSID8039241   \n",
       "3           7       DTXSID1020144   \n",
       "4           8       DTXSID1020144   \n",
       "\n",
       "                                                name     casrn assay_result  \\\n",
       "0  ACETALDEHYDE (Preferred Term); ACETALDEHYDE (I...   75-07-0     positive   \n",
       "1  ASCORBIC ACID (Preferred Term); ASCORBIC ACID ...   50-81-7     positive   \n",
       "2  BENZALDEHYDE (INCI); BENZALDEHYDE (Preferred T...  100-52-7     positive   \n",
       "3           BENZOIN (INCI); BENZOIN (Preferred Term)  119-53-9     positive   \n",
       "4           BENZOIN (INCI); BENZOIN (Preferred Term)  119-53-9     positive   \n",
       "\n",
       "                          assay_type    assay_type_standard  \\\n",
       "0  In Vivo Non-mammalian Mutagenesis  mutagenesis (in vivo)   \n",
       "1  In Vivo Non-mammalian Mutagenesis  mutagenesis (in vivo)   \n",
       "2  In Vivo Non-mammalian Mutagenesis  mutagenesis (in vivo)   \n",
       "3  In Vivo Non-mammalian Mutagenesis  mutagenesis (in vivo)   \n",
       "4  In Vivo Non-mammalian Mutagenesis  mutagenesis (in vivo)   \n",
       "\n",
       "                   reference  source                   species strain    year  \\\n",
       "0  ENVIRON MUTAGEN 7:677-702  COSMOS   DROSOPHILA MELANOGASTER    NaN  1985.0   \n",
       "1      MUTAT RES 242:169-180  COSMOS   DROSOPHILA MELANOGASTER    NaN  1990.0   \n",
       "2  ENVIRON MUTAGEN 7:677-702  COSMOS   DROSOPHILA MELANOGASTER    NaN  1985.0   \n",
       "3   PROG MUTAT RES 5:229-234  COSMOS  SACCHAROMYCES CEREVISIAE    NaN  1985.0   \n",
       "4   PROG MUTAT RES 5:243-255  COSMOS  SACCHAROMYCES CEREVISIAE    NaN  1985.0   \n",
       "\n",
       "                 standard_assay_type assay_result_std  assay_outcome  \\\n",
       "0  In Vivo Non-mammalian Mutagenesis         positive              1   \n",
       "1  In Vivo Non-mammalian Mutagenesis         positive              1   \n",
       "2  In Vivo Non-mammalian Mutagenesis         positive              1   \n",
       "3  In Vivo Non-mammalian Mutagenesis         positive              1   \n",
       "4  In Vivo Non-mammalian Mutagenesis         positive              1   \n",
       "\n",
       "  aggregate_study_type simple_aggregate  \n",
       "0                other            other  \n",
       "1                other            other  \n",
       "2                other            other  \n",
       "3                other            other  \n",
       "4                other            other  "
      ]
     },
     "execution_count": 30,
     "metadata": {},
     "output_type": "execute_result"
    }
   ],
   "source": [
    "genetox.head()"
   ]
  },
  {
   "cell_type": "code",
   "execution_count": 7,
   "metadata": {},
   "outputs": [
    {
     "name": "stdout",
     "output_type": "stream",
     "text": [
      "['12056-51-8']\n",
      "['1307-86-4']\n",
      "['13762-14-6']\n",
      "['2756-91-4']\n",
      "['848301-67-7']\n"
     ]
    }
   ],
   "source": [
    "df_demarini = pd.DataFrame(index = genetox['casrn'].unique())\n",
    "#%%\n",
    "for i, group in genetox.groupby('casrn'):\n",
    "    cas = group['casrn'].unique()\n",
    "    dtxsid = group['dsstox_substance_id'].unique()\n",
    "    # check which CASRNs are associated with multiple DTXSIDs\n",
    "    if len(dtxsid)>1:\n",
    "        print(cas)\n",
    "    subset = group[['simple_aggregate', 'assay_outcome']]\n",
    "    tuples = [tuple(x) for x in subset.values]\n",
    "    if ('Ames', 1) in tuples:\n",
    "        df_demarini.loc[cas, 'DeMarini_call']='gentox'\n",
    "    elif ('clastogen', 1) in tuples:\n",
    "        df_demarini.loc[cas, 'DeMarini_call']='clastogen'  \n",
    "    elif ('Ames', 2) in tuples:\n",
    "        df_demarini.loc[cas, 'DeMarini_call']='inconclusive'    \n",
    "    elif ('clastogen', 2) in tuples:\n",
    "        df_demarini.loc[cas, 'DeMarini_call']='inconclusive' \n",
    "    elif ('Ames', 0) in tuples:\n",
    "        df_demarini.loc[cas, 'DeMarini_call']='non gentox'\n",
    "    elif ('clastogen', 0) in tuples:\n",
    "        df_demarini.loc[cas, 'DeMarini_call']='not clastogen'   \n",
    "# below snippet for predictions of these Assays and not actual assay data from logic used in TSCA work\n",
    "#    elif ('pAmes', 1) in tuples:\n",
    "#        df_demarini.loc[cas, 'DeMarini_call']='pred gentox'\n",
    "#    elif ('pclastogen', 1) in tuples:\n",
    "#        df_demarini.loc[cas, 'DeMarini_call']='pred clastogen'\n",
    "#    elif ('pAmes', 0) in tuples:\n",
    "#        df_demarini.loc[cas, 'DeMarini_call']='pred non gentox'\n",
    "#    elif ('pclastogen', 0) in tuples:\n",
    "#        df_demarini.loc[cas, 'DeMarini_call']='pred non clastogen'\n",
    "    else:\n",
    "        None\n",
    "    df_demarini.loc[cas, 'DTXSID']=dtxsid[0]"
   ]
  },
  {
   "cell_type": "code",
   "execution_count": 8,
   "metadata": {},
   "outputs": [
    {
     "data": {
      "text/plain": [
       "(7437, 2)"
      ]
     },
     "execution_count": 8,
     "metadata": {},
     "output_type": "execute_result"
    }
   ],
   "source": [
    "df_demarini.shape"
   ]
  },
  {
   "cell_type": "markdown",
   "metadata": {},
   "source": [
    "#### Percentages of chemicals processed per Section 2.3"
   ]
  },
  {
   "cell_type": "code",
   "execution_count": 9,
   "metadata": {},
   "outputs": [
    {
     "data": {
      "text/plain": [
       "non gentox       2996\n",
       "NaN              1890\n",
       "gentox           1033\n",
       "clastogen         733\n",
       "inconclusive      595\n",
       "not clastogen     190\n",
       "Name: DeMarini_call, dtype: int64"
      ]
     },
     "execution_count": 9,
     "metadata": {},
     "output_type": "execute_result"
    }
   ],
   "source": [
    "df_demarini.DeMarini_call.value_counts(dropna = False, normalize = False)"
   ]
  },
  {
   "cell_type": "code",
   "execution_count": 10,
   "metadata": {},
   "outputs": [],
   "source": [
    "df_demarini.to_csv(processed_dat_dir+'DeMariniCalls.csv', index_label = 'CASRN')"
   ]
  },
  {
   "cell_type": "code",
   "execution_count": 18,
   "metadata": {},
   "outputs": [],
   "source": [
    "df_demarini = pd.read_csv(processed_dat_dir+'DeMariniCalls.csv')"
   ]
  },
  {
   "cell_type": "code",
   "execution_count": 19,
   "metadata": {},
   "outputs": [
    {
     "data": {
      "text/html": [
       "<div>\n",
       "<style scoped>\n",
       "    .dataframe tbody tr th:only-of-type {\n",
       "        vertical-align: middle;\n",
       "    }\n",
       "\n",
       "    .dataframe tbody tr th {\n",
       "        vertical-align: top;\n",
       "    }\n",
       "\n",
       "    .dataframe thead th {\n",
       "        text-align: right;\n",
       "    }\n",
       "</style>\n",
       "<table border=\"1\" class=\"dataframe\">\n",
       "  <thead>\n",
       "    <tr style=\"text-align: right;\">\n",
       "      <th></th>\n",
       "      <th>CASRN</th>\n",
       "      <th>DeMarini_call</th>\n",
       "      <th>DTXSID</th>\n",
       "    </tr>\n",
       "  </thead>\n",
       "  <tbody>\n",
       "    <tr>\n",
       "      <th>0</th>\n",
       "      <td>75-07-0</td>\n",
       "      <td>clastogen</td>\n",
       "      <td>DTXSID5039224</td>\n",
       "    </tr>\n",
       "    <tr>\n",
       "      <th>1</th>\n",
       "      <td>50-81-7</td>\n",
       "      <td>clastogen</td>\n",
       "      <td>DTXSID5020106</td>\n",
       "    </tr>\n",
       "    <tr>\n",
       "      <th>2</th>\n",
       "      <td>100-52-7</td>\n",
       "      <td>clastogen</td>\n",
       "      <td>DTXSID8039241</td>\n",
       "    </tr>\n",
       "    <tr>\n",
       "      <th>3</th>\n",
       "      <td>119-53-9</td>\n",
       "      <td>clastogen</td>\n",
       "      <td>DTXSID1020144</td>\n",
       "    </tr>\n",
       "    <tr>\n",
       "      <th>4</th>\n",
       "      <td>140-11-4</td>\n",
       "      <td>clastogen</td>\n",
       "      <td>DTXSID0020151</td>\n",
       "    </tr>\n",
       "  </tbody>\n",
       "</table>\n",
       "</div>"
      ],
      "text/plain": [
       "      CASRN DeMarini_call         DTXSID\n",
       "0   75-07-0     clastogen  DTXSID5039224\n",
       "1   50-81-7     clastogen  DTXSID5020106\n",
       "2  100-52-7     clastogen  DTXSID8039241\n",
       "3  119-53-9     clastogen  DTXSID1020144\n",
       "4  140-11-4     clastogen  DTXSID0020151"
      ]
     },
     "execution_count": 19,
     "metadata": {},
     "output_type": "execute_result"
    }
   ],
   "source": [
    "df_demarini.head()"
   ]
  },
  {
   "cell_type": "markdown",
   "metadata": {},
   "source": [
    "#### Plot the distribution of genotoxicity classification assignments"
   ]
  },
  {
   "cell_type": "code",
   "execution_count": 20,
   "metadata": {},
   "outputs": [
    {
     "data": {
      "text/plain": [
       "Text(0, 0.5, 'Classification')"
      ]
     },
     "execution_count": 20,
     "metadata": {},
     "output_type": "execute_result"
    },
    {
     "data": {
      "image/png": "[encoded data removed]",
      "text/plain": [
       "<Figure size 1600x1200 with 1 Axes>"
      ]
     },
     "metadata": {
      "needs_background": "light"
     },
     "output_type": "display_data"
    }
   ],
   "source": [
    "demarini = df_demarini.copy()\n",
    "\n",
    "plt.figure(figsize=(8, 6), dpi = 200)\n",
    "y = demarini.DeMarini_call.value_counts()\n",
    "ax = y.plot.barh()\n",
    "for i, v in enumerate(y):\n",
    "    ax.text(v-190, i + .3, str(v), color='purple', fontsize = 16, fontweight = 'bold')\n",
    "plt.xticks(fontsize = 16, family = 'serif')\n",
    "ticklabels = ['Non-mutagenic', 'Mutagenic', 'Clastogen', 'Inconclusive', 'Non-clastogen']\n",
    "plt.yticks(range(0,5), ticklabels, fontsize = 16, family = 'serif')\n",
    "plt.xlabel('Number of Chemicals', size = 24, labelpad = 10, family = 'serif')\n",
    "plt.ylabel('Classification', size = 24, labelpad = -10, family = 'serif')\n",
    "#plt.savefig(figures_dir+'ClassificationCount.png', bbox_inches='tight')\n"
   ]
  },
  {
   "cell_type": "markdown",
   "metadata": {},
   "source": [
    "#### Generate data for Table 3 and 4 in manuscript "
   ]
  },
  {
   "cell_type": "code",
   "execution_count": 22,
   "metadata": {},
   "outputs": [
    {
     "data": {
      "text/plain": [
       "array(['clastogen', 'gentox', 'non gentox', nan, 'inconclusive',\n",
       "       'not clastogen'], dtype=object)"
      ]
     },
     "execution_count": 22,
     "metadata": {},
     "output_type": "execute_result"
    }
   ],
   "source": [
    "demarini.DeMarini_call.unique()"
   ]
  },
  {
   "cell_type": "code",
   "execution_count": 61,
   "metadata": {},
   "outputs": [],
   "source": [
    "tag = {'clastogen':1, 'gentox':1, 'non gentox':0,  'inconclusive':np.nan,\n",
    "       'not clastogen':0}"
   ]
  },
  {
   "cell_type": "code",
   "execution_count": 62,
   "metadata": {},
   "outputs": [],
   "source": [
    "demarini['DeMarini_outcome'] = demarini['DeMarini_call'].replace(tag)"
   ]
  },
  {
   "cell_type": "code",
   "execution_count": 63,
   "metadata": {},
   "outputs": [
    {
     "data": {
      "text/html": [
       "<div>\n",
       "<style scoped>\n",
       "    .dataframe tbody tr th:only-of-type {\n",
       "        vertical-align: middle;\n",
       "    }\n",
       "\n",
       "    .dataframe tbody tr th {\n",
       "        vertical-align: top;\n",
       "    }\n",
       "\n",
       "    .dataframe thead th {\n",
       "        text-align: right;\n",
       "    }\n",
       "</style>\n",
       "<table border=\"1\" class=\"dataframe\">\n",
       "  <thead>\n",
       "    <tr style=\"text-align: right;\">\n",
       "      <th></th>\n",
       "      <th>DeMarini_call</th>\n",
       "      <th>DTXSID</th>\n",
       "      <th>DeMarini_outcome</th>\n",
       "    </tr>\n",
       "    <tr>\n",
       "      <th>CASRN</th>\n",
       "      <th></th>\n",
       "      <th></th>\n",
       "      <th></th>\n",
       "    </tr>\n",
       "  </thead>\n",
       "  <tbody>\n",
       "    <tr>\n",
       "      <th>75-07-0</th>\n",
       "      <td>clastogen</td>\n",
       "      <td>DTXSID5039224</td>\n",
       "      <td>1.0</td>\n",
       "    </tr>\n",
       "    <tr>\n",
       "      <th>50-81-7</th>\n",
       "      <td>clastogen</td>\n",
       "      <td>DTXSID5020106</td>\n",
       "      <td>1.0</td>\n",
       "    </tr>\n",
       "    <tr>\n",
       "      <th>100-52-7</th>\n",
       "      <td>clastogen</td>\n",
       "      <td>DTXSID8039241</td>\n",
       "      <td>1.0</td>\n",
       "    </tr>\n",
       "    <tr>\n",
       "      <th>119-53-9</th>\n",
       "      <td>clastogen</td>\n",
       "      <td>DTXSID1020144</td>\n",
       "      <td>1.0</td>\n",
       "    </tr>\n",
       "    <tr>\n",
       "      <th>140-11-4</th>\n",
       "      <td>clastogen</td>\n",
       "      <td>DTXSID0020151</td>\n",
       "      <td>1.0</td>\n",
       "    </tr>\n",
       "    <tr>\n",
       "      <th>...</th>\n",
       "      <td>...</td>\n",
       "      <td>...</td>\n",
       "      <td>...</td>\n",
       "    </tr>\n",
       "    <tr>\n",
       "      <th>39013-93-9</th>\n",
       "      <td>NaN</td>\n",
       "      <td>-</td>\n",
       "      <td>NaN</td>\n",
       "    </tr>\n",
       "    <tr>\n",
       "      <th>54779-53-2</th>\n",
       "      <td>NaN</td>\n",
       "      <td>-</td>\n",
       "      <td>NaN</td>\n",
       "    </tr>\n",
       "    <tr>\n",
       "      <th>58337-34-1</th>\n",
       "      <td>NaN</td>\n",
       "      <td>-</td>\n",
       "      <td>NaN</td>\n",
       "    </tr>\n",
       "    <tr>\n",
       "      <th>70021-99-7</th>\n",
       "      <td>NaN</td>\n",
       "      <td>-</td>\n",
       "      <td>NaN</td>\n",
       "    </tr>\n",
       "    <tr>\n",
       "      <th>86674-51-3</th>\n",
       "      <td>NaN</td>\n",
       "      <td>DTXSID101007006</td>\n",
       "      <td>NaN</td>\n",
       "    </tr>\n",
       "  </tbody>\n",
       "</table>\n",
       "<p>7437 rows × 3 columns</p>\n",
       "</div>"
      ],
      "text/plain": [
       "           DeMarini_call           DTXSID  DeMarini_outcome\n",
       "CASRN                                                      \n",
       "75-07-0        clastogen    DTXSID5039224               1.0\n",
       "50-81-7        clastogen    DTXSID5020106               1.0\n",
       "100-52-7       clastogen    DTXSID8039241               1.0\n",
       "119-53-9       clastogen    DTXSID1020144               1.0\n",
       "140-11-4       clastogen    DTXSID0020151               1.0\n",
       "...                  ...              ...               ...\n",
       "39013-93-9           NaN                -               NaN\n",
       "54779-53-2           NaN                -               NaN\n",
       "58337-34-1           NaN                -               NaN\n",
       "70021-99-7           NaN                -               NaN\n",
       "86674-51-3           NaN  DTXSID101007006               NaN\n",
       "\n",
       "[7437 rows x 3 columns]"
      ]
     },
     "execution_count": 63,
     "metadata": {},
     "output_type": "execute_result"
    }
   ],
   "source": [
    "demarini"
   ]
  },
  {
   "cell_type": "code",
   "execution_count": 27,
   "metadata": {},
   "outputs": [],
   "source": [
    "demarini = demarini.set_index('CASRN')"
   ]
  },
  {
   "cell_type": "code",
   "execution_count": 49,
   "metadata": {},
   "outputs": [],
   "source": [
    "genetox_data = genetox.copy()"
   ]
  },
  {
   "cell_type": "markdown",
   "metadata": {},
   "source": [
    "#### Create a new dataframe for summary assay statistics per chemical"
   ]
  },
  {
   "cell_type": "code",
   "execution_count": 50,
   "metadata": {},
   "outputs": [],
   "source": [
    "## Create a new dataframe for summary assay statistics per chemical\n",
    "genetox_data_summary = pd.DataFrame(index = demarini.index, columns = ['nAmes', 'nAmesPos', 'nAmesNeg', 'nAmesInc', '%AmesPos', \\\n",
    "                                                                'nClas', 'nClasPos','nClasNeg', 'nClasInc', '%ClasPos', 'DeMarini'])\n",
    "genetox_data_summary['DeMarini'] = demarini['DeMarini_outcome']\n",
    "# Update each row in the dataframe\n",
    "for casrn in genetox_data_summary.index:\n",
    "    # Ames\n",
    "    genetox_data_summary.loc[casrn, 'nAmes'] = len(genetox_data[(genetox_data['casrn'] == casrn) \\\n",
    "                            & (genetox_data['simple_aggregate'] == 'Ames')])\n",
    "    genetox_data_summary.loc[casrn, 'nAmesPos'] = len(genetox_data[(genetox_data['casrn'] == casrn) \\\n",
    "                            & (genetox_data['simple_aggregate'] == 'Ames')\\\n",
    "                            & (genetox_data['assay_outcome'] == 1)])\n",
    "    genetox_data_summary.loc[casrn, 'nAmesNeg'] = len(genetox_data[(genetox_data['casrn'] == casrn) \\\n",
    "                            & (genetox_data['simple_aggregate'] == 'Ames')\\\n",
    "                            & (genetox_data['assay_outcome'] == 0)])\n",
    "    genetox_data_summary.loc[casrn, 'nAmesInc'] = len(genetox_data[(genetox_data['casrn'] == casrn) \\\n",
    "                            & (genetox_data['simple_aggregate'] == 'Ames')\\\n",
    "                            & (genetox_data['assay_outcome'] == 2)])\n",
    "    if genetox_data_summary.loc[casrn, 'nAmes'] == 0:\n",
    "        genetox_data_summary.loc[casrn, '%AmesPos'] = np.nan\n",
    "    else:\n",
    "        genetox_data_summary.loc[casrn, '%AmesPos'] = 100*genetox_data_summary.loc[casrn, 'nAmesPos']/genetox_data_summary.loc[casrn, 'nAmes']\n",
    "    # Update inconclusives\n",
    "    n1 = len(genetox_data[(genetox_data['casrn'] == casrn) \\\n",
    "                            & (genetox_data['simple_aggregate'] == 'Ames')\\\n",
    "                            & (genetox_data['assay_outcome'] == 2)])\n",
    "    if genetox_data_summary.loc[casrn, '%AmesPos'] == 0 and n1 > 0:\n",
    "        genetox_data_summary.loc[casrn, '%AmesPos'] = -9 #inconclusive is indicated by -9\n",
    "   # Clastogens\n",
    "    genetox_data_summary.loc[casrn, 'nClas'] = len(genetox_data[(genetox_data['casrn'] == casrn) \\\n",
    "                            & (genetox_data['simple_aggregate'] == 'clastogen')])\n",
    "    genetox_data_summary.loc[casrn, 'nClasPos'] = len(genetox_data[(genetox_data['casrn'] == casrn) \\\n",
    "                            & (genetox_data['simple_aggregate'] == 'clastogen')\\\n",
    "                            & (genetox_data['assay_outcome'] == 1)])\n",
    "    genetox_data_summary.loc[casrn, 'nClasNeg'] = len(genetox_data[(genetox_data['casrn'] == casrn) \\\n",
    "                            & (genetox_data['simple_aggregate'] == 'clastogen')\\\n",
    "                            & (genetox_data['assay_outcome'] == 0)])    \n",
    "    genetox_data_summary.loc[casrn, 'nClasInc'] = len(genetox_data[(genetox_data['casrn'] == casrn) \\\n",
    "                            & (genetox_data['simple_aggregate'] == 'clastogen')\\\n",
    "                            & (genetox_data['assay_outcome'] == 2)])        \n",
    "    if genetox_data_summary.loc[casrn, 'nClas'] == 0:\n",
    "        genetox_data_summary.loc[casrn, '%ClasPos'] = np.nan\n",
    "    else:\n",
    "        genetox_data_summary.loc[casrn, '%ClasPos'] = 100*genetox_data_summary.loc[casrn, 'nClasPos']/genetox_data_summary.loc[casrn, 'nClas']\n",
    "    # Update inconclusives \n",
    "    n2 = len(genetox_data[(genetox_data['casrn'] == casrn) \\\n",
    "                            & (genetox_data['simple_aggregate'] == 'clastogen')\\\n",
    "                            & (genetox_data['assay_outcome'] == 2)])    \n",
    "    if genetox_data_summary.loc[casrn, '%ClasPos'] == 0 and n2 > 0:\n",
    "        genetox_data_summary.loc[casrn, '%ClasPos'] = -9 #inconclusive is indicated by -9\n",
    "\n",
    "#%%"
   ]
  },
  {
   "cell_type": "code",
   "execution_count": 52,
   "metadata": {},
   "outputs": [
    {
     "name": "stdout",
     "output_type": "stream",
     "text": [
      "<class 'pandas.core.frame.DataFrame'>\n",
      "Index: 7437 entries, 75-07-0 to 86674-51-3\n",
      "Data columns (total 11 columns):\n",
      " #   Column    Non-Null Count  Dtype \n",
      "---  ------    --------------  ----- \n",
      " 0   nAmes     7437 non-null   object\n",
      " 1   nAmesPos  7437 non-null   object\n",
      " 2   nAmesNeg  7437 non-null   object\n",
      " 3   nAmesInc  7437 non-null   object\n",
      " 4   %AmesPos  4907 non-null   object\n",
      " 5   nClas     7437 non-null   object\n",
      " 6   nClasPos  7437 non-null   object\n",
      " 7   nClasNeg  7437 non-null   object\n",
      " 8   nClasInc  7437 non-null   object\n",
      " 9   %ClasPos  2684 non-null   object\n",
      " 10  DeMarini  5547 non-null   object\n",
      "dtypes: object(11)\n",
      "memory usage: 1017.2+ KB\n"
     ]
    }
   ],
   "source": [
    "genetox_data_summary.info()"
   ]
  },
  {
   "cell_type": "code",
   "execution_count": 67,
   "metadata": {},
   "outputs": [
    {
     "data": {
      "text/html": [
       "<div>\n",
       "<style scoped>\n",
       "    .dataframe tbody tr th:only-of-type {\n",
       "        vertical-align: middle;\n",
       "    }\n",
       "\n",
       "    .dataframe tbody tr th {\n",
       "        vertical-align: top;\n",
       "    }\n",
       "\n",
       "    .dataframe thead th {\n",
       "        text-align: right;\n",
       "    }\n",
       "</style>\n",
       "<table border=\"1\" class=\"dataframe\">\n",
       "  <thead>\n",
       "    <tr style=\"text-align: right;\">\n",
       "      <th></th>\n",
       "      <th>nAmes</th>\n",
       "      <th>nAmesPos</th>\n",
       "      <th>nAmesNeg</th>\n",
       "      <th>nAmesInc</th>\n",
       "      <th>%AmesPos</th>\n",
       "      <th>nClas</th>\n",
       "      <th>nClasPos</th>\n",
       "      <th>nClasNeg</th>\n",
       "      <th>nClasInc</th>\n",
       "      <th>%ClasPos</th>\n",
       "      <th>DeMarini</th>\n",
       "      <th>DeMarini_outcome</th>\n",
       "    </tr>\n",
       "    <tr>\n",
       "      <th>CASRN</th>\n",
       "      <th></th>\n",
       "      <th></th>\n",
       "      <th></th>\n",
       "      <th></th>\n",
       "      <th></th>\n",
       "      <th></th>\n",
       "      <th></th>\n",
       "      <th></th>\n",
       "      <th></th>\n",
       "      <th></th>\n",
       "      <th></th>\n",
       "      <th></th>\n",
       "    </tr>\n",
       "  </thead>\n",
       "  <tbody>\n",
       "    <tr>\n",
       "      <th>75-07-0</th>\n",
       "      <td>4</td>\n",
       "      <td>0</td>\n",
       "      <td>4</td>\n",
       "      <td>0</td>\n",
       "      <td>0</td>\n",
       "      <td>9</td>\n",
       "      <td>9</td>\n",
       "      <td>0</td>\n",
       "      <td>0</td>\n",
       "      <td>100</td>\n",
       "      <td>1.0</td>\n",
       "      <td>clastogen</td>\n",
       "    </tr>\n",
       "    <tr>\n",
       "      <th>50-81-7</th>\n",
       "      <td>1</td>\n",
       "      <td>0</td>\n",
       "      <td>0</td>\n",
       "      <td>1</td>\n",
       "      <td>-9</td>\n",
       "      <td>22</td>\n",
       "      <td>21</td>\n",
       "      <td>0</td>\n",
       "      <td>1</td>\n",
       "      <td>95.4545</td>\n",
       "      <td>1.0</td>\n",
       "      <td>clastogen</td>\n",
       "    </tr>\n",
       "    <tr>\n",
       "      <th>100-52-7</th>\n",
       "      <td>5</td>\n",
       "      <td>0</td>\n",
       "      <td>5</td>\n",
       "      <td>0</td>\n",
       "      <td>0</td>\n",
       "      <td>4</td>\n",
       "      <td>2</td>\n",
       "      <td>2</td>\n",
       "      <td>0</td>\n",
       "      <td>50</td>\n",
       "      <td>1.0</td>\n",
       "      <td>clastogen</td>\n",
       "    </tr>\n",
       "    <tr>\n",
       "      <th>119-53-9</th>\n",
       "      <td>0</td>\n",
       "      <td>0</td>\n",
       "      <td>0</td>\n",
       "      <td>0</td>\n",
       "      <td>NaN</td>\n",
       "      <td>8</td>\n",
       "      <td>8</td>\n",
       "      <td>0</td>\n",
       "      <td>0</td>\n",
       "      <td>100</td>\n",
       "      <td>1.0</td>\n",
       "      <td>clastogen</td>\n",
       "    </tr>\n",
       "    <tr>\n",
       "      <th>140-11-4</th>\n",
       "      <td>0</td>\n",
       "      <td>0</td>\n",
       "      <td>0</td>\n",
       "      <td>0</td>\n",
       "      <td>NaN</td>\n",
       "      <td>8</td>\n",
       "      <td>6</td>\n",
       "      <td>2</td>\n",
       "      <td>0</td>\n",
       "      <td>75</td>\n",
       "      <td>1.0</td>\n",
       "      <td>clastogen</td>\n",
       "    </tr>\n",
       "  </tbody>\n",
       "</table>\n",
       "</div>"
      ],
      "text/plain": [
       "         nAmes nAmesPos nAmesNeg nAmesInc %AmesPos nClas nClasPos nClasNeg  \\\n",
       "CASRN                                                                        \n",
       "75-07-0      4        0        4        0        0     9        9        0   \n",
       "50-81-7      1        0        0        1       -9    22       21        0   \n",
       "100-52-7     5        0        5        0        0     4        2        2   \n",
       "119-53-9     0        0        0        0      NaN     8        8        0   \n",
       "140-11-4     0        0        0        0      NaN     8        6        2   \n",
       "\n",
       "         nClasInc %ClasPos  DeMarini DeMarini_outcome  \n",
       "CASRN                                                  \n",
       "75-07-0         0      100       1.0        clastogen  \n",
       "50-81-7         1  95.4545       1.0        clastogen  \n",
       "100-52-7        0       50       1.0        clastogen  \n",
       "119-53-9        0      100       1.0        clastogen  \n",
       "140-11-4        0       75       1.0        clastogen  "
      ]
     },
     "execution_count": 67,
     "metadata": {},
     "output_type": "execute_result"
    }
   ],
   "source": [
    "genetox_data_summary.head()"
   ]
  },
  {
   "cell_type": "markdown",
   "metadata": {},
   "source": [
    "### Counts for Table 3. in manuscript (Analysis of chemicals tested in the Ames assay and their classification as genotoxic, non-genotoxic or inconclusive using the genotoxicity categorisation scheme)"
   ]
  },
  {
   "cell_type": "code",
   "execution_count": 66,
   "metadata": {},
   "outputs": [
    {
     "name": "stdout",
     "output_type": "stream",
     "text": [
      "Count PercAmesPos <50 = 3653\n",
      "Count PercAmesPos >=50 = 870\n",
      "Count Ames Inconclusives = 384\n",
      "Count DeMarini negative and PercAmesPos <50 = 2996\n",
      "Count DeMarini negative and PercAmesPos >=50 = 0\n",
      "Count DeMarini negative and Ames Inconclusives = 0\n",
      "Count DeMarini positive and PercAmesPos <50 = 537\n",
      "Count DeMarini positive and PercAmesPos >=50 = 870\n",
      "Count DeMarini positive and Ames Inconclusives = 33\n",
      "Count DeMarini Inconclusive and PercAmesPos <50 = 120\n",
      "Count DeMarini Inconclusive and PercAmesPos >=50 = 0\n",
      "Count DeMarini Inconclusive and Ames Inconclusives = 351\n"
     ]
    }
   ],
   "source": [
    "\n",
    "#Ames\n",
    "n10 = len(genetox_data_summary[(genetox_data_summary['%AmesPos'] != -9) & (genetox_data_summary['%AmesPos'] < 50)])\n",
    "n20 = len(genetox_data_summary[(genetox_data_summary['%AmesPos'] != -9) & (genetox_data_summary['%AmesPos'] >= 50)]) \n",
    "n30 = len(genetox_data_summary[(genetox_data_summary['%AmesPos'] == -9)]) \n",
    "print(\"Count PercAmesPos <50 = %d\" %n10)\n",
    "print(\"Count PercAmesPos >=50 = %d\" %n20)\n",
    "print(\"Count Ames Inconclusives = %d\" %n30)\n",
    "\n",
    "#Ames and DeMarini negative\n",
    "n11 = len(genetox_data_summary[(genetox_data_summary['%AmesPos'] != -9) & (genetox_data_summary['%AmesPos'] < 50) & (genetox_data_summary['DeMarini'] ==0)])\n",
    "n21 = len(genetox_data_summary[(genetox_data_summary['%AmesPos'] != -9) & (genetox_data_summary['%AmesPos'] >= 50) & (genetox_data_summary['DeMarini'] ==0)])\n",
    "n31 = len(genetox_data_summary[(genetox_data_summary['%AmesPos'] == -9) & (genetox_data_summary['DeMarini'] ==0)])\n",
    "print(\"Count DeMarini negative and PercAmesPos <50 = %d\" %n11)\n",
    "print(\"Count DeMarini negative and PercAmesPos >=50 = %d\" %n21)\n",
    "print(\"Count DeMarini negative and Ames Inconclusives = %d\" %n31)\n",
    "\n",
    "#Ames and DeMarini positive\n",
    "n12 = len(genetox_data_summary[(genetox_data_summary['%AmesPos'] != -9) & (genetox_data_summary['%AmesPos'] < 50) & (genetox_data_summary['DeMarini'] ==1)])\n",
    "n22 = len(genetox_data_summary[(genetox_data_summary['%AmesPos'] != -9) & (genetox_data_summary['%AmesPos'] >= 50) & (genetox_data_summary['DeMarini'] ==1)])\n",
    "n32 = len(genetox_data_summary[(genetox_data_summary['%AmesPos'] == -9) & (genetox_data_summary['DeMarini'] ==1)])\n",
    "print(\"Count DeMarini positive and PercAmesPos <50 = %d\" %n12)\n",
    "print(\"Count DeMarini positive and PercAmesPos >=50 = %d\" %n22)\n",
    "print(\"Count DeMarini positive and Ames Inconclusives = %d\" %n32)\n",
    "\n",
    "#Ames and DeMarini Inconclusive\n",
    "n13 = len(genetox_data_summary[(genetox_data_summary['%AmesPos'] != -9) & (genetox_data_summary['%AmesPos'] < 50) & (genetox_data_summary['DeMarini'].isnull())])\n",
    "n23 = len(genetox_data_summary[(genetox_data_summary['%AmesPos'] != -9) & (genetox_data_summary['%AmesPos'] >= 50) & (genetox_data_summary['DeMarini'].isnull())])\n",
    "n33 = len(genetox_data_summary[(genetox_data_summary['%AmesPos'] == -9) & (genetox_data_summary['DeMarini'].isnull())])\n",
    "print(\"Count DeMarini Inconclusive and PercAmesPos <50 = %d\" %n13)\n",
    "print(\"Count DeMarini Inconclusive and PercAmesPos >=50 = %d\" %n23)\n",
    "print(\"Count DeMarini Inconclusive and Ames Inconclusives = %d\" %n33)\n",
    "\n"
   ]
  },
  {
   "cell_type": "markdown",
   "metadata": {},
   "source": [
    "#### Counts for Table 4 in manuscript (A Characterisation of number of chemicals tested in less than K (1, 2, 3, 4, 5 and 10) or less number of Ames or Clastogen assays)"
   ]
  },
  {
   "cell_type": "code",
   "execution_count": 54,
   "metadata": {},
   "outputs": [
    {
     "name": "stdout",
     "output_type": "stream",
     "text": [
      "Number of chemicals tested in <= 0 Ames assays = 2530\n",
      "Number of chemicals tested in <= 0 Clastogen assays = 4753\n",
      "Number of chemicals tested in <= 1 Ames assays = 4319\n",
      "Number of chemicals tested in <= 1 Clastogen assays = 6038\n",
      "Number of chemicals tested in <= 2 Ames assays = 5240\n",
      "Number of chemicals tested in <= 2 Clastogen assays = 6706\n",
      "Number of chemicals tested in <= 3 Ames assays = 5592\n",
      "Number of chemicals tested in <= 3 Clastogen assays = 7002\n",
      "Number of chemicals tested in <= 4 Ames assays = 6155\n",
      "Number of chemicals tested in <= 4 Clastogen assays = 7163\n",
      "Number of chemicals tested in <= 5 Ames assays = 6328\n",
      "Number of chemicals tested in <= 5 Clastogen assays = 7219\n",
      "Number of chemicals tested in <= 6 Ames assays = 6587\n",
      "Number of chemicals tested in <= 6 Clastogen assays = 7264\n",
      "Number of chemicals tested in <= 7 Ames assays = 6656\n",
      "Number of chemicals tested in <= 7 Clastogen assays = 7302\n",
      "Number of chemicals tested in <= 8 Ames assays = 6883\n",
      "Number of chemicals tested in <= 8 Clastogen assays = 7327\n",
      "Number of chemicals tested in <= 9 Ames assays = 6932\n",
      "Number of chemicals tested in <= 9 Clastogen assays = 7337\n",
      "Number of chemicals tested in <= 10 Ames assays = 7005\n",
      "Number of chemicals tested in <= 10 Clastogen assays = 7349\n"
     ]
    }
   ],
   "source": [
    "\n",
    "for k in range(11):\n",
    "    a = genetox_data_summary[genetox_data_summary['nAmes'] <= k]['nAmes'].count()\n",
    "    c = genetox_data_summary[genetox_data_summary['nClas'] <= k]['nClas'].count()\n",
    "    print(\"Number of chemicals tested in <= %d Ames assays = %d\" %(k,a))\n",
    "    print(\"Number of chemicals tested in <= %d Clastogen assays = %d\" %(k,c))\n"
   ]
  },
  {
   "cell_type": "code",
   "execution_count": null,
   "metadata": {},
   "outputs": [],
   "source": []
  }
 ],
 "metadata": {
  "kernelspec": {
   "display_name": "Python 3",
   "language": "python",
   "name": "python3"
  },
  "language_info": {
   "codemirror_mode": {
    "name": "ipython",
    "version": 3
   },
   "file_extension": ".py",
   "mimetype": "text/x-python",
   "name": "python",
   "nbconvert_exporter": "python",
   "pygments_lexer": "ipython3",
   "version": "3.7.6"
  }
 },
 "nbformat": 4,
 "nbformat_minor": 4
}
