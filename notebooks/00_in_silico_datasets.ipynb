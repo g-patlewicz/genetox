{
 "cells": [
  {
   "cell_type": "markdown",
   "metadata": {},
   "source": [
    "#### Creation of genotoxicity datasets"
   ]
  },
  {
   "cell_type": "code",
   "execution_count": 1,
   "metadata": {},
   "outputs": [],
   "source": [
    "import numpy as np\n",
    "import pandas as pd\n",
    "import matplotlib.pyplot as plt\n",
    "import seaborn as sns\n",
    "%matplotlib inline"
   ]
  },
  {
   "cell_type": "code",
   "execution_count": 2,
   "metadata": {},
   "outputs": [],
   "source": [
    "raw_dat_dir = '/home/grace/Documents/python/genetox/data/raw/'\n",
    "processed_dat_dir = '/home/grace/Documents/python/genetox/data/processed/'\n",
    "interim_dat_dir = '/home/grace/Documents/python/genetox/data/interim/'\n",
    "figures_dir = '/home/grace/Documents/python/genetox/reports/figures/'\n"
   ]
  },
  {
   "cell_type": "code",
   "execution_count": 4,
   "metadata": {},
   "outputs": [],
   "source": [
    "raw_genetox = pd.read_excel(raw_dat_dir+'combined_genetox_standard_2021-02-05.xlsx')"
   ]
  },
  {
   "cell_type": "code",
   "execution_count": 6,
   "metadata": {},
   "outputs": [
    {
     "data": {
      "text/plain": [
       "(54805, 31)"
      ]
     },
     "execution_count": 6,
     "metadata": {},
     "output_type": "execute_result"
    }
   ],
   "source": [
    "raw_genetox.shape"
   ]
  },
  {
   "cell_type": "code",
   "execution_count": 704,
   "metadata": {},
   "outputs": [],
   "source": [
    "#raw_genetox.assay_type.unique()"
   ]
  },
  {
   "cell_type": "code",
   "execution_count": 479,
   "metadata": {},
   "outputs": [],
   "source": [
    "#raw_genetox[raw_genetox['dtxsid'] == 'DTXSID0024896']"
   ]
  },
  {
   "cell_type": "markdown",
   "metadata": {},
   "source": [
    "#### Download the DTXSIDs in order to extract SMILES and QSAR_READY_SMILES from the EPA CompTox Chemicals Dashboard"
   ]
  },
  {
   "cell_type": "markdown",
   "metadata": {},
   "source": [
    "There is 5000 limit for downloads hence performed 2 searches to extract all the SMILES information with the intention of concatenating the 2 datasets together"
   ]
  },
  {
   "cell_type": "code",
   "execution_count": 11,
   "metadata": {},
   "outputs": [],
   "source": [
    "dashboard_smi_1 = pd.read_csv('/home/grace/Downloads/CompToxChemicalsDashboard-Batch-Search_2021-02-08_21 09 01.csv')"
   ]
  },
  {
   "cell_type": "code",
   "execution_count": 12,
   "metadata": {},
   "outputs": [],
   "source": [
    "dashboard_smi_2 = pd.read_csv('/home/grace/Downloads/CompToxChemicalsDashboard-Batch-Search_2021-02-08_21 14 30.csv')"
   ]
  },
  {
   "cell_type": "code",
   "execution_count": 13,
   "metadata": {},
   "outputs": [
    {
     "data": {
      "text/plain": [
       "(4999, 23)"
      ]
     },
     "execution_count": 13,
     "metadata": {},
     "output_type": "execute_result"
    }
   ],
   "source": [
    "dashboard_smi_1.shape"
   ]
  },
  {
   "cell_type": "code",
   "execution_count": 15,
   "metadata": {},
   "outputs": [
    {
     "data": {
      "text/plain": [
       "(4301, 23)"
      ]
     },
     "execution_count": 15,
     "metadata": {},
     "output_type": "execute_result"
    }
   ],
   "source": [
    "dashboard_smi_2.shape"
   ]
  },
  {
   "cell_type": "code",
   "execution_count": 717,
   "metadata": {},
   "outputs": [
    {
     "data": {
      "text/plain": [
       "9300"
      ]
     },
     "execution_count": 717,
     "metadata": {},
     "output_type": "execute_result"
    }
   ],
   "source": [
    "4999+4301"
   ]
  },
  {
   "cell_type": "code",
   "execution_count": 19,
   "metadata": {},
   "outputs": [],
   "source": [
    "genetox_smi = pd.concat([dashboard_smi_1[['DTXSID', 'PREFERRED_NAME', 'CASRN', 'SMILES',\n",
    "       'QSAR_READY_SMILES']], dashboard_smi_2[['DTXSID', 'PREFERRED_NAME', 'CASRN', 'SMILES',\n",
    "       'QSAR_READY_SMILES']]], axis = 0)"
   ]
  },
  {
   "cell_type": "code",
   "execution_count": 20,
   "metadata": {},
   "outputs": [
    {
     "data": {
      "text/plain": [
       "(9300, 5)"
      ]
     },
     "execution_count": 20,
     "metadata": {},
     "output_type": "execute_result"
    }
   ],
   "source": [
    "genetox_smi.shape"
   ]
  },
  {
   "cell_type": "code",
   "execution_count": 23,
   "metadata": {},
   "outputs": [],
   "source": [
    "genetox_smi = genetox_smi.iloc[1:, :]"
   ]
  },
  {
   "cell_type": "markdown",
   "metadata": {},
   "source": [
    "How many substances have QSAR READY SMILES that lend them for predictions - 1788 missing SMILES and 7511 have SMILES"
   ]
  },
  {
   "cell_type": "code",
   "execution_count": 29,
   "metadata": {},
   "outputs": [],
   "source": [
    "gentox_wsmi = genetox_smi[genetox_smi['QSAR_READY_SMILES'] != '-']"
   ]
  },
  {
   "cell_type": "code",
   "execution_count": 30,
   "metadata": {},
   "outputs": [],
   "source": [
    "gentox_wsmi.to_csv(raw_dat_dir+'genetox_DTXSID_wsmi.csv')"
   ]
  },
  {
   "cell_type": "code",
   "execution_count": 32,
   "metadata": {},
   "outputs": [
    {
     "data": {
      "text/plain": [
       "(7511, 5)"
      ]
     },
     "execution_count": 32,
     "metadata": {},
     "output_type": "execute_result"
    }
   ],
   "source": [
    "gentox_wsmi.shape\n"
   ]
  },
  {
   "cell_type": "markdown",
   "metadata": {},
   "source": [
    "#### Processing TEST predictions. Newest version 5.1 was used to generate consensus Ames mutagenicity predictions"
   ]
  },
  {
   "cell_type": "code",
   "execution_count": 256,
   "metadata": {},
   "outputs": [],
   "source": [
    "TEST_out = pd.read_csv(interim_dat_dir+'TEST_genetox_out.csv')"
   ]
  },
  {
   "cell_type": "code",
   "execution_count": 257,
   "metadata": {},
   "outputs": [
    {
     "data": {
      "text/plain": [
       "(7511, 9)"
      ]
     },
     "execution_count": 257,
     "metadata": {},
     "output_type": "execute_result"
    }
   ],
   "source": [
    "TEST_out.shape"
   ]
  },
  {
   "cell_type": "code",
   "execution_count": 258,
   "metadata": {},
   "outputs": [
    {
     "data": {
      "text/html": [
       "<div>\n",
       "<style scoped>\n",
       "    .dataframe tbody tr th:only-of-type {\n",
       "        vertical-align: middle;\n",
       "    }\n",
       "\n",
       "    .dataframe tbody tr th {\n",
       "        vertical-align: top;\n",
       "    }\n",
       "\n",
       "    .dataframe thead th {\n",
       "        text-align: right;\n",
       "    }\n",
       "</style>\n",
       "<table border=\"1\" class=\"dataframe\">\n",
       "  <thead>\n",
       "    <tr style=\"text-align: right;\">\n",
       "      <th></th>\n",
       "      <th>Index</th>\n",
       "      <th>ID</th>\n",
       "      <th>Query</th>\n",
       "      <th>SmilesRan</th>\n",
       "      <th>Error</th>\n",
       "      <th>Exp_Value</th>\n",
       "      <th>Pred_Value</th>\n",
       "      <th>Exp_Result</th>\n",
       "      <th>Pred_Result</th>\n",
       "    </tr>\n",
       "  </thead>\n",
       "  <tbody>\n",
       "    <tr>\n",
       "      <th>0</th>\n",
       "      <td>1</td>\n",
       "      <td>1086-00-6</td>\n",
       "      <td>1086-00-6</td>\n",
       "      <td>ClCC1=CC=C2C=CC3=CC=CC=4C=CC1=C2C34</td>\n",
       "      <td>NaN</td>\n",
       "      <td>1.0</td>\n",
       "      <td>0.79</td>\n",
       "      <td>Mutagenicity Positive</td>\n",
       "      <td>Mutagenicity Positive</td>\n",
       "    </tr>\n",
       "    <tr>\n",
       "      <th>1</th>\n",
       "      <td>2</td>\n",
       "      <td>131657-78-8</td>\n",
       "      <td>131657-78-8</td>\n",
       "      <td>O=[N+]([O-])C1=CC(Cl)=C(O)C(=C1)NCC</td>\n",
       "      <td>NaN</td>\n",
       "      <td>NaN</td>\n",
       "      <td>0.53</td>\n",
       "      <td>NaN</td>\n",
       "      <td>Mutagenicity Positive</td>\n",
       "    </tr>\n",
       "    <tr>\n",
       "      <th>2</th>\n",
       "      <td>3</td>\n",
       "      <td>13345-26-1</td>\n",
       "      <td>13345-26-1</td>\n",
       "      <td>OC=1C=CC2=C(C1)C=C3C=CC4=CC=CC=5C=CC2=C3C45</td>\n",
       "      <td>NaN</td>\n",
       "      <td>1.0</td>\n",
       "      <td>1.03</td>\n",
       "      <td>Mutagenicity Positive</td>\n",
       "      <td>Mutagenicity Positive</td>\n",
       "    </tr>\n",
       "    <tr>\n",
       "      <th>3</th>\n",
       "      <td>4</td>\n",
       "      <td>13501-76-3</td>\n",
       "      <td>13501-76-3</td>\n",
       "      <td>ClCCC[Si](OCC)(OCC)C</td>\n",
       "      <td>NaN</td>\n",
       "      <td>NaN</td>\n",
       "      <td>0.08</td>\n",
       "      <td>NaN</td>\n",
       "      <td>Mutagenicity Negative</td>\n",
       "    </tr>\n",
       "    <tr>\n",
       "      <th>4</th>\n",
       "      <td>5</td>\n",
       "      <td>66376-36-1</td>\n",
       "      <td>66376-36-1</td>\n",
       "      <td>O=P(O)(O)C(O)(CCCN)P(=O)(O)O</td>\n",
       "      <td>NaN</td>\n",
       "      <td>NaN</td>\n",
       "      <td>0.38</td>\n",
       "      <td>NaN</td>\n",
       "      <td>Mutagenicity Negative</td>\n",
       "    </tr>\n",
       "  </tbody>\n",
       "</table>\n",
       "</div>"
      ],
      "text/plain": [
       "   Index           ID        Query  \\\n",
       "0      1    1086-00-6    1086-00-6   \n",
       "1      2  131657-78-8  131657-78-8   \n",
       "2      3   13345-26-1   13345-26-1   \n",
       "3      4   13501-76-3   13501-76-3   \n",
       "4      5   66376-36-1   66376-36-1   \n",
       "\n",
       "                                     SmilesRan Error  Exp_Value  Pred_Value  \\\n",
       "0          ClCC1=CC=C2C=CC3=CC=CC=4C=CC1=C2C34   NaN        1.0        0.79   \n",
       "1          O=[N+]([O-])C1=CC(Cl)=C(O)C(=C1)NCC   NaN        NaN        0.53   \n",
       "2  OC=1C=CC2=C(C1)C=C3C=CC4=CC=CC=5C=CC2=C3C45   NaN        1.0        1.03   \n",
       "3                         ClCCC[Si](OCC)(OCC)C   NaN        NaN        0.08   \n",
       "4                 O=P(O)(O)C(O)(CCCN)P(=O)(O)O   NaN        NaN        0.38   \n",
       "\n",
       "              Exp_Result            Pred_Result  \n",
       "0  Mutagenicity Positive  Mutagenicity Positive  \n",
       "1                    NaN  Mutagenicity Positive  \n",
       "2  Mutagenicity Positive  Mutagenicity Positive  \n",
       "3                    NaN  Mutagenicity Negative  \n",
       "4                    NaN  Mutagenicity Negative  "
      ]
     },
     "execution_count": 258,
     "metadata": {},
     "output_type": "execute_result"
    }
   ],
   "source": [
    "TEST_out.head()"
   ]
  },
  {
   "cell_type": "markdown",
   "metadata": {},
   "source": [
    "#### Annoyingly the ID which was specified as DTXSID extracted the CASRN!"
   ]
  },
  {
   "cell_type": "markdown",
   "metadata": {},
   "source": [
    "Perhaps a way to link is on the basis of the INCHI Key for the SMILES run."
   ]
  },
  {
   "cell_type": "code",
   "execution_count": 263,
   "metadata": {},
   "outputs": [
    {
     "data": {
      "text/plain": [
       "0                           1086-00-6\n",
       "1                         131657-78-8\n",
       "2                          13345-26-1\n",
       "3                          13501-76-3\n",
       "4                          66376-36-1\n",
       "                    ...              \n",
       "7506    C_MQNUWAMSQUIUHD-UHFFFAOYSA-N\n",
       "7507    C_OMRMWDQPXBZWGS-UHFFFAOYSA-N\n",
       "7508                     1135682-32-4\n",
       "7509    C_JUUQHENXZBKKIF-UHFFFAOYSA-N\n",
       "7510                       48075-52-1\n",
       "Name: ID, Length: 7511, dtype: object"
      ]
     },
     "execution_count": 263,
     "metadata": {},
     "output_type": "execute_result"
    }
   ],
   "source": [
    "TEST_out.ID"
   ]
  },
  {
   "cell_type": "code",
   "execution_count": 270,
   "metadata": {},
   "outputs": [],
   "source": [
    "TEST_out['Query'] = TEST_out['Query'].apply(lambda x: x.replace('C_', '') )"
   ]
  },
  {
   "cell_type": "code",
   "execution_count": 480,
   "metadata": {},
   "outputs": [
    {
     "data": {
      "text/html": [
       "<div>\n",
       "<style scoped>\n",
       "    .dataframe tbody tr th:only-of-type {\n",
       "        vertical-align: middle;\n",
       "    }\n",
       "\n",
       "    .dataframe tbody tr th {\n",
       "        vertical-align: top;\n",
       "    }\n",
       "\n",
       "    .dataframe thead th {\n",
       "        text-align: right;\n",
       "    }\n",
       "</style>\n",
       "<table border=\"1\" class=\"dataframe\">\n",
       "  <thead>\n",
       "    <tr style=\"text-align: right;\">\n",
       "      <th></th>\n",
       "      <th>Index</th>\n",
       "      <th>ID</th>\n",
       "      <th>Query</th>\n",
       "      <th>SmilesRan</th>\n",
       "      <th>Error</th>\n",
       "      <th>Exp_Value</th>\n",
       "      <th>Pred_Value</th>\n",
       "      <th>Exp_Result</th>\n",
       "      <th>Pred_Result</th>\n",
       "      <th>ids</th>\n",
       "    </tr>\n",
       "  </thead>\n",
       "  <tbody>\n",
       "    <tr>\n",
       "      <th>0</th>\n",
       "      <td>1</td>\n",
       "      <td>1086-00-6</td>\n",
       "      <td>1086-00-6</td>\n",
       "      <td>ClCC1=CC=C2C=CC3=CC=CC=4C=CC1=C2C34</td>\n",
       "      <td>NaN</td>\n",
       "      <td>1.0</td>\n",
       "      <td>0.79</td>\n",
       "      <td>Mutagenicity Positive</td>\n",
       "      <td>Mutagenicity Positive</td>\n",
       "      <td>DTXSID00148597</td>\n",
       "    </tr>\n",
       "    <tr>\n",
       "      <th>1</th>\n",
       "      <td>2</td>\n",
       "      <td>131657-78-8</td>\n",
       "      <td>131657-78-8</td>\n",
       "      <td>O=[N+]([O-])C1=CC(Cl)=C(O)C(=C1)NCC</td>\n",
       "      <td>NaN</td>\n",
       "      <td>NaN</td>\n",
       "      <td>0.53</td>\n",
       "      <td>NaN</td>\n",
       "      <td>Mutagenicity Positive</td>\n",
       "      <td>DTXSID00157169</td>\n",
       "    </tr>\n",
       "    <tr>\n",
       "      <th>2</th>\n",
       "      <td>3</td>\n",
       "      <td>13345-26-1</td>\n",
       "      <td>13345-26-1</td>\n",
       "      <td>OC=1C=CC2=C(C1)C=C3C=CC4=CC=CC=5C=CC2=C3C45</td>\n",
       "      <td>NaN</td>\n",
       "      <td>1.0</td>\n",
       "      <td>1.03</td>\n",
       "      <td>Mutagenicity Positive</td>\n",
       "      <td>Mutagenicity Positive</td>\n",
       "      <td>DTXSID00158116</td>\n",
       "    </tr>\n",
       "    <tr>\n",
       "      <th>3</th>\n",
       "      <td>4</td>\n",
       "      <td>13501-76-3</td>\n",
       "      <td>13501-76-3</td>\n",
       "      <td>ClCCC[Si](OCC)(OCC)C</td>\n",
       "      <td>NaN</td>\n",
       "      <td>NaN</td>\n",
       "      <td>0.08</td>\n",
       "      <td>NaN</td>\n",
       "      <td>Mutagenicity Negative</td>\n",
       "      <td>DTXSID00159204</td>\n",
       "    </tr>\n",
       "    <tr>\n",
       "      <th>4</th>\n",
       "      <td>5</td>\n",
       "      <td>66376-36-1</td>\n",
       "      <td>66376-36-1</td>\n",
       "      <td>O=P(O)(O)C(O)(CCCN)P(=O)(O)O</td>\n",
       "      <td>NaN</td>\n",
       "      <td>NaN</td>\n",
       "      <td>0.38</td>\n",
       "      <td>NaN</td>\n",
       "      <td>Mutagenicity Negative</td>\n",
       "      <td>missing_id</td>\n",
       "    </tr>\n",
       "  </tbody>\n",
       "</table>\n",
       "</div>"
      ],
      "text/plain": [
       "   Index           ID        Query  \\\n",
       "0      1    1086-00-6    1086-00-6   \n",
       "1      2  131657-78-8  131657-78-8   \n",
       "2      3   13345-26-1   13345-26-1   \n",
       "3      4   13501-76-3   13501-76-3   \n",
       "4      5   66376-36-1   66376-36-1   \n",
       "\n",
       "                                     SmilesRan Error  Exp_Value  Pred_Value  \\\n",
       "0          ClCC1=CC=C2C=CC3=CC=CC=4C=CC1=C2C34   NaN        1.0        0.79   \n",
       "1          O=[N+]([O-])C1=CC(Cl)=C(O)C(=C1)NCC   NaN        NaN        0.53   \n",
       "2  OC=1C=CC2=C(C1)C=C3C=CC4=CC=CC=5C=CC2=C3C45   NaN        1.0        1.03   \n",
       "3                         ClCCC[Si](OCC)(OCC)C   NaN        NaN        0.08   \n",
       "4                 O=P(O)(O)C(O)(CCCN)P(=O)(O)O   NaN        NaN        0.38   \n",
       "\n",
       "              Exp_Result            Pred_Result             ids  \n",
       "0  Mutagenicity Positive  Mutagenicity Positive  DTXSID00148597  \n",
       "1                    NaN  Mutagenicity Positive  DTXSID00157169  \n",
       "2  Mutagenicity Positive  Mutagenicity Positive  DTXSID00158116  \n",
       "3                    NaN  Mutagenicity Negative  DTXSID00159204  \n",
       "4                    NaN  Mutagenicity Negative      missing_id  "
      ]
     },
     "execution_count": 480,
     "metadata": {},
     "output_type": "execute_result"
    }
   ],
   "source": [
    "TEST_out.head()"
   ]
  },
  {
   "cell_type": "code",
   "execution_count": 275,
   "metadata": {},
   "outputs": [],
   "source": [
    "TEST_inchi = pd.read_csv(interim_dat_dir+'test_inchi.csv')"
   ]
  },
  {
   "cell_type": "code",
   "execution_count": 306,
   "metadata": {},
   "outputs": [],
   "source": [
    "genetox_wsmi_inchi = pd.merge(gentox_wsmi, TEST_inchi, on = 'DTXSID', how = 'left')"
   ]
  },
  {
   "cell_type": "code",
   "execution_count": 307,
   "metadata": {},
   "outputs": [],
   "source": [
    "genetox_wsmi_inchi = genetox_wsmi_inchi[['DTXSID', 'PREFERRED_NAME', 'CASRN', 'SMILES', 'QSAR_READY_SMILES_x','QSAR_READY_SMILES (RDKit Mol) (InChI Key)']]"
   ]
  },
  {
   "cell_type": "code",
   "execution_count": 308,
   "metadata": {},
   "outputs": [],
   "source": [
    "genetox_wsmi_inchi.columns = ['DTXSID', 'PREFERRED_NAME', 'CASRN', 'SMILES', 'QSAR_READY_SMILES',\n",
    "       'InChI Key']"
   ]
  },
  {
   "cell_type": "code",
   "execution_count": 297,
   "metadata": {},
   "outputs": [],
   "source": [
    "#genetox_wsmi_inchi.set_index('DTXSID', inplace = True)"
   ]
  },
  {
   "cell_type": "code",
   "execution_count": 438,
   "metadata": {},
   "outputs": [],
   "source": [
    "genetox_wsmi_inchi['combined'] = genetox_wsmi_inchi.apply(lambda x: list([x['CASRN'], x['InChI Key']]), axis = 1)"
   ]
  },
  {
   "cell_type": "code",
   "execution_count": 440,
   "metadata": {},
   "outputs": [],
   "source": [
    "#genetox_wsmi_inchi"
   ]
  },
  {
   "cell_type": "code",
   "execution_count": 441,
   "metadata": {},
   "outputs": [],
   "source": [
    "genetox_dict = {k:v for k,v in zip(genetox_wsmi_inchi['DTXSID'], genetox_wsmi_inchi['combined'])}\n"
   ]
  },
  {
   "cell_type": "code",
   "execution_count": 443,
   "metadata": {},
   "outputs": [],
   "source": [
    "#genetox_dict"
   ]
  },
  {
   "cell_type": "code",
   "execution_count": 444,
   "metadata": {},
   "outputs": [],
   "source": [
    "def get_key(val):\n",
    "    for k,v in genetox_dict.items():\n",
    "        if val in v:\n",
    "            return k\n",
    "    return 'missing_id'\n",
    "    \n",
    "    \n",
    "    "
   ]
  },
  {
   "cell_type": "code",
   "execution_count": 467,
   "metadata": {},
   "outputs": [],
   "source": [
    "TEST_inchi2 = pd.read_csv(interim_dat_dir+'test_inchi_out.csv')"
   ]
  },
  {
   "cell_type": "code",
   "execution_count": 468,
   "metadata": {},
   "outputs": [
    {
     "data": {
      "text/html": [
       "<div>\n",
       "<style scoped>\n",
       "    .dataframe tbody tr th:only-of-type {\n",
       "        vertical-align: middle;\n",
       "    }\n",
       "\n",
       "    .dataframe tbody tr th {\n",
       "        vertical-align: top;\n",
       "    }\n",
       "\n",
       "    .dataframe thead th {\n",
       "        text-align: right;\n",
       "    }\n",
       "</style>\n",
       "<table border=\"1\" class=\"dataframe\">\n",
       "  <thead>\n",
       "    <tr style=\"text-align: right;\">\n",
       "      <th></th>\n",
       "      <th>ID</th>\n",
       "      <th>Query</th>\n",
       "      <th>SmilesRan</th>\n",
       "      <th>Error</th>\n",
       "      <th>Exp_Value</th>\n",
       "      <th>Pred_Value</th>\n",
       "      <th>Exp_Result</th>\n",
       "      <th>Pred_Result</th>\n",
       "      <th>QSAR_READY_SMILES (RDKit Mol)</th>\n",
       "      <th>QSAR_READY_SMILES (RDKit Mol) (Kekulized)</th>\n",
       "      <th>QSAR_READY_SMILES (RDKit Mol) (InChI Code)</th>\n",
       "      <th>QSAR_READY_SMILES (RDKit Mol) (InChI Key)</th>\n",
       "    </tr>\n",
       "  </thead>\n",
       "  <tbody>\n",
       "    <tr>\n",
       "      <th>0</th>\n",
       "      <td>1086-00-6</td>\n",
       "      <td>1086-00-6</td>\n",
       "      <td>ClCC1=CC=C2C=CC3=CC=CC=4C=CC1=C2C34</td>\n",
       "      <td>NaN</td>\n",
       "      <td>1.0</td>\n",
       "      <td>0.79</td>\n",
       "      <td>Mutagenicity Positive</td>\n",
       "      <td>Mutagenicity Positive</td>\n",
       "      <td>ClCC1=CC=C2C=CC3=CC=CC=4C=CC1=C2C34</td>\n",
       "      <td>ClCC1=CC=C2C=CC3=CC=CC4=CC=C1C2=C34</td>\n",
       "      <td>InChI=1S/C17H11Cl/c18-10-14-7-6-13-5-4-11-2-1-...</td>\n",
       "      <td>MVNXSXOJYGSNQZ-UHFFFAOYSA-N</td>\n",
       "    </tr>\n",
       "    <tr>\n",
       "      <th>1</th>\n",
       "      <td>131657-78-8</td>\n",
       "      <td>131657-78-8</td>\n",
       "      <td>O=[N+]([O-])C1=CC(Cl)=C(O)C(=C1)NCC</td>\n",
       "      <td>NaN</td>\n",
       "      <td>NaN</td>\n",
       "      <td>0.53</td>\n",
       "      <td>NaN</td>\n",
       "      <td>Mutagenicity Positive</td>\n",
       "      <td>O=[N+]([O-])C1=CC(Cl)=C(O)C(=C1)NCC</td>\n",
       "      <td>CCNC1=CC([N+](=O)[O-])=CC(Cl)=C1O</td>\n",
       "      <td>InChI=1S/C8H9ClN2O3/c1-2-10-7-4-5(11(13)14)3-6...</td>\n",
       "      <td>CDFNUSAXZDSXKF-UHFFFAOYSA-N</td>\n",
       "    </tr>\n",
       "    <tr>\n",
       "      <th>2</th>\n",
       "      <td>13345-26-1</td>\n",
       "      <td>13345-26-1</td>\n",
       "      <td>OC=1C=CC2=C(C1)C=C3C=CC4=CC=CC=5C=CC2=C3C45</td>\n",
       "      <td>NaN</td>\n",
       "      <td>1.0</td>\n",
       "      <td>1.03</td>\n",
       "      <td>Mutagenicity Positive</td>\n",
       "      <td>Mutagenicity Positive</td>\n",
       "      <td>OC=1C=CC2=C(C1)C=C3C=CC4=CC=CC=5C=CC2=C3C45</td>\n",
       "      <td>OC1=CC=C2C(=C1)C=C1C=CC3=CC=CC4=CC=C2C1=C34</td>\n",
       "      <td>InChI=1S/C20H12O/c21-16-7-9-17-15(11-16)10-14-...</td>\n",
       "      <td>OWEZWMDNHHTXJU-UHFFFAOYSA-N</td>\n",
       "    </tr>\n",
       "    <tr>\n",
       "      <th>3</th>\n",
       "      <td>13501-76-3</td>\n",
       "      <td>13501-76-3</td>\n",
       "      <td>ClCCC[Si](OCC)(OCC)C</td>\n",
       "      <td>NaN</td>\n",
       "      <td>NaN</td>\n",
       "      <td>0.08</td>\n",
       "      <td>NaN</td>\n",
       "      <td>Mutagenicity Negative</td>\n",
       "      <td>ClCCC[Si](OCC)(OCC)C</td>\n",
       "      <td>CCO[Si](C)(CCCCl)OCC</td>\n",
       "      <td>InChI=1S/C8H19ClO2Si/c1-4-10-12(3,11-5-2)8-6-7...</td>\n",
       "      <td>KEZMLECYELSZDC-UHFFFAOYSA-N</td>\n",
       "    </tr>\n",
       "    <tr>\n",
       "      <th>4</th>\n",
       "      <td>66376-36-1</td>\n",
       "      <td>66376-36-1</td>\n",
       "      <td>O=P(O)(O)C(O)(CCCN)P(=O)(O)O</td>\n",
       "      <td>NaN</td>\n",
       "      <td>NaN</td>\n",
       "      <td>0.38</td>\n",
       "      <td>NaN</td>\n",
       "      <td>Mutagenicity Negative</td>\n",
       "      <td>O=P(O)(O)C(O)(CCCN)P(=O)(O)O</td>\n",
       "      <td>NCCCC(O)(P(=O)(O)O)P(=O)(O)O</td>\n",
       "      <td>InChI=1S/C4H13NO7P2/c5-3-1-2-4(6,13(7,8)9)14(1...</td>\n",
       "      <td>OGSPWJRAVKPPFI-UHFFFAOYSA-N</td>\n",
       "    </tr>\n",
       "    <tr>\n",
       "      <th>...</th>\n",
       "      <td>...</td>\n",
       "      <td>...</td>\n",
       "      <td>...</td>\n",
       "      <td>...</td>\n",
       "      <td>...</td>\n",
       "      <td>...</td>\n",
       "      <td>...</td>\n",
       "      <td>...</td>\n",
       "      <td>...</td>\n",
       "      <td>...</td>\n",
       "      <td>...</td>\n",
       "      <td>...</td>\n",
       "    </tr>\n",
       "    <tr>\n",
       "      <th>7506</th>\n",
       "      <td>C_MQNUWAMSQUIUHD-UHFFFAOYSA-N</td>\n",
       "      <td>C_MQNUWAMSQUIUHD-UHFFFAOYSA-N</td>\n",
       "      <td>O=S(=O)(O)C1=CC=CC=2C1=CC(N=NC=3C=C(OC)C(=CC3C...</td>\n",
       "      <td>NaN</td>\n",
       "      <td>NaN</td>\n",
       "      <td>0.23</td>\n",
       "      <td>NaN</td>\n",
       "      <td>Mutagenicity Negative</td>\n",
       "      <td>O=S(=O)(O)C1=CC=CC=2C1=CC(N=NC=3C=C(OC)C(=CC3C...</td>\n",
       "      <td>COC1=C(NC2=NC(SCCCS(=O)(=O)O)=NC(SCCCS(=O)(=O)...</td>\n",
       "      <td>InChI=1S/C27H30N6O13S6/c1-16-12-21(28-25-29-26...</td>\n",
       "      <td>MQNUWAMSQUIUHD-ULIFNZDWSA-N</td>\n",
       "    </tr>\n",
       "    <tr>\n",
       "      <th>7507</th>\n",
       "      <td>C_OMRMWDQPXBZWGS-UHFFFAOYSA-N</td>\n",
       "      <td>C_OMRMWDQPXBZWGS-UHFFFAOYSA-N</td>\n",
       "      <td>O=C(O)C=1C=CC=CC1N=NC2=C(O)C=CC=3C=CC=CC32</td>\n",
       "      <td>NaN</td>\n",
       "      <td>NaN</td>\n",
       "      <td>1.00</td>\n",
       "      <td>NaN</td>\n",
       "      <td>Mutagenicity Positive</td>\n",
       "      <td>O=C(O)C=1C=CC=CC1N=NC2=C(O)C=CC=3C=CC=CC32</td>\n",
       "      <td>O=C(O)C1=CC=CC=C1N=NC1=C(O)C=CC2=CC=CC=C21</td>\n",
       "      <td>InChI=1S/C17H12N2O3/c20-15-10-9-11-5-1-2-6-12(...</td>\n",
       "      <td>OMRMWDQPXBZWGS-VHEBQXMUSA-N</td>\n",
       "    </tr>\n",
       "    <tr>\n",
       "      <th>7508</th>\n",
       "      <td>1135682-32-4</td>\n",
       "      <td>1135682-32-4</td>\n",
       "      <td>O=S(=O)(O)C=1C=2C=CC=CC2C=C(C1CCCCCCCCC)CCCCCCCCC</td>\n",
       "      <td>NaN</td>\n",
       "      <td>NaN</td>\n",
       "      <td>-0.01</td>\n",
       "      <td>NaN</td>\n",
       "      <td>Mutagenicity Negative</td>\n",
       "      <td>O=S(=O)(O)C=1C=2C=CC=CC2C=C(C1CCCCCCCCC)CCCCCCCCC</td>\n",
       "      <td>CCCCCCCCCC1=C(CCCCCCCCC)C(S(=O)(=O)O)=C2C=CC=C...</td>\n",
       "      <td>InChI=1S/C28H44O3S/c1-3-5-7-9-11-13-15-19-24-2...</td>\n",
       "      <td>WDNQRCVBPNOTNV-UHFFFAOYSA-N</td>\n",
       "    </tr>\n",
       "    <tr>\n",
       "      <th>7509</th>\n",
       "      <td>C_JUUQHENXZBKKIF-UHFFFAOYSA-N</td>\n",
       "      <td>C_JUUQHENXZBKKIF-UHFFFAOYSA-N</td>\n",
       "      <td>O=S(=O)(O)C1=CC(=C(Cl)C=C1N=NC2=C(O)C=CC=3C=CC...</td>\n",
       "      <td>NaN</td>\n",
       "      <td>NaN</td>\n",
       "      <td>0.46</td>\n",
       "      <td>NaN</td>\n",
       "      <td>Mutagenicity Negative</td>\n",
       "      <td>O=S(=O)(O)C1=CC(=C(Cl)C=C1N=NC2=C(O)C=CC=3C=CC...</td>\n",
       "      <td>CC1=C(Cl)C=C(N=NC2=C(O)C=CC3=CC=CC=C32)C(S(=O)...</td>\n",
       "      <td>InChI=1S/C17H13ClN2O4S/c1-10-8-16(25(22,23)24)...</td>\n",
       "      <td>JUUQHENXZBKKIF-FMQUCBEESA-N</td>\n",
       "    </tr>\n",
       "    <tr>\n",
       "      <th>7510</th>\n",
       "      <td>48075-52-1</td>\n",
       "      <td>48075-52-1</td>\n",
       "      <td>O=C(OC(C(=O)OC(C(=O)O)C)C)CCCCCCCCCCC</td>\n",
       "      <td>NaN</td>\n",
       "      <td>NaN</td>\n",
       "      <td>0.40</td>\n",
       "      <td>NaN</td>\n",
       "      <td>Mutagenicity Negative</td>\n",
       "      <td>O=C(OC(C(=O)OC(C(=O)O)C)C)CCCCCCCCCCC</td>\n",
       "      <td>CCCCCCCCCCCC(=O)OC(C)C(=O)OC(C)C(=O)O</td>\n",
       "      <td>InChI=1S/C18H32O6/c1-4-5-6-7-8-9-10-11-12-13-1...</td>\n",
       "      <td>AOHBGMDQHXJADT-UHFFFAOYSA-N</td>\n",
       "    </tr>\n",
       "  </tbody>\n",
       "</table>\n",
       "<p>7511 rows × 12 columns</p>\n",
       "</div>"
      ],
      "text/plain": [
       "                                 ID                          Query  \\\n",
       "0                         1086-00-6                      1086-00-6   \n",
       "1                       131657-78-8                    131657-78-8   \n",
       "2                        13345-26-1                     13345-26-1   \n",
       "3                        13501-76-3                     13501-76-3   \n",
       "4                        66376-36-1                     66376-36-1   \n",
       "...                             ...                            ...   \n",
       "7506  C_MQNUWAMSQUIUHD-UHFFFAOYSA-N  C_MQNUWAMSQUIUHD-UHFFFAOYSA-N   \n",
       "7507  C_OMRMWDQPXBZWGS-UHFFFAOYSA-N  C_OMRMWDQPXBZWGS-UHFFFAOYSA-N   \n",
       "7508                   1135682-32-4                   1135682-32-4   \n",
       "7509  C_JUUQHENXZBKKIF-UHFFFAOYSA-N  C_JUUQHENXZBKKIF-UHFFFAOYSA-N   \n",
       "7510                     48075-52-1                     48075-52-1   \n",
       "\n",
       "                                              SmilesRan Error  Exp_Value  \\\n",
       "0                   ClCC1=CC=C2C=CC3=CC=CC=4C=CC1=C2C34   NaN        1.0   \n",
       "1                   O=[N+]([O-])C1=CC(Cl)=C(O)C(=C1)NCC   NaN        NaN   \n",
       "2           OC=1C=CC2=C(C1)C=C3C=CC4=CC=CC=5C=CC2=C3C45   NaN        1.0   \n",
       "3                                  ClCCC[Si](OCC)(OCC)C   NaN        NaN   \n",
       "4                          O=P(O)(O)C(O)(CCCN)P(=O)(O)O   NaN        NaN   \n",
       "...                                                 ...   ...        ...   \n",
       "7506  O=S(=O)(O)C1=CC=CC=2C1=CC(N=NC=3C=C(OC)C(=CC3C...   NaN        NaN   \n",
       "7507         O=C(O)C=1C=CC=CC1N=NC2=C(O)C=CC=3C=CC=CC32   NaN        NaN   \n",
       "7508  O=S(=O)(O)C=1C=2C=CC=CC2C=C(C1CCCCCCCCC)CCCCCCCCC   NaN        NaN   \n",
       "7509  O=S(=O)(O)C1=CC(=C(Cl)C=C1N=NC2=C(O)C=CC=3C=CC...   NaN        NaN   \n",
       "7510              O=C(OC(C(=O)OC(C(=O)O)C)C)CCCCCCCCCCC   NaN        NaN   \n",
       "\n",
       "      Pred_Value             Exp_Result            Pred_Result  \\\n",
       "0           0.79  Mutagenicity Positive  Mutagenicity Positive   \n",
       "1           0.53                    NaN  Mutagenicity Positive   \n",
       "2           1.03  Mutagenicity Positive  Mutagenicity Positive   \n",
       "3           0.08                    NaN  Mutagenicity Negative   \n",
       "4           0.38                    NaN  Mutagenicity Negative   \n",
       "...          ...                    ...                    ...   \n",
       "7506        0.23                    NaN  Mutagenicity Negative   \n",
       "7507        1.00                    NaN  Mutagenicity Positive   \n",
       "7508       -0.01                    NaN  Mutagenicity Negative   \n",
       "7509        0.46                    NaN  Mutagenicity Negative   \n",
       "7510        0.40                    NaN  Mutagenicity Negative   \n",
       "\n",
       "                          QSAR_READY_SMILES (RDKit Mol)  \\\n",
       "0                   ClCC1=CC=C2C=CC3=CC=CC=4C=CC1=C2C34   \n",
       "1                   O=[N+]([O-])C1=CC(Cl)=C(O)C(=C1)NCC   \n",
       "2           OC=1C=CC2=C(C1)C=C3C=CC4=CC=CC=5C=CC2=C3C45   \n",
       "3                                  ClCCC[Si](OCC)(OCC)C   \n",
       "4                          O=P(O)(O)C(O)(CCCN)P(=O)(O)O   \n",
       "...                                                 ...   \n",
       "7506  O=S(=O)(O)C1=CC=CC=2C1=CC(N=NC=3C=C(OC)C(=CC3C...   \n",
       "7507         O=C(O)C=1C=CC=CC1N=NC2=C(O)C=CC=3C=CC=CC32   \n",
       "7508  O=S(=O)(O)C=1C=2C=CC=CC2C=C(C1CCCCCCCCC)CCCCCCCCC   \n",
       "7509  O=S(=O)(O)C1=CC(=C(Cl)C=C1N=NC2=C(O)C=CC=3C=CC...   \n",
       "7510              O=C(OC(C(=O)OC(C(=O)O)C)C)CCCCCCCCCCC   \n",
       "\n",
       "              QSAR_READY_SMILES (RDKit Mol) (Kekulized)  \\\n",
       "0                   ClCC1=CC=C2C=CC3=CC=CC4=CC=C1C2=C34   \n",
       "1                     CCNC1=CC([N+](=O)[O-])=CC(Cl)=C1O   \n",
       "2           OC1=CC=C2C(=C1)C=C1C=CC3=CC=CC4=CC=C2C1=C34   \n",
       "3                                  CCO[Si](C)(CCCCl)OCC   \n",
       "4                          NCCCC(O)(P(=O)(O)O)P(=O)(O)O   \n",
       "...                                                 ...   \n",
       "7506  COC1=C(NC2=NC(SCCCS(=O)(=O)O)=NC(SCCCS(=O)(=O)...   \n",
       "7507         O=C(O)C1=CC=CC=C1N=NC1=C(O)C=CC2=CC=CC=C21   \n",
       "7508  CCCCCCCCCC1=C(CCCCCCCCC)C(S(=O)(=O)O)=C2C=CC=C...   \n",
       "7509  CC1=C(Cl)C=C(N=NC2=C(O)C=CC3=CC=CC=C32)C(S(=O)...   \n",
       "7510              CCCCCCCCCCCC(=O)OC(C)C(=O)OC(C)C(=O)O   \n",
       "\n",
       "             QSAR_READY_SMILES (RDKit Mol) (InChI Code)  \\\n",
       "0     InChI=1S/C17H11Cl/c18-10-14-7-6-13-5-4-11-2-1-...   \n",
       "1     InChI=1S/C8H9ClN2O3/c1-2-10-7-4-5(11(13)14)3-6...   \n",
       "2     InChI=1S/C20H12O/c21-16-7-9-17-15(11-16)10-14-...   \n",
       "3     InChI=1S/C8H19ClO2Si/c1-4-10-12(3,11-5-2)8-6-7...   \n",
       "4     InChI=1S/C4H13NO7P2/c5-3-1-2-4(6,13(7,8)9)14(1...   \n",
       "...                                                 ...   \n",
       "7506  InChI=1S/C27H30N6O13S6/c1-16-12-21(28-25-29-26...   \n",
       "7507  InChI=1S/C17H12N2O3/c20-15-10-9-11-5-1-2-6-12(...   \n",
       "7508  InChI=1S/C28H44O3S/c1-3-5-7-9-11-13-15-19-24-2...   \n",
       "7509  InChI=1S/C17H13ClN2O4S/c1-10-8-16(25(22,23)24)...   \n",
       "7510  InChI=1S/C18H32O6/c1-4-5-6-7-8-9-10-11-12-13-1...   \n",
       "\n",
       "     QSAR_READY_SMILES (RDKit Mol) (InChI Key)  \n",
       "0                  MVNXSXOJYGSNQZ-UHFFFAOYSA-N  \n",
       "1                  CDFNUSAXZDSXKF-UHFFFAOYSA-N  \n",
       "2                  OWEZWMDNHHTXJU-UHFFFAOYSA-N  \n",
       "3                  KEZMLECYELSZDC-UHFFFAOYSA-N  \n",
       "4                  OGSPWJRAVKPPFI-UHFFFAOYSA-N  \n",
       "...                                        ...  \n",
       "7506               MQNUWAMSQUIUHD-ULIFNZDWSA-N  \n",
       "7507               OMRMWDQPXBZWGS-VHEBQXMUSA-N  \n",
       "7508               WDNQRCVBPNOTNV-UHFFFAOYSA-N  \n",
       "7509               JUUQHENXZBKKIF-FMQUCBEESA-N  \n",
       "7510               AOHBGMDQHXJADT-UHFFFAOYSA-N  \n",
       "\n",
       "[7511 rows x 12 columns]"
      ]
     },
     "execution_count": 468,
     "metadata": {},
     "output_type": "execute_result"
    }
   ],
   "source": [
    "TEST_inchi2"
   ]
  },
  {
   "cell_type": "code",
   "execution_count": 470,
   "metadata": {},
   "outputs": [],
   "source": [
    "ids2 = [get_key(e) for e in TEST_inchi2['QSAR_READY_SMILES (RDKit Mol) (InChI Key)'] ]"
   ]
  },
  {
   "cell_type": "code",
   "execution_count": 473,
   "metadata": {},
   "outputs": [
    {
     "data": {
      "text/plain": [
       "7511"
      ]
     },
     "execution_count": 473,
     "metadata": {},
     "output_type": "execute_result"
    }
   ],
   "source": [
    "len(ids2)"
   ]
  },
  {
   "cell_type": "code",
   "execution_count": 474,
   "metadata": {},
   "outputs": [],
   "source": [
    "TEST_inchi2['ids'] = ids2"
   ]
  },
  {
   "cell_type": "code",
   "execution_count": 476,
   "metadata": {},
   "outputs": [],
   "source": [
    "TEST_inchi2.to_csv(interim_dat_dir+'TEST_predictions.csv')"
   ]
  },
  {
   "cell_type": "markdown",
   "metadata": {},
   "source": [
    "Well this turned out to be a complete disaster! as the Inchi Keys were not necessarily corresponding to the CAS identifiers. Checked ~100 manually - conflicts very based on structural isomers or salt forms. Have run the supplied CAS number and matched them to DTXSIDs. This is reported as a new column for the DTXSID for the QSAR READY form of structure processed."
   ]
  },
  {
   "cell_type": "code",
   "execution_count": 481,
   "metadata": {},
   "outputs": [],
   "source": [
    "TEST_preds = pd.read_csv(interim_dat_dir+'TEST_predictions.csv')"
   ]
  },
  {
   "cell_type": "code",
   "execution_count": 489,
   "metadata": {},
   "outputs": [
    {
     "data": {
      "text/html": [
       "<div>\n",
       "<style scoped>\n",
       "    .dataframe tbody tr th:only-of-type {\n",
       "        vertical-align: middle;\n",
       "    }\n",
       "\n",
       "    .dataframe tbody tr th {\n",
       "        vertical-align: top;\n",
       "    }\n",
       "\n",
       "    .dataframe thead th {\n",
       "        text-align: right;\n",
       "    }\n",
       "</style>\n",
       "<table border=\"1\" class=\"dataframe\">\n",
       "  <thead>\n",
       "    <tr style=\"text-align: right;\">\n",
       "      <th></th>\n",
       "      <th>Unnamed: 0</th>\n",
       "      <th>ID</th>\n",
       "      <th>Query</th>\n",
       "      <th>SmilesRan</th>\n",
       "      <th>Error</th>\n",
       "      <th>Exp_Value</th>\n",
       "      <th>Pred_Value</th>\n",
       "      <th>Exp_Result</th>\n",
       "      <th>Pred_Result</th>\n",
       "      <th>QSAR_READY_SMILES (RDKit Mol)</th>\n",
       "      <th>QSAR_READY_SMILES (RDKit Mol) (Kekulized)</th>\n",
       "      <th>DTXSID_of_chemical_structure_predicted</th>\n",
       "      <th>DTXSID_of_genetox_chemical</th>\n",
       "    </tr>\n",
       "  </thead>\n",
       "  <tbody>\n",
       "    <tr>\n",
       "      <th>0</th>\n",
       "      <td>0</td>\n",
       "      <td>1086-00-6</td>\n",
       "      <td>1086-00-6</td>\n",
       "      <td>ClCC1=CC=C2C=CC3=CC=CC=4C=CC1=C2C34</td>\n",
       "      <td>NaN</td>\n",
       "      <td>1.0</td>\n",
       "      <td>0.79</td>\n",
       "      <td>Mutagenicity Positive</td>\n",
       "      <td>Mutagenicity Positive</td>\n",
       "      <td>ClCC1=CC=C2C=CC3=CC=CC=4C=CC1=C2C34</td>\n",
       "      <td>ClCC1=CC=C2C=CC3=CC=CC4=CC=C1C2=C34</td>\n",
       "      <td>DTXSID00148597</td>\n",
       "      <td>DTXSID00148597</td>\n",
       "    </tr>\n",
       "    <tr>\n",
       "      <th>1</th>\n",
       "      <td>1</td>\n",
       "      <td>131657-78-8</td>\n",
       "      <td>131657-78-8</td>\n",
       "      <td>O=[N+]([O-])C1=CC(Cl)=C(O)C(=C1)NCC</td>\n",
       "      <td>NaN</td>\n",
       "      <td>NaN</td>\n",
       "      <td>0.53</td>\n",
       "      <td>NaN</td>\n",
       "      <td>Mutagenicity Positive</td>\n",
       "      <td>O=[N+]([O-])C1=CC(Cl)=C(O)C(=C1)NCC</td>\n",
       "      <td>CCNC1=CC([N+](=O)[O-])=CC(Cl)=C1O</td>\n",
       "      <td>DTXSID00157169</td>\n",
       "      <td>DTXSID00157169</td>\n",
       "    </tr>\n",
       "    <tr>\n",
       "      <th>2</th>\n",
       "      <td>2</td>\n",
       "      <td>13345-26-1</td>\n",
       "      <td>13345-26-1</td>\n",
       "      <td>OC=1C=CC2=C(C1)C=C3C=CC4=CC=CC=5C=CC2=C3C45</td>\n",
       "      <td>NaN</td>\n",
       "      <td>1.0</td>\n",
       "      <td>1.03</td>\n",
       "      <td>Mutagenicity Positive</td>\n",
       "      <td>Mutagenicity Positive</td>\n",
       "      <td>OC=1C=CC2=C(C1)C=C3C=CC4=CC=CC=5C=CC2=C3C45</td>\n",
       "      <td>OC1=CC=C2C(=C1)C=C1C=CC3=CC=CC4=CC=C2C1=C34</td>\n",
       "      <td>DTXSID00158116</td>\n",
       "      <td>DTXSID00158116</td>\n",
       "    </tr>\n",
       "    <tr>\n",
       "      <th>3</th>\n",
       "      <td>3</td>\n",
       "      <td>13501-76-3</td>\n",
       "      <td>13501-76-3</td>\n",
       "      <td>ClCCC[Si](OCC)(OCC)C</td>\n",
       "      <td>NaN</td>\n",
       "      <td>NaN</td>\n",
       "      <td>0.08</td>\n",
       "      <td>NaN</td>\n",
       "      <td>Mutagenicity Negative</td>\n",
       "      <td>ClCCC[Si](OCC)(OCC)C</td>\n",
       "      <td>CCO[Si](C)(CCCCl)OCC</td>\n",
       "      <td>DTXSID00159204</td>\n",
       "      <td>DTXSID00159204</td>\n",
       "    </tr>\n",
       "    <tr>\n",
       "      <th>4</th>\n",
       "      <td>4</td>\n",
       "      <td>66376-36-1</td>\n",
       "      <td>66376-36-1</td>\n",
       "      <td>O=P(O)(O)C(O)(CCCN)P(=O)(O)O</td>\n",
       "      <td>NaN</td>\n",
       "      <td>NaN</td>\n",
       "      <td>0.38</td>\n",
       "      <td>NaN</td>\n",
       "      <td>Mutagenicity Negative</td>\n",
       "      <td>O=P(O)(O)C(O)(CCCN)P(=O)(O)O</td>\n",
       "      <td>NCCCC(O)(P(=O)(O)O)P(=O)(O)O</td>\n",
       "      <td>DTXSID5022568</td>\n",
       "      <td>DTXSID00160734</td>\n",
       "    </tr>\n",
       "  </tbody>\n",
       "</table>\n",
       "</div>"
      ],
      "text/plain": [
       "   Unnamed: 0           ID        Query  \\\n",
       "0           0    1086-00-6    1086-00-6   \n",
       "1           1  131657-78-8  131657-78-8   \n",
       "2           2   13345-26-1   13345-26-1   \n",
       "3           3   13501-76-3   13501-76-3   \n",
       "4           4   66376-36-1   66376-36-1   \n",
       "\n",
       "                                     SmilesRan Error  Exp_Value  Pred_Value  \\\n",
       "0          ClCC1=CC=C2C=CC3=CC=CC=4C=CC1=C2C34   NaN        1.0        0.79   \n",
       "1          O=[N+]([O-])C1=CC(Cl)=C(O)C(=C1)NCC   NaN        NaN        0.53   \n",
       "2  OC=1C=CC2=C(C1)C=C3C=CC4=CC=CC=5C=CC2=C3C45   NaN        1.0        1.03   \n",
       "3                         ClCCC[Si](OCC)(OCC)C   NaN        NaN        0.08   \n",
       "4                 O=P(O)(O)C(O)(CCCN)P(=O)(O)O   NaN        NaN        0.38   \n",
       "\n",
       "              Exp_Result            Pred_Result  \\\n",
       "0  Mutagenicity Positive  Mutagenicity Positive   \n",
       "1                    NaN  Mutagenicity Positive   \n",
       "2  Mutagenicity Positive  Mutagenicity Positive   \n",
       "3                    NaN  Mutagenicity Negative   \n",
       "4                    NaN  Mutagenicity Negative   \n",
       "\n",
       "                 QSAR_READY_SMILES (RDKit Mol)  \\\n",
       "0          ClCC1=CC=C2C=CC3=CC=CC=4C=CC1=C2C34   \n",
       "1          O=[N+]([O-])C1=CC(Cl)=C(O)C(=C1)NCC   \n",
       "2  OC=1C=CC2=C(C1)C=C3C=CC4=CC=CC=5C=CC2=C3C45   \n",
       "3                         ClCCC[Si](OCC)(OCC)C   \n",
       "4                 O=P(O)(O)C(O)(CCCN)P(=O)(O)O   \n",
       "\n",
       "     QSAR_READY_SMILES (RDKit Mol) (Kekulized)  \\\n",
       "0          ClCC1=CC=C2C=CC3=CC=CC4=CC=C1C2=C34   \n",
       "1            CCNC1=CC([N+](=O)[O-])=CC(Cl)=C1O   \n",
       "2  OC1=CC=C2C(=C1)C=C1C=CC3=CC=CC4=CC=C2C1=C34   \n",
       "3                         CCO[Si](C)(CCCCl)OCC   \n",
       "4                 NCCCC(O)(P(=O)(O)O)P(=O)(O)O   \n",
       "\n",
       "  DTXSID_of_chemical_structure_predicted DTXSID_of_genetox_chemical  \n",
       "0                         DTXSID00148597             DTXSID00148597  \n",
       "1                         DTXSID00157169             DTXSID00157169  \n",
       "2                         DTXSID00158116             DTXSID00158116  \n",
       "3                         DTXSID00159204             DTXSID00159204  \n",
       "4                          DTXSID5022568             DTXSID00160734  "
      ]
     },
     "execution_count": 489,
     "metadata": {},
     "output_type": "execute_result"
    }
   ],
   "source": [
    "TEST_preds.head()"
   ]
  },
  {
   "cell_type": "code",
   "execution_count": 491,
   "metadata": {},
   "outputs": [],
   "source": [
    "my_id = []\n",
    "for x,y in zip(TEST_preds['DTXSID_of_genetox_chemical'], TEST_preds['DTXSID_of_chemical_structure_predicted']):\n",
    "    if y == '-':\n",
    "        my_id.append(x)\n",
    "    else:\n",
    "        my_id.append(y)"
   ]
  },
  {
   "cell_type": "code",
   "execution_count": 493,
   "metadata": {},
   "outputs": [],
   "source": [
    "TEST_preds['id']  = my_id"
   ]
  },
  {
   "cell_type": "markdown",
   "metadata": {},
   "source": [
    "Trying through a loop and then through the apply command"
   ]
  },
  {
   "cell_type": "code",
   "execution_count": 497,
   "metadata": {},
   "outputs": [],
   "source": [
    "TEST_preds['ids'] = TEST_preds.apply(lambda x: x['DTXSID_of_genetox_chemical'] if x['DTXSID_of_chemical_structure_predicted'] == '-' else x['DTXSID_of_chemical_structure_predicted'], axis = 1)"
   ]
  },
  {
   "cell_type": "code",
   "execution_count": 499,
   "metadata": {},
   "outputs": [],
   "source": [
    "TEST_preds.drop(['DTXSID_of_chemical_structure_predicted', 'id'], axis = 1, inplace = True)"
   ]
  },
  {
   "cell_type": "code",
   "execution_count": 501,
   "metadata": {},
   "outputs": [],
   "source": [
    "TEST_preds.rename(columns = {'ids': 'DTXSID_of_chemical_structure_predicted'}, inplace = True)"
   ]
  },
  {
   "cell_type": "code",
   "execution_count": 506,
   "metadata": {},
   "outputs": [],
   "source": [
    "TEST_preds_df = TEST_preds[['DTXSID_of_genetox_chemical','DTXSID_of_chemical_structure_predicted',  'Error', 'Exp_Value',\n",
    "       'Pred_Value', 'Exp_Result', 'Pred_Result','ID', 'Query', 'SmilesRan',\n",
    "       'QSAR_READY_SMILES (RDKit Mol)',\n",
    "       'QSAR_READY_SMILES (RDKit Mol) (Kekulized)']]"
   ]
  },
  {
   "cell_type": "code",
   "execution_count": 538,
   "metadata": {},
   "outputs": [],
   "source": [
    "TEST_preds_df['TEST_prediction'] = TEST_preds_df.apply(lambda x: 1 if x['Pred_Value'] >= 0.5 else (np.nan if x['Error'] in ['FindPaths', 'Molecule contains unsupported element',\n",
    "       'Only one nonhydrogen atom'] else 0 ),axis = 1 )"
   ]
  },
  {
   "cell_type": "code",
   "execution_count": 539,
   "metadata": {},
   "outputs": [],
   "source": [
    "TEST_preds_df = TEST_preds_df[['DTXSID_of_genetox_chemical', 'DTXSID_of_chemical_structure_predicted',\n",
    "       'Error', 'Exp_Value', 'Pred_Value', 'Exp_Result', 'Pred_Result','TEST_prediction', 'ID',\n",
    "       'Query', 'SmilesRan', 'QSAR_READY_SMILES (RDKit Mol)',\n",
    "       'QSAR_READY_SMILES (RDKit Mol) (Kekulized)' ]]"
   ]
  },
  {
   "cell_type": "code",
   "execution_count": 540,
   "metadata": {},
   "outputs": [
    {
     "data": {
      "text/html": [
       "<div>\n",
       "<style scoped>\n",
       "    .dataframe tbody tr th:only-of-type {\n",
       "        vertical-align: middle;\n",
       "    }\n",
       "\n",
       "    .dataframe tbody tr th {\n",
       "        vertical-align: top;\n",
       "    }\n",
       "\n",
       "    .dataframe thead th {\n",
       "        text-align: right;\n",
       "    }\n",
       "</style>\n",
       "<table border=\"1\" class=\"dataframe\">\n",
       "  <thead>\n",
       "    <tr style=\"text-align: right;\">\n",
       "      <th></th>\n",
       "      <th>DTXSID_of_genetox_chemical</th>\n",
       "      <th>DTXSID_of_chemical_structure_predicted</th>\n",
       "      <th>Error</th>\n",
       "      <th>Exp_Value</th>\n",
       "      <th>Pred_Value</th>\n",
       "      <th>Exp_Result</th>\n",
       "      <th>Pred_Result</th>\n",
       "      <th>TEST_prediction</th>\n",
       "      <th>ID</th>\n",
       "      <th>Query</th>\n",
       "      <th>SmilesRan</th>\n",
       "      <th>QSAR_READY_SMILES (RDKit Mol)</th>\n",
       "      <th>QSAR_READY_SMILES (RDKit Mol) (Kekulized)</th>\n",
       "    </tr>\n",
       "  </thead>\n",
       "  <tbody>\n",
       "    <tr>\n",
       "      <th>37</th>\n",
       "      <td>DTXSID00195884</td>\n",
       "      <td>DTXSID00195884</td>\n",
       "      <td>FindPaths</td>\n",
       "      <td>NaN</td>\n",
       "      <td>NaN</td>\n",
       "      <td>NaN</td>\n",
       "      <td>NaN</td>\n",
       "      <td>NaN</td>\n",
       "      <td>436-40-8</td>\n",
       "      <td>436-40-8</td>\n",
       "      <td>O=C1C(OCCC)=C(C(=O)C(OCCC)=C1N2CC2)N3CC3</td>\n",
       "      <td>O=C1C(OCCC)=C(C(=O)C(OCCC)=C1N2CC2)N3CC3</td>\n",
       "      <td>CCCOC1=C(N2CC2)C(=O)C(OCCC)=C(N2CC2)C1=O</td>\n",
       "    </tr>\n",
       "    <tr>\n",
       "      <th>69</th>\n",
       "      <td>DTXSID00203771</td>\n",
       "      <td>DTXSID00203771</td>\n",
       "      <td>FindPaths</td>\n",
       "      <td>NaN</td>\n",
       "      <td>NaN</td>\n",
       "      <td>NaN</td>\n",
       "      <td>NaN</td>\n",
       "      <td>NaN</td>\n",
       "      <td>55258-21-4</td>\n",
       "      <td>55258-21-4</td>\n",
       "      <td>O=C(OCCCCCCCCCCCCCCCCCC)CCC(NC(=O)CCCCCCCCCCC)...</td>\n",
       "      <td>O=C(OCCCCCCCCCCCCCCCCCC)CCC(NC(=O)CCCCCCCCCCC)...</td>\n",
       "      <td>CCCCCCCCCCCCCCCCCCOC(=O)CCC(NC(=O)CCCCCCCCCCC)...</td>\n",
       "    </tr>\n",
       "    <tr>\n",
       "      <th>83</th>\n",
       "      <td>DTXSID0020571</td>\n",
       "      <td>DTXSID0020571</td>\n",
       "      <td>FindPaths</td>\n",
       "      <td>NaN</td>\n",
       "      <td>NaN</td>\n",
       "      <td>NaN</td>\n",
       "      <td>NaN</td>\n",
       "      <td>NaN</td>\n",
       "      <td>NOCAS_859206</td>\n",
       "      <td>NOCAS_859206</td>\n",
       "      <td>O=C1OC(CC)C(O)(C)C(O)C(C(=O)C(C)CC(O)(C)C(OC2O...</td>\n",
       "      <td>O=C1OC(CC)C(O)(C)C(O)C(C(=O)C(C)CC(O)(C)C(OC2O...</td>\n",
       "      <td>CCC1OC(=O)C(C)C(OC2CC(C)(OC)C(O)C(C)O2)C(C)C(O...</td>\n",
       "    </tr>\n",
       "    <tr>\n",
       "      <th>94</th>\n",
       "      <td>DTXSID0020656</td>\n",
       "      <td>DTXSID0020656</td>\n",
       "      <td>FindPaths</td>\n",
       "      <td>NaN</td>\n",
       "      <td>NaN</td>\n",
       "      <td>NaN</td>\n",
       "      <td>NaN</td>\n",
       "      <td>NaN</td>\n",
       "      <td>NOCAS_859101</td>\n",
       "      <td>NOCAS_859101</td>\n",
       "      <td>O=C(O)C1C2C3(OC(=O)C2(C)C(O)C=C3)C4CCC5(O)C(=C...</td>\n",
       "      <td>O=C(O)C1C2C3(OC(=O)C2(C)C(O)C=C3)C4CCC5(O)C(=C...</td>\n",
       "      <td>C=C1CC23CC1(O)CCC2C12C=CC(O)C(C)(C(=O)O1)C2C3C...</td>\n",
       "    </tr>\n",
       "    <tr>\n",
       "      <th>102</th>\n",
       "      <td>DTXSID0020787</td>\n",
       "      <td>DTXSID0020787</td>\n",
       "      <td>FindPaths</td>\n",
       "      <td>NaN</td>\n",
       "      <td>NaN</td>\n",
       "      <td>NaN</td>\n",
       "      <td>NaN</td>\n",
       "      <td>NaN</td>\n",
       "      <td>NOCAS_860271</td>\n",
       "      <td>NOCAS_860271</td>\n",
       "      <td>O=C1C2=C(O)C=C(C(O)=C2C(=O)C34C1C(=O)C5C(O)C4C...</td>\n",
       "      <td>O=C1C2=C(O)C=C(C(O)=C2C(=O)C34C1C(=O)C5C(O)C4C...</td>\n",
       "      <td>CC1=CC(O)=C2C(=O)C3C(=O)C4C(O)C5C6C(O)C(C(=O)C...</td>\n",
       "    </tr>\n",
       "    <tr>\n",
       "      <th>...</th>\n",
       "      <td>...</td>\n",
       "      <td>...</td>\n",
       "      <td>...</td>\n",
       "      <td>...</td>\n",
       "      <td>...</td>\n",
       "      <td>...</td>\n",
       "      <td>...</td>\n",
       "      <td>...</td>\n",
       "      <td>...</td>\n",
       "      <td>...</td>\n",
       "      <td>...</td>\n",
       "      <td>...</td>\n",
       "      <td>...</td>\n",
       "    </tr>\n",
       "    <tr>\n",
       "      <th>7463</th>\n",
       "      <td>DTXSID90884098</td>\n",
       "      <td>DTXSID90884098</td>\n",
       "      <td>FindPaths</td>\n",
       "      <td>NaN</td>\n",
       "      <td>NaN</td>\n",
       "      <td>NaN</td>\n",
       "      <td>NaN</td>\n",
       "      <td>NaN</td>\n",
       "      <td>NOCAS_863432</td>\n",
       "      <td>NOCAS_863432</td>\n",
       "      <td>C=1C=CC(=CC1)C=2C(=CC=C3N(C=4C=CC=CC4C3(C)C)C)...</td>\n",
       "      <td>C=1C=CC(=CC1)C=2C(=CC=C3N(C=4C=CC=CC4C3(C)C)C)...</td>\n",
       "      <td>CN1C2=CC=CC=C2C(C)(C)C1=CC=C1C2=CC=CC=C2[N+](C...</td>\n",
       "    </tr>\n",
       "    <tr>\n",
       "      <th>7492</th>\n",
       "      <td>DTXSID90889245</td>\n",
       "      <td>DTXSID90889245</td>\n",
       "      <td>FindPaths</td>\n",
       "      <td>NaN</td>\n",
       "      <td>NaN</td>\n",
       "      <td>NaN</td>\n",
       "      <td>NaN</td>\n",
       "      <td>NaN</td>\n",
       "      <td>932742-30-8</td>\n",
       "      <td>932742-30-8</td>\n",
       "      <td>O=C(OCC(C=NCC1(C)CC(N=CC(C)(C)COC(=O)CCCCCCCCC...</td>\n",
       "      <td>O=C(OCC(C=NCC1(C)CC(N=CC(C)(C)COC(=O)CCCCCCCCC...</td>\n",
       "      <td>CCCCCCCCCCCC(=O)OCC(C)(C)C=NCC1(C)CC(N=CC(C)(C...</td>\n",
       "    </tr>\n",
       "    <tr>\n",
       "      <th>7499</th>\n",
       "      <td>DTXSID90889467</td>\n",
       "      <td>DTXSID4064634</td>\n",
       "      <td>FindPaths</td>\n",
       "      <td>NaN</td>\n",
       "      <td>NaN</td>\n",
       "      <td>NaN</td>\n",
       "      <td>NaN</td>\n",
       "      <td>NaN</td>\n",
       "      <td>7342-13-4</td>\n",
       "      <td>7342-13-4</td>\n",
       "      <td>O=S(=O)(O)C1=CC(=CC=C1C=CC2=CC=C(C=C2S(=O)(=O)...</td>\n",
       "      <td>O=S(=O)(O)C1=CC(=CC=C1C=CC2=CC=C(C=C2S(=O)(=O)...</td>\n",
       "      <td>COC1=NC(NC2=CC=CC=C2)=NC(NC2=CC=C(C=CC3=CC=C(N...</td>\n",
       "    </tr>\n",
       "    <tr>\n",
       "      <th>7502</th>\n",
       "      <td>DTXSID90890058</td>\n",
       "      <td>DTXSID90890058</td>\n",
       "      <td>FindPaths</td>\n",
       "      <td>NaN</td>\n",
       "      <td>NaN</td>\n",
       "      <td>NaN</td>\n",
       "      <td>NaN</td>\n",
       "      <td>NaN</td>\n",
       "      <td>C_YEMFTKQHJDLOQR-UHFFFAOYSA-N</td>\n",
       "      <td>C_YEMFTKQHJDLOQR-UHFFFAOYSA-N</td>\n",
       "      <td>O=C(NC1=CC=C(N=NC2=CC=C(N=NC3=CC=C(C=C3)S(=O)(...</td>\n",
       "      <td>O=C(NC1=CC=C(N=NC2=CC=C(N=NC3=CC=C(C=C3)S(=O)(...</td>\n",
       "      <td>CC(O)=NC1=CC(NC(=O)C2=CC=C(C(=O)NC3=CC=C(N=NC4...</td>\n",
       "    </tr>\n",
       "    <tr>\n",
       "      <th>7503</th>\n",
       "      <td>DTXSID90890230</td>\n",
       "      <td>DTXSID90890230</td>\n",
       "      <td>FindPaths</td>\n",
       "      <td>NaN</td>\n",
       "      <td>NaN</td>\n",
       "      <td>NaN</td>\n",
       "      <td>NaN</td>\n",
       "      <td>NaN</td>\n",
       "      <td>C_WXAUKIULWFTVGW-UHFFFAOYSA-N</td>\n",
       "      <td>C_WXAUKIULWFTVGW-UHFFFAOYSA-N</td>\n",
       "      <td>O=[N+]([O-])C1=CC=C(NC2=CC=C(N=NC=3C=CC(N=NC4=...</td>\n",
       "      <td>O=[N+]([O-])C1=CC=C(NC2=CC=C(N=NC=3C=CC(N=NC4=...</td>\n",
       "      <td>O=[N+]([O-])C1=CC=C(NC2=CC=C(N=NC3=CC=C(N=NC4=...</td>\n",
       "    </tr>\n",
       "  </tbody>\n",
       "</table>\n",
       "<p>264 rows × 13 columns</p>\n",
       "</div>"
      ],
      "text/plain": [
       "     DTXSID_of_genetox_chemical DTXSID_of_chemical_structure_predicted  \\\n",
       "37               DTXSID00195884                         DTXSID00195884   \n",
       "69               DTXSID00203771                         DTXSID00203771   \n",
       "83                DTXSID0020571                          DTXSID0020571   \n",
       "94                DTXSID0020656                          DTXSID0020656   \n",
       "102               DTXSID0020787                          DTXSID0020787   \n",
       "...                         ...                                    ...   \n",
       "7463             DTXSID90884098                         DTXSID90884098   \n",
       "7492             DTXSID90889245                         DTXSID90889245   \n",
       "7499             DTXSID90889467                          DTXSID4064634   \n",
       "7502             DTXSID90890058                         DTXSID90890058   \n",
       "7503             DTXSID90890230                         DTXSID90890230   \n",
       "\n",
       "          Error  Exp_Value  Pred_Value Exp_Result Pred_Result  \\\n",
       "37    FindPaths        NaN         NaN        NaN         NaN   \n",
       "69    FindPaths        NaN         NaN        NaN         NaN   \n",
       "83    FindPaths        NaN         NaN        NaN         NaN   \n",
       "94    FindPaths        NaN         NaN        NaN         NaN   \n",
       "102   FindPaths        NaN         NaN        NaN         NaN   \n",
       "...         ...        ...         ...        ...         ...   \n",
       "7463  FindPaths        NaN         NaN        NaN         NaN   \n",
       "7492  FindPaths        NaN         NaN        NaN         NaN   \n",
       "7499  FindPaths        NaN         NaN        NaN         NaN   \n",
       "7502  FindPaths        NaN         NaN        NaN         NaN   \n",
       "7503  FindPaths        NaN         NaN        NaN         NaN   \n",
       "\n",
       "      TEST_prediction                             ID  \\\n",
       "37                NaN                       436-40-8   \n",
       "69                NaN                     55258-21-4   \n",
       "83                NaN                   NOCAS_859206   \n",
       "94                NaN                   NOCAS_859101   \n",
       "102               NaN                   NOCAS_860271   \n",
       "...               ...                            ...   \n",
       "7463              NaN                   NOCAS_863432   \n",
       "7492              NaN                    932742-30-8   \n",
       "7499              NaN                      7342-13-4   \n",
       "7502              NaN  C_YEMFTKQHJDLOQR-UHFFFAOYSA-N   \n",
       "7503              NaN  C_WXAUKIULWFTVGW-UHFFFAOYSA-N   \n",
       "\n",
       "                              Query  \\\n",
       "37                         436-40-8   \n",
       "69                       55258-21-4   \n",
       "83                     NOCAS_859206   \n",
       "94                     NOCAS_859101   \n",
       "102                    NOCAS_860271   \n",
       "...                             ...   \n",
       "7463                   NOCAS_863432   \n",
       "7492                    932742-30-8   \n",
       "7499                      7342-13-4   \n",
       "7502  C_YEMFTKQHJDLOQR-UHFFFAOYSA-N   \n",
       "7503  C_WXAUKIULWFTVGW-UHFFFAOYSA-N   \n",
       "\n",
       "                                              SmilesRan  \\\n",
       "37             O=C1C(OCCC)=C(C(=O)C(OCCC)=C1N2CC2)N3CC3   \n",
       "69    O=C(OCCCCCCCCCCCCCCCCCC)CCC(NC(=O)CCCCCCCCCCC)...   \n",
       "83    O=C1OC(CC)C(O)(C)C(O)C(C(=O)C(C)CC(O)(C)C(OC2O...   \n",
       "94    O=C(O)C1C2C3(OC(=O)C2(C)C(O)C=C3)C4CCC5(O)C(=C...   \n",
       "102   O=C1C2=C(O)C=C(C(O)=C2C(=O)C34C1C(=O)C5C(O)C4C...   \n",
       "...                                                 ...   \n",
       "7463  C=1C=CC(=CC1)C=2C(=CC=C3N(C=4C=CC=CC4C3(C)C)C)...   \n",
       "7492  O=C(OCC(C=NCC1(C)CC(N=CC(C)(C)COC(=O)CCCCCCCCC...   \n",
       "7499  O=S(=O)(O)C1=CC(=CC=C1C=CC2=CC=C(C=C2S(=O)(=O)...   \n",
       "7502  O=C(NC1=CC=C(N=NC2=CC=C(N=NC3=CC=C(C=C3)S(=O)(...   \n",
       "7503  O=[N+]([O-])C1=CC=C(NC2=CC=C(N=NC=3C=CC(N=NC4=...   \n",
       "\n",
       "                          QSAR_READY_SMILES (RDKit Mol)  \\\n",
       "37             O=C1C(OCCC)=C(C(=O)C(OCCC)=C1N2CC2)N3CC3   \n",
       "69    O=C(OCCCCCCCCCCCCCCCCCC)CCC(NC(=O)CCCCCCCCCCC)...   \n",
       "83    O=C1OC(CC)C(O)(C)C(O)C(C(=O)C(C)CC(O)(C)C(OC2O...   \n",
       "94    O=C(O)C1C2C3(OC(=O)C2(C)C(O)C=C3)C4CCC5(O)C(=C...   \n",
       "102   O=C1C2=C(O)C=C(C(O)=C2C(=O)C34C1C(=O)C5C(O)C4C...   \n",
       "...                                                 ...   \n",
       "7463  C=1C=CC(=CC1)C=2C(=CC=C3N(C=4C=CC=CC4C3(C)C)C)...   \n",
       "7492  O=C(OCC(C=NCC1(C)CC(N=CC(C)(C)COC(=O)CCCCCCCCC...   \n",
       "7499  O=S(=O)(O)C1=CC(=CC=C1C=CC2=CC=C(C=C2S(=O)(=O)...   \n",
       "7502  O=C(NC1=CC=C(N=NC2=CC=C(N=NC3=CC=C(C=C3)S(=O)(...   \n",
       "7503  O=[N+]([O-])C1=CC=C(NC2=CC=C(N=NC=3C=CC(N=NC4=...   \n",
       "\n",
       "              QSAR_READY_SMILES (RDKit Mol) (Kekulized)  \n",
       "37             CCCOC1=C(N2CC2)C(=O)C(OCCC)=C(N2CC2)C1=O  \n",
       "69    CCCCCCCCCCCCCCCCCCOC(=O)CCC(NC(=O)CCCCCCCCCCC)...  \n",
       "83    CCC1OC(=O)C(C)C(OC2CC(C)(OC)C(O)C(C)O2)C(C)C(O...  \n",
       "94    C=C1CC23CC1(O)CCC2C12C=CC(O)C(C)(C(=O)O1)C2C3C...  \n",
       "102   CC1=CC(O)=C2C(=O)C3C(=O)C4C(O)C5C6C(O)C(C(=O)C...  \n",
       "...                                                 ...  \n",
       "7463  CN1C2=CC=CC=C2C(C)(C)C1=CC=C1C2=CC=CC=C2[N+](C...  \n",
       "7492  CCCCCCCCCCCC(=O)OCC(C)(C)C=NCC1(C)CC(N=CC(C)(C...  \n",
       "7499  COC1=NC(NC2=CC=CC=C2)=NC(NC2=CC=C(C=CC3=CC=C(N...  \n",
       "7502  CC(O)=NC1=CC(NC(=O)C2=CC=C(C(=O)NC3=CC=C(N=NC4...  \n",
       "7503  O=[N+]([O-])C1=CC=C(NC2=CC=C(N=NC3=CC=C(N=NC4=...  \n",
       "\n",
       "[264 rows x 13 columns]"
      ]
     },
     "execution_count": 540,
     "metadata": {},
     "output_type": "execute_result"
    }
   ],
   "source": [
    "TEST_preds_df[~TEST_preds_df['Error'].isnull()]"
   ]
  },
  {
   "cell_type": "code",
   "execution_count": 719,
   "metadata": {},
   "outputs": [
    {
     "data": {
      "text/plain": [
       "0.0    5286\n",
       "1.0    1961\n",
       "NaN     264\n",
       "Name: TEST_prediction, dtype: int64"
      ]
     },
     "execution_count": 719,
     "metadata": {},
     "output_type": "execute_result"
    }
   ],
   "source": [
    "TEST_preds_df.TEST_prediction.value_counts(dropna = False)"
   ]
  },
  {
   "cell_type": "code",
   "execution_count": 543,
   "metadata": {},
   "outputs": [],
   "source": [
    "TEST_preds_df.to_csv(processed_dat_dir+'TEST_consensus_Ames_predictions_100221.csv')"
   ]
  },
  {
   "cell_type": "markdown",
   "metadata": {},
   "source": [
    "#### Processing and reviewing the predictions from the OECD Toolbox. Version 4.4.1 was used given that the dataset was being augmented. It made sense to use the most up-to-date version of the tool."
   ]
  },
  {
   "cell_type": "code",
   "execution_count": 577,
   "metadata": {},
   "outputs": [],
   "source": [
    "OECD_TB = pd.read_excel(interim_dat_dir+'gentox_TB_out.xlsx')"
   ]
  },
  {
   "cell_type": "code",
   "execution_count": 578,
   "metadata": {},
   "outputs": [
    {
     "data": {
      "text/plain": [
       "(6955, 17)"
      ]
     },
     "execution_count": 578,
     "metadata": {},
     "output_type": "execute_result"
    }
   ],
   "source": [
    "OECD_TB.shape"
   ]
  },
  {
   "cell_type": "code",
   "execution_count": 583,
   "metadata": {},
   "outputs": [
    {
     "data": {
      "text/plain": [
       "Index(['#', 'CAS Number', 'Chemical name(s)', 'SMILES', 'Molecular formula',\n",
       "       'Predefined substance type', 'Additional Ids', 'Composition',\n",
       "       'CAS-SMILES relation',\n",
       "       'Carcinogenicity (genotox and nongenotox) alerts by ISS',\n",
       "       'DNA alerts for AMES, CA and MNT by OASIS', 'DNA binding by OASIS',\n",
       "       'DNA binding by OECD', 'Oncologic Primary Classification',\n",
       "       'Protein binding alerts for Chromosomal aberration by OASIS',\n",
       "       'in vitro mutagenicity (Ames test) alerts by ISS',\n",
       "       'in vivo mutagenicity (Micronucleus) alerts by ISS'],\n",
       "      dtype='object')"
      ]
     },
     "execution_count": 583,
     "metadata": {},
     "output_type": "execute_result"
    }
   ],
   "source": [
    "OECD_TB.columns"
   ]
  },
  {
   "cell_type": "code",
   "execution_count": 584,
   "metadata": {},
   "outputs": [],
   "source": [
    "OECD_TB = OECD_TB[['Chemical name(s)', 'SMILES', 'Molecular formula',\n",
    "       'Predefined substance type', 'Additional Ids', 'Composition',\n",
    "       'CAS-SMILES relation',\n",
    "       'Carcinogenicity (genotox and nongenotox) alerts by ISS',\n",
    "       'DNA alerts for AMES, CA and MNT by OASIS', 'DNA binding by OASIS',\n",
    "       'DNA binding by OECD', 'Oncologic Primary Classification',\n",
    "       'Protein binding alerts for Chromosomal aberration by OASIS',\n",
    "       'in vitro mutagenicity (Ames test) alerts by ISS',\n",
    "       'in vivo mutagenicity (Micronucleus) alerts by ISS']]"
   ]
  },
  {
   "cell_type": "code",
   "execution_count": 595,
   "metadata": {},
   "outputs": [],
   "source": [
    "OECD_TB = OECD_TB[~OECD_TB['Chemical name(s)'].isnull()]"
   ]
  },
  {
   "cell_type": "code",
   "execution_count": 596,
   "metadata": {},
   "outputs": [
    {
     "data": {
      "text/plain": [
       "0                   DTXSID00148597\n",
       "1                   DTXSID00157169\n",
       "2                   DTXSID00158116\n",
       "3                   DTXSID00159204\n",
       "4       Alendronate;DTXSID00160734\n",
       "                   ...            \n",
       "6947                DTXSID90890477\n",
       "6948                DTXSID90890619\n",
       "6949                DTXSID90890811\n",
       "6950                DTXSID90891080\n",
       "6951                DTXSID90891888\n",
       "Name: Chemical name(s), Length: 6952, dtype: object"
      ]
     },
     "execution_count": 596,
     "metadata": {},
     "output_type": "execute_result"
    }
   ],
   "source": [
    "OECD_TB['Chemical name(s)']"
   ]
  },
  {
   "cell_type": "code",
   "execution_count": 597,
   "metadata": {},
   "outputs": [],
   "source": [
    "import re\n",
    "p = re.compile(r'DTXSID\\d{1,}')"
   ]
  },
  {
   "cell_type": "code",
   "execution_count": 598,
   "metadata": {},
   "outputs": [],
   "source": [
    "dtxsid = [m.group(0) for l in OECD_TB['Chemical name(s)'] for m in [p.search(l)] if m]\n",
    "\n"
   ]
  },
  {
   "cell_type": "code",
   "execution_count": 605,
   "metadata": {},
   "outputs": [],
   "source": [
    "OECD_TB['DTXSID'] =dtxsid"
   ]
  },
  {
   "cell_type": "code",
   "execution_count": 600,
   "metadata": {},
   "outputs": [],
   "source": [
    "missing_dtxsids = OECD_TB[~OECD_TB['Chemical name(s)'].str.contains('DTX')]"
   ]
  },
  {
   "cell_type": "code",
   "execution_count": 602,
   "metadata": {},
   "outputs": [
    {
     "data": {
      "text/html": [
       "<div>\n",
       "<style scoped>\n",
       "    .dataframe tbody tr th:only-of-type {\n",
       "        vertical-align: middle;\n",
       "    }\n",
       "\n",
       "    .dataframe tbody tr th {\n",
       "        vertical-align: top;\n",
       "    }\n",
       "\n",
       "    .dataframe thead th {\n",
       "        text-align: right;\n",
       "    }\n",
       "</style>\n",
       "<table border=\"1\" class=\"dataframe\">\n",
       "  <thead>\n",
       "    <tr style=\"text-align: right;\">\n",
       "      <th></th>\n",
       "      <th>Chemical name(s)</th>\n",
       "      <th>SMILES</th>\n",
       "      <th>Molecular formula</th>\n",
       "      <th>Predefined substance type</th>\n",
       "      <th>Additional Ids</th>\n",
       "      <th>Composition</th>\n",
       "      <th>CAS-SMILES relation</th>\n",
       "      <th>Carcinogenicity (genotox and nongenotox) alerts by ISS</th>\n",
       "      <th>DNA alerts for AMES, CA and MNT by OASIS</th>\n",
       "      <th>DNA binding by OASIS</th>\n",
       "      <th>DNA binding by OECD</th>\n",
       "      <th>Oncologic Primary Classification</th>\n",
       "      <th>Protein binding alerts for Chromosomal aberration by OASIS</th>\n",
       "      <th>in vitro mutagenicity (Ames test) alerts by ISS</th>\n",
       "      <th>in vivo mutagenicity (Micronucleus) alerts by ISS</th>\n",
       "      <th>DTXSID</th>\n",
       "    </tr>\n",
       "  </thead>\n",
       "  <tbody>\n",
       "  </tbody>\n",
       "</table>\n",
       "</div>"
      ],
      "text/plain": [
       "Empty DataFrame\n",
       "Columns: [Chemical name(s), SMILES, Molecular formula, Predefined substance type, Additional Ids, Composition, CAS-SMILES relation, Carcinogenicity (genotox and nongenotox) alerts by ISS, DNA alerts for AMES, CA and MNT by OASIS, DNA binding by OASIS, DNA binding by OECD, Oncologic Primary Classification, Protein binding alerts for Chromosomal aberration by OASIS, in vitro mutagenicity (Ames test) alerts by ISS, in vivo mutagenicity (Micronucleus) alerts by ISS, DTXSID]\n",
       "Index: []"
      ]
     },
     "execution_count": 602,
     "metadata": {},
     "output_type": "execute_result"
    }
   ],
   "source": [
    "missing_dtxsids"
   ]
  },
  {
   "cell_type": "code",
   "execution_count": 608,
   "metadata": {},
   "outputs": [],
   "source": [
    "OECD_TB = OECD_TB[['DTXSID','Carcinogenicity (genotox and nongenotox) alerts by ISS',\n",
    "       'DNA alerts for AMES, CA and MNT by OASIS', 'DNA binding by OASIS',\n",
    "       'DNA binding by OECD', 'Oncologic Primary Classification',\n",
    "       'Protein binding alerts for Chromosomal aberration by OASIS',\n",
    "       'in vitro mutagenicity (Ames test) alerts by ISS',\n",
    "       'in vivo mutagenicity (Micronucleus) alerts by ISS']]\n"
   ]
  },
  {
   "cell_type": "code",
   "execution_count": 624,
   "metadata": {},
   "outputs": [],
   "source": [
    "OECD_TB.to_csv(processed_dat_dir+'OECD_TB_100221.csv')"
   ]
  },
  {
   "cell_type": "code",
   "execution_count": 618,
   "metadata": {},
   "outputs": [],
   "source": [
    "tag = {'Carcinogenicity (genotox and nongenotox) alerts by ISS' : 'Carc_ISS',\n",
    "       'DNA alerts for AMES, CA and MNT by OASIS' : 'DNA_Ames_OASIS', 'DNA binding by OASIS' : 'DNA_binding_OASIS',\n",
    "       'DNA binding by OECD' : 'DNA_binding_OECD' , 'Oncologic Primary Classification': 'Oncologic',\n",
    "       'Protein binding alerts for Chromosomal aberration by OASIS' : 'Protein_binding_CA_OASIS',\n",
    "       'in vitro mutagenicity (Ames test) alerts by ISS' :'Ames_ISS' ,\n",
    "       'in vivo mutagenicity (Micronucleus) alerts by ISS': 'MNT_ISS'}"
   ]
  },
  {
   "cell_type": "code",
   "execution_count": 620,
   "metadata": {},
   "outputs": [
    {
     "name": "stderr",
     "output_type": "stream",
     "text": [
      "/home/grace/anaconda3/lib/python3.7/site-packages/pandas/core/frame.py:4133: SettingWithCopyWarning: \n",
      "A value is trying to be set on a copy of a slice from a DataFrame\n",
      "\n",
      "See the caveats in the documentation: https://pandas.pydata.org/pandas-docs/stable/user_guide/indexing.html#returning-a-view-versus-a-copy\n",
      "  errors=errors,\n"
     ]
    }
   ],
   "source": [
    "OECD_TB.rename(columns = tag, inplace = True)"
   ]
  },
  {
   "cell_type": "code",
   "execution_count": 610,
   "metadata": {},
   "outputs": [],
   "source": [
    "OECD_TB_numeric = OECD_TB.replace({'No alert found': 0, '(N/A)': np.nan, 'Not classified': 0})"
   ]
  },
  {
   "cell_type": "code",
   "execution_count": 614,
   "metadata": {},
   "outputs": [
    {
     "name": "stderr",
     "output_type": "stream",
     "text": [
      "/home/grace/anaconda3/lib/python3.7/site-packages/pandas/core/frame.py:4172: SettingWithCopyWarning: \n",
      "A value is trying to be set on a copy of a slice from a DataFrame\n",
      "\n",
      "See the caveats in the documentation: https://pandas.pydata.org/pandas-docs/stable/user_guide/indexing.html#returning-a-view-versus-a-copy\n",
      "  method=method,\n"
     ]
    }
   ],
   "source": [
    "OECD_TB_numeric.iloc[:,1:].replace({'\\w+' : 1}, regex = True, inplace = True)"
   ]
  },
  {
   "cell_type": "code",
   "execution_count": 621,
   "metadata": {},
   "outputs": [],
   "source": [
    "OECD_TB_numeric.rename(columns = tag, inplace = True)"
   ]
  },
  {
   "cell_type": "code",
   "execution_count": 715,
   "metadata": {},
   "outputs": [
    {
     "data": {
      "text/plain": [
       "Index(['DTXSID', 'Carc_ISS', 'DNA_Ames_OASIS', 'DNA_binding_OASIS',\n",
       "       'DNA_binding_OECD', 'Oncologic', 'Protein_binding_CA_OASIS', 'Ames_ISS',\n",
       "       'MNT_ISS'],\n",
       "      dtype='object')"
      ]
     },
     "execution_count": 715,
     "metadata": {},
     "output_type": "execute_result"
    }
   ],
   "source": [
    "OECD_TB.columns"
   ]
  },
  {
   "cell_type": "code",
   "execution_count": 725,
   "metadata": {},
   "outputs": [
    {
     "name": "stdout",
     "output_type": "stream",
     "text": [
      "<class 'pandas.core.frame.DataFrame'>\n",
      "Int64Index: 6952 entries, 0 to 6951\n",
      "Data columns (total 9 columns):\n",
      " #   Column                    Non-Null Count  Dtype \n",
      "---  ------                    --------------  ----- \n",
      " 0   DTXSID                    6952 non-null   object\n",
      " 1   Carc_ISS                  6952 non-null   object\n",
      " 2   DNA_Ames_OASIS            6952 non-null   object\n",
      " 3   DNA_binding_OASIS         6952 non-null   object\n",
      " 4   DNA_binding_OECD          6952 non-null   object\n",
      " 5   Oncologic                 6952 non-null   object\n",
      " 6   Protein_binding_CA_OASIS  6952 non-null   object\n",
      " 7   Ames_ISS                  6952 non-null   object\n",
      " 8   MNT_ISS                   6952 non-null   object\n",
      "dtypes: object(9)\n",
      "memory usage: 543.1+ KB\n"
     ]
    }
   ],
   "source": [
    "OECD_TB.info()"
   ]
  },
  {
   "cell_type": "code",
   "execution_count": 623,
   "metadata": {},
   "outputs": [],
   "source": [
    "OECD_TB_numeric.to_csv(processed_dat_dir+'OECD_TB_numeric_100221.csv')"
   ]
  },
  {
   "cell_type": "markdown",
   "metadata": {},
   "source": [
    "#### Model predictions from VEGA - cite http://ceur-ws.org/Vol-1107/paper8.pdf Version 1.1..5.47 was used to generate new predictions following suggestion from reviewer."
   ]
  },
  {
   "cell_type": "code",
   "execution_count": 631,
   "metadata": {},
   "outputs": [],
   "source": [
    "VEGA_out = pd.read_excel(interim_dat_dir+'VEGA_OUT.xlsx')"
   ]
  },
  {
   "cell_type": "code",
   "execution_count": 637,
   "metadata": {},
   "outputs": [
    {
     "data": {
      "text/plain": [
       "['No.',\n",
       " 'Id',\n",
       " 'SMILES',\n",
       " 'Mutagenicity (Ames test) CONSENSUS model - assessment',\n",
       " 'Mutagenicity (Ames test) CONSENSUS model - prediction',\n",
       " 'Mutagenicity (Ames test) model (CAESAR) - assessment',\n",
       " 'Mutagenicity (Ames test) model (CAESAR) - prediction',\n",
       " 'Mutagenicity (Ames test) model (SarPy/IRFMN) - assessment',\n",
       " 'Mutagenicity (Ames test) model (SarPy/IRFMN) - prediction',\n",
       " 'Mutagenicity (Ames test) model (ISS) - assessment',\n",
       " 'Mutagenicity (Ames test) model (ISS) - prediction',\n",
       " 'Mutagenicity (Ames test) model (KNN/Read-Across) - assessment',\n",
       " 'Mutagenicity (Ames test) model (KNN/Read-Across) - prediction',\n",
       " 'Chromosomal aberration model (CORAL) - assessment',\n",
       " 'Chromosomal aberration model (CORAL) - prediction',\n",
       " 'In vitro Micronucleus activity (IRFMN/VERMEER) - assessment',\n",
       " 'In vitro Micronucleus activity (IRFMN/VERMEER) - prediction',\n",
       " 'In vivo Micronucleus activity (IRFMN) - assessment',\n",
       " 'In vivo Micronucleus activity (IRFMN) - prediction']"
      ]
     },
     "execution_count": 637,
     "metadata": {},
     "output_type": "execute_result"
    }
   ],
   "source": [
    "VEGA_out.iloc[10,:].tolist()"
   ]
  },
  {
   "cell_type": "code",
   "execution_count": 638,
   "metadata": {},
   "outputs": [],
   "source": [
    "VEGA_out.columns = VEGA_out.iloc[10,:].tolist()"
   ]
  },
  {
   "cell_type": "code",
   "execution_count": 643,
   "metadata": {},
   "outputs": [],
   "source": [
    "VEGA_out = VEGA_out.iloc[12:,:]"
   ]
  },
  {
   "cell_type": "code",
   "execution_count": 644,
   "metadata": {},
   "outputs": [
    {
     "data": {
      "text/plain": [
       "(7511, 19)"
      ]
     },
     "execution_count": 644,
     "metadata": {},
     "output_type": "execute_result"
    }
   ],
   "source": [
    "VEGA_out.shape"
   ]
  },
  {
   "cell_type": "code",
   "execution_count": 646,
   "metadata": {},
   "outputs": [
    {
     "data": {
      "text/plain": [
       "Index(['No.', 'Id', 'SMILES',\n",
       "       'Mutagenicity (Ames test) CONSENSUS model - assessment',\n",
       "       'Mutagenicity (Ames test) CONSENSUS model - prediction',\n",
       "       'Mutagenicity (Ames test) model (CAESAR) - assessment',\n",
       "       'Mutagenicity (Ames test) model (CAESAR) - prediction',\n",
       "       'Mutagenicity (Ames test) model (SarPy/IRFMN) - assessment',\n",
       "       'Mutagenicity (Ames test) model (SarPy/IRFMN) - prediction',\n",
       "       'Mutagenicity (Ames test) model (ISS) - assessment',\n",
       "       'Mutagenicity (Ames test) model (ISS) - prediction',\n",
       "       'Mutagenicity (Ames test) model (KNN/Read-Across) - assessment',\n",
       "       'Mutagenicity (Ames test) model (KNN/Read-Across) - prediction',\n",
       "       'Chromosomal aberration model (CORAL) - assessment',\n",
       "       'Chromosomal aberration model (CORAL) - prediction',\n",
       "       'In vitro Micronucleus activity (IRFMN/VERMEER) - assessment',\n",
       "       'In vitro Micronucleus activity (IRFMN/VERMEER) - prediction',\n",
       "       'In vivo Micronucleus activity (IRFMN) - assessment',\n",
       "       'In vivo Micronucleus activity (IRFMN) - prediction'],\n",
       "      dtype='object')"
      ]
     },
     "execution_count": 646,
     "metadata": {},
     "output_type": "execute_result"
    }
   ],
   "source": [
    "VEGA_out.columns"
   ]
  },
  {
   "cell_type": "code",
   "execution_count": 650,
   "metadata": {},
   "outputs": [
    {
     "name": "stderr",
     "output_type": "stream",
     "text": [
      "/home/grace/anaconda3/lib/python3.7/site-packages/pandas/core/frame.py:3997: SettingWithCopyWarning: \n",
      "A value is trying to be set on a copy of a slice from a DataFrame\n",
      "\n",
      "See the caveats in the documentation: https://pandas.pydata.org/pandas-docs/stable/user_guide/indexing.html#returning-a-view-versus-a-copy\n",
      "  errors=errors,\n"
     ]
    }
   ],
   "source": [
    "VEGA_out.drop(['No.', 'SMILES'], axis = 1, inplace = True)"
   ]
  },
  {
   "cell_type": "code",
   "execution_count": 652,
   "metadata": {},
   "outputs": [
    {
     "name": "stderr",
     "output_type": "stream",
     "text": [
      "/home/grace/anaconda3/lib/python3.7/site-packages/pandas/core/frame.py:4133: SettingWithCopyWarning: \n",
      "A value is trying to be set on a copy of a slice from a DataFrame\n",
      "\n",
      "See the caveats in the documentation: https://pandas.pydata.org/pandas-docs/stable/user_guide/indexing.html#returning-a-view-versus-a-copy\n",
      "  errors=errors,\n"
     ]
    }
   ],
   "source": [
    "VEGA_out.rename(columns = {'Id': 'dtxsid'}, inplace = True)"
   ]
  },
  {
   "cell_type": "code",
   "execution_count": 654,
   "metadata": {},
   "outputs": [],
   "source": [
    "VEGA_out.to_csv(processed_dat_dir+'VEGA_out_cleaned_100221.csv')"
   ]
  },
  {
   "cell_type": "code",
   "execution_count": 656,
   "metadata": {},
   "outputs": [
    {
     "data": {
      "text/plain": [
       "Index(['dtxsid', 'Mutagenicity (Ames test) CONSENSUS model - assessment',\n",
       "       'Mutagenicity (Ames test) CONSENSUS model - prediction',\n",
       "       'Mutagenicity (Ames test) model (CAESAR) - assessment',\n",
       "       'Mutagenicity (Ames test) model (CAESAR) - prediction',\n",
       "       'Mutagenicity (Ames test) model (SarPy/IRFMN) - assessment',\n",
       "       'Mutagenicity (Ames test) model (SarPy/IRFMN) - prediction',\n",
       "       'Mutagenicity (Ames test) model (ISS) - assessment',\n",
       "       'Mutagenicity (Ames test) model (ISS) - prediction',\n",
       "       'Mutagenicity (Ames test) model (KNN/Read-Across) - assessment',\n",
       "       'Mutagenicity (Ames test) model (KNN/Read-Across) - prediction',\n",
       "       'Chromosomal aberration model (CORAL) - assessment',\n",
       "       'Chromosomal aberration model (CORAL) - prediction',\n",
       "       'In vitro Micronucleus activity (IRFMN/VERMEER) - assessment',\n",
       "       'In vitro Micronucleus activity (IRFMN/VERMEER) - prediction',\n",
       "       'In vivo Micronucleus activity (IRFMN) - assessment',\n",
       "       'In vivo Micronucleus activity (IRFMN) - prediction'],\n",
       "      dtype='object')"
      ]
     },
     "execution_count": 656,
     "metadata": {},
     "output_type": "execute_result"
    }
   ],
   "source": [
    "VEGA_out.columns"
   ]
  },
  {
   "cell_type": "code",
   "execution_count": 664,
   "metadata": {},
   "outputs": [
    {
     "data": {
      "text/plain": [
       "['Mutagenicity (Ames test) CONSENSUS model - prediction',\n",
       " 'Mutagenicity (Ames test) model (CAESAR) - prediction',\n",
       " 'Mutagenicity (Ames test) model (SarPy/IRFMN) - prediction',\n",
       " 'Mutagenicity (Ames test) model (ISS) - prediction',\n",
       " 'Mutagenicity (Ames test) model (KNN/Read-Across) - prediction',\n",
       " 'Chromosomal aberration model (CORAL) - prediction',\n",
       " 'In vitro Micronucleus activity (IRFMN/VERMEER) - prediction',\n",
       " 'In vivo Micronucleus activity (IRFMN) - prediction']"
      ]
     },
     "execution_count": 664,
     "metadata": {},
     "output_type": "execute_result"
    }
   ],
   "source": [
    "[e for e in VEGA_out.columns if 'prediction'   in e]"
   ]
  },
  {
   "cell_type": "code",
   "execution_count": 667,
   "metadata": {},
   "outputs": [],
   "source": [
    "VEGA_pred = VEGA_out[['dtxsid']+[e for e in VEGA_out.columns if 'prediction'   in e]]"
   ]
  },
  {
   "cell_type": "code",
   "execution_count": 689,
   "metadata": {},
   "outputs": [],
   "source": [
    "poss_outcomes = []\n",
    "for e in VEGA_pred.columns.tolist()[1:]:\n",
    "    poss_outcomes.append(VEGA_pred[e].unique().tolist())"
   ]
  },
  {
   "cell_type": "code",
   "execution_count": 694,
   "metadata": {},
   "outputs": [
    {
     "data": {
      "text/plain": [
       "['Active',\n",
       " 'Possible NON-Mutagenic',\n",
       " 'Suspect Mutagenic',\n",
       " 'NON-Mutagenic',\n",
       " 'Inactive',\n",
       " 'Not predicted',\n",
       " 'Mutagenic',\n",
       " 'Non Predicted',\n",
       " 'Genotoxic',\n",
       " '-',\n",
       " 'NON-genotoxic']"
      ]
     },
     "execution_count": 694,
     "metadata": {},
     "output_type": "execute_result"
    }
   ],
   "source": [
    "list(set([i for e in poss_outcomes for i in e]))"
   ]
  },
  {
   "cell_type": "code",
   "execution_count": 696,
   "metadata": {},
   "outputs": [],
   "source": [
    "vega_calls = {'Active' : 1,\n",
    " 'Possible NON-Mutagenic': 0,\n",
    " 'Suspect Mutagenic': 1,\n",
    " 'NON-Mutagenic':0,\n",
    " 'Inactive':0,\n",
    " 'Not predicted': np.nan,\n",
    " 'Mutagenic':1,\n",
    " 'Non Predicted':np.nan,\n",
    " 'Genotoxic':1,\n",
    " '-':np.nan,\n",
    " 'NON-genotoxic':0}"
   ]
  },
  {
   "cell_type": "code",
   "execution_count": 700,
   "metadata": {},
   "outputs": [],
   "source": [
    "VEGA_pred_numeric = VEGA_pred.replace(vega_calls)"
   ]
  },
  {
   "cell_type": "code",
   "execution_count": 716,
   "metadata": {},
   "outputs": [
    {
     "data": {
      "text/plain": [
       "Index(['dtxsid', 'Mutagenicity (Ames test) CONSENSUS model - prediction',\n",
       "       'Mutagenicity (Ames test) model (CAESAR) - prediction',\n",
       "       'Mutagenicity (Ames test) model (SarPy/IRFMN) - prediction',\n",
       "       'Mutagenicity (Ames test) model (ISS) - prediction',\n",
       "       'Mutagenicity (Ames test) model (KNN/Read-Across) - prediction',\n",
       "       'Chromosomal aberration model (CORAL) - prediction',\n",
       "       'In vitro Micronucleus activity (IRFMN/VERMEER) - prediction',\n",
       "       'In vivo Micronucleus activity (IRFMN) - prediction'],\n",
       "      dtype='object')"
      ]
     },
     "execution_count": 716,
     "metadata": {},
     "output_type": "execute_result"
    }
   ],
   "source": [
    "VEGA_pred_numeric.columns"
   ]
  },
  {
   "cell_type": "code",
   "execution_count": 702,
   "metadata": {},
   "outputs": [],
   "source": [
    "VEGA_pred_numeric.to_csv(processed_dat_dir+'VEGA_pred_numeric_100221.csv')"
   ]
  },
  {
   "cell_type": "code",
   "execution_count": 724,
   "metadata": {},
   "outputs": [
    {
     "name": "stdout",
     "output_type": "stream",
     "text": [
      "<class 'pandas.core.frame.DataFrame'>\n",
      "RangeIndex: 7511 entries, 12 to 7522\n",
      "Data columns (total 9 columns):\n",
      " #   Column                                                         Non-Null Count  Dtype  \n",
      "---  ------                                                         --------------  -----  \n",
      " 0   dtxsid                                                         7511 non-null   object \n",
      " 1   Mutagenicity (Ames test) CONSENSUS model - prediction          7511 non-null   int64  \n",
      " 2   Mutagenicity (Ames test) model (CAESAR) - prediction           7510 non-null   float64\n",
      " 3   Mutagenicity (Ames test) model (SarPy/IRFMN) - prediction      7511 non-null   int64  \n",
      " 4   Mutagenicity (Ames test) model (ISS) - prediction              7511 non-null   int64  \n",
      " 5   Mutagenicity (Ames test) model (KNN/Read-Across) - prediction  7499 non-null   float64\n",
      " 6   Chromosomal aberration model (CORAL) - prediction              7511 non-null   int64  \n",
      " 7   In vitro Micronucleus activity (IRFMN/VERMEER) - prediction    5698 non-null   float64\n",
      " 8   In vivo Micronucleus activity (IRFMN) - prediction             6901 non-null   float64\n",
      "dtypes: float64(4), int64(4), object(1)\n",
      "memory usage: 528.2+ KB\n"
     ]
    }
   ],
   "source": [
    "VEGA_pred_numeric.info()"
   ]
  },
  {
   "cell_type": "code",
   "execution_count": null,
   "metadata": {},
   "outputs": [],
   "source": []
  },
  {
   "cell_type": "code",
   "execution_count": null,
   "metadata": {},
   "outputs": [],
   "source": []
  },
  {
   "cell_type": "code",
   "execution_count": null,
   "metadata": {},
   "outputs": [],
   "source": []
  },
  {
   "cell_type": "code",
   "execution_count": null,
   "metadata": {},
   "outputs": [],
   "source": []
  },
  {
   "cell_type": "code",
   "execution_count": null,
   "metadata": {},
   "outputs": [],
   "source": []
  },
  {
   "cell_type": "code",
   "execution_count": null,
   "metadata": {},
   "outputs": [],
   "source": []
  },
  {
   "cell_type": "code",
   "execution_count": 451,
   "metadata": {},
   "outputs": [],
   "source": []
  },
  {
   "cell_type": "markdown",
   "metadata": {},
   "source": [
    "But there are still 1299 missing ids. Need to go back to the Dashboard to figure out what the missing CAS and INCHI Keys are to determine the DTXSIDs"
   ]
  },
  {
   "cell_type": "code",
   "execution_count": 460,
   "metadata": {},
   "outputs": [],
   "source": [
    "TEST_out[TEST_out['ids'] == 'missing_id'].to_csv(interim_dat_dir+'mssing_ids_tst.csv')"
   ]
  },
  {
   "cell_type": "code",
   "execution_count": 458,
   "metadata": {},
   "outputs": [
    {
     "data": {
      "text/html": [
       "<div>\n",
       "<style scoped>\n",
       "    .dataframe tbody tr th:only-of-type {\n",
       "        vertical-align: middle;\n",
       "    }\n",
       "\n",
       "    .dataframe tbody tr th {\n",
       "        vertical-align: top;\n",
       "    }\n",
       "\n",
       "    .dataframe thead th {\n",
       "        text-align: right;\n",
       "    }\n",
       "</style>\n",
       "<table border=\"1\" class=\"dataframe\">\n",
       "  <thead>\n",
       "    <tr style=\"text-align: right;\">\n",
       "      <th></th>\n",
       "      <th>Index</th>\n",
       "      <th>ID</th>\n",
       "      <th>Query</th>\n",
       "      <th>SmilesRan</th>\n",
       "      <th>Error</th>\n",
       "      <th>Exp_Value</th>\n",
       "      <th>Pred_Value</th>\n",
       "      <th>Exp_Result</th>\n",
       "      <th>Pred_Result</th>\n",
       "      <th>ids</th>\n",
       "    </tr>\n",
       "  </thead>\n",
       "  <tbody>\n",
       "    <tr>\n",
       "      <th>7506</th>\n",
       "      <td>7507</td>\n",
       "      <td>C_MQNUWAMSQUIUHD-UHFFFAOYSA-N</td>\n",
       "      <td>MQNUWAMSQUIUHD-UHFFFAOYSA-N</td>\n",
       "      <td>O=S(=O)(O)C1=CC=CC=2C1=CC(N=NC=3C=C(OC)C(=CC3C...</td>\n",
       "      <td>NaN</td>\n",
       "      <td>NaN</td>\n",
       "      <td>0.23</td>\n",
       "      <td>NaN</td>\n",
       "      <td>Mutagenicity Negative</td>\n",
       "      <td>missing_id</td>\n",
       "    </tr>\n",
       "  </tbody>\n",
       "</table>\n",
       "</div>"
      ],
      "text/plain": [
       "      Index                             ID                        Query  \\\n",
       "7506   7507  C_MQNUWAMSQUIUHD-UHFFFAOYSA-N  MQNUWAMSQUIUHD-UHFFFAOYSA-N   \n",
       "\n",
       "                                              SmilesRan Error  Exp_Value  \\\n",
       "7506  O=S(=O)(O)C1=CC=CC=2C1=CC(N=NC=3C=C(OC)C(=CC3C...   NaN        NaN   \n",
       "\n",
       "      Pred_Value Exp_Result            Pred_Result         ids  \n",
       "7506        0.23        NaN  Mutagenicity Negative  missing_id  "
      ]
     },
     "execution_count": 458,
     "metadata": {},
     "output_type": "execute_result"
    }
   ],
   "source": [
    "TEST_out[TEST_out['Query'] == 'MQNUWAMSQUIUHD-UHFFFAOYSA-N']"
   ]
  },
  {
   "cell_type": "code",
   "execution_count": 466,
   "metadata": {},
   "outputs": [
    {
     "data": {
      "text/html": [
       "<div>\n",
       "<style scoped>\n",
       "    .dataframe tbody tr th:only-of-type {\n",
       "        vertical-align: middle;\n",
       "    }\n",
       "\n",
       "    .dataframe tbody tr th {\n",
       "        vertical-align: top;\n",
       "    }\n",
       "\n",
       "    .dataframe thead th {\n",
       "        text-align: right;\n",
       "    }\n",
       "</style>\n",
       "<table border=\"1\" class=\"dataframe\">\n",
       "  <thead>\n",
       "    <tr style=\"text-align: right;\">\n",
       "      <th></th>\n",
       "      <th>DTXSID</th>\n",
       "      <th>PREFERRED_NAME</th>\n",
       "      <th>CASRN</th>\n",
       "      <th>SMILES</th>\n",
       "      <th>QSAR_READY_SMILES</th>\n",
       "      <th>InChI Key</th>\n",
       "      <th>combined</th>\n",
       "    </tr>\n",
       "  </thead>\n",
       "  <tbody>\n",
       "  </tbody>\n",
       "</table>\n",
       "</div>"
      ],
      "text/plain": [
       "Empty DataFrame\n",
       "Columns: [DTXSID, PREFERRED_NAME, CASRN, SMILES, QSAR_READY_SMILES, InChI Key, combined]\n",
       "Index: []"
      ]
     },
     "execution_count": 466,
     "metadata": {},
     "output_type": "execute_result"
    }
   ],
   "source": [
    "genetox_wsmi_inchi[genetox_wsmi_inchi.DTXSID == 'DTXSID5022568']"
   ]
  },
  {
   "cell_type": "markdown",
   "metadata": {},
   "source": [
    "#### Trying to extract the WebTest predictions from the Log file due to Batch processing errors"
   ]
  },
  {
   "cell_type": "code",
   "execution_count": 34,
   "metadata": {},
   "outputs": [],
   "source": [
    "file1 = open(interim_dat_dir+'webtest.log', 'r')\n",
    "lines = file1.readlines()"
   ]
  },
  {
   "cell_type": "code",
   "execution_count": 58,
   "metadata": {},
   "outputs": [],
   "source": [
    "mylst = []\n",
    "for l in lines:\n",
    "    if 'DEBUG' in l:\n",
    "        continue\n",
    "    else:\n",
    "        mylst.append(l)"
   ]
  },
  {
   "cell_type": "code",
   "execution_count": 91,
   "metadata": {},
   "outputs": [
    {
     "data": {
      "text/plain": [
       "'[INFO ] 2021-02-09 11:18:50.161 [Thread-4] WebTEST4 - 1086-00-6\\t1.000\\t0.788\\t\\t11\\t125\\tMutagenicity\\n'"
      ]
     },
     "execution_count": 91,
     "metadata": {},
     "output_type": "execute_result"
    }
   ],
   "source": [
    "mylst[2]"
   ]
  },
  {
   "cell_type": "code",
   "execution_count": 64,
   "metadata": {},
   "outputs": [],
   "source": [
    "import re"
   ]
  },
  {
   "cell_type": "code",
   "execution_count": 119,
   "metadata": {},
   "outputs": [],
   "source": [
    "regex = re.compile('\\[INFO\\s{1}\\]\\s{1}\\d{4}-\\d{2}-\\d{2}\\s{1}\\d{2}:\\d{2}:\\d{2}\\.\\d{3}\\s{1}\\[Thread-4\\]\\s{1}WebTEST4\\s{1}-\\s{1}')"
   ]
  },
  {
   "cell_type": "code",
   "execution_count": 129,
   "metadata": {},
   "outputs": [],
   "source": [
    "def regex_strip(mainstring):\n",
    "    regex = re.compile('\\[INFO\\s{1}\\]\\s{1}\\d{4}-\\d{2}-\\d{2}\\s{1}\\d{2}:\\d{2}:\\d{2}\\.\\d{3}\\s{1}\\[Thread-4\\]\\s{1}WebTEST4\\s{1}-\\s{1}')\n",
    "    return regex.sub('', mainstring)"
   ]
  },
  {
   "cell_type": "code",
   "execution_count": 131,
   "metadata": {},
   "outputs": [
    {
     "data": {
      "text/plain": [
       "'1086-00-6\\t1.000\\t0.788\\t\\t11\\t125\\tMutagenicity\\n'"
      ]
     },
     "execution_count": 131,
     "metadata": {},
     "output_type": "execute_result"
    }
   ],
   "source": [
    "regex_strip('[INFO ] 2021-02-09 11:18:50.161 [Thread-4] WebTEST4 - 1086-00-6\\t1.000\\t0.788\\t\\t11\\t125\\tMutagenicity\\n')"
   ]
  },
  {
   "cell_type": "code",
   "execution_count": 132,
   "metadata": {},
   "outputs": [],
   "source": [
    "new_lst = [regex_strip(e) for e in mylst]"
   ]
  },
  {
   "cell_type": "code",
   "execution_count": 134,
   "metadata": {},
   "outputs": [
    {
     "data": {
      "text/plain": [
       "\"Calculating '[Mutagenicity]' using '[Consensus]' methods...\\n\""
      ]
     },
     "execution_count": 134,
     "metadata": {},
     "output_type": "execute_result"
    }
   ],
   "source": [
    "new_lst[1]"
   ]
  },
  {
   "cell_type": "code",
   "execution_count": 135,
   "metadata": {},
   "outputs": [],
   "source": [
    "def regex_strip2(mainstring):\n",
    "    regex2 = re.compile('Calculating\\s{1}\\'\\[Mutagenicity\\]\\'\\s{1}using\\s{1}\\'\\[Consensus\\]\\'\\s{1}methods')\n",
    "    return regex2.sub('', mainstring)"
   ]
  },
  {
   "cell_type": "code",
   "execution_count": 137,
   "metadata": {},
   "outputs": [],
   "source": [
    "new_lst2 = [regex_strip2(e) for e in new_lst]"
   ]
  },
  {
   "cell_type": "code",
   "execution_count": 146,
   "metadata": {},
   "outputs": [],
   "source": [
    "new_lst3 = [e.split('\\n') for e in new_lst2]"
   ]
  },
  {
   "cell_type": "code",
   "execution_count": 152,
   "metadata": {},
   "outputs": [
    {
     "data": {
      "text/plain": [
       "[]"
      ]
     },
     "execution_count": 152,
     "metadata": {},
     "output_type": "execute_result"
    }
   ],
   "source": [
    "[e for e in new_lst3 if not ['...', '']]"
   ]
  },
  {
   "cell_type": "code",
   "execution_count": 159,
   "metadata": {},
   "outputs": [],
   "source": [
    "\n",
    "lst_5 = [e for e in new_lst if '...' not in e]\n",
    "        "
   ]
  },
  {
   "cell_type": "code",
   "execution_count": 163,
   "metadata": {},
   "outputs": [],
   "source": [
    "lst_5 = [e.split('\\n') for e in lst_5][1:]"
   ]
  },
  {
   "cell_type": "code",
   "execution_count": 189,
   "metadata": {},
   "outputs": [],
   "source": [
    "new = []\n",
    "for l in lst_5:\n",
    "    new.append([x.split(',') for x in l])\n"
   ]
  },
  {
   "cell_type": "code",
   "execution_count": 192,
   "metadata": {},
   "outputs": [
    {
     "data": {
      "text/plain": [
       "['1086-00-6\\t1.000\\t0.788\\t\\t11\\t125\\tMutagenicity']"
      ]
     },
     "execution_count": 192,
     "metadata": {},
     "output_type": "execute_result"
    }
   ],
   "source": [
    "new[0][0]"
   ]
  },
  {
   "cell_type": "code",
   "execution_count": 199,
   "metadata": {},
   "outputs": [],
   "source": [
    "test_df = pd.DataFrame([e[0].split('\\t') for e in lst_5])"
   ]
  },
  {
   "cell_type": "code",
   "execution_count": 203,
   "metadata": {},
   "outputs": [],
   "source": [
    "test_df.columns = ['CAS', 'Expt', 'Pred', 0,1,2,3]"
   ]
  },
  {
   "cell_type": "code",
   "execution_count": 207,
   "metadata": {},
   "outputs": [],
   "source": [
    "test_df.drop([0,1,2,3], axis = 1, inplace = True)"
   ]
  },
  {
   "cell_type": "code",
   "execution_count": 213,
   "metadata": {},
   "outputs": [],
   "source": [
    "test_df = test_df.drop_duplicates(keep = 'first')"
   ]
  },
  {
   "cell_type": "code",
   "execution_count": 225,
   "metadata": {},
   "outputs": [],
   "source": [
    "missing = test_df[test_df['CAS'].str.contains('ERROR')]['CAS'].tolist()"
   ]
  },
  {
   "cell_type": "code",
   "execution_count": 226,
   "metadata": {},
   "outputs": [
    {
     "data": {
      "text/plain": [
       "'[ERROR] 2021-02-09 11:19:01.851 [Thread-4] WebTEST4 - Error processing record with CAS 37574-48-4: FindPaths'"
      ]
     },
     "execution_count": 226,
     "metadata": {},
     "output_type": "execute_result"
    }
   ],
   "source": [
    "missing[0]"
   ]
  },
  {
   "cell_type": "code",
   "execution_count": 227,
   "metadata": {},
   "outputs": [],
   "source": [
    "def regex_strip3(mainstring):\n",
    "    regex3 = re.compile('\\[ERROR\\]\\s{1}\\d{4}-\\d{2}-\\d{2}\\s{1}\\d{2}:\\d{2}:\\d{2}\\.\\d{3}\\s{1}\\[Thread-4\\]\\s{1}WebTEST4\\s{1}-\\s{1}Error processing record with CAS\\s{1}')\n",
    "    return regex3.sub('', mainstring)"
   ]
  },
  {
   "cell_type": "code",
   "execution_count": 229,
   "metadata": {},
   "outputs": [],
   "source": [
    "missing = [regex_strip3(e) for e in missing]"
   ]
  },
  {
   "cell_type": "code",
   "execution_count": 230,
   "metadata": {},
   "outputs": [
    {
     "data": {
      "text/plain": [
       "'37574-48-4: FindPaths'"
      ]
     },
     "execution_count": 230,
     "metadata": {},
     "output_type": "execute_result"
    }
   ],
   "source": [
    "missing[0]"
   ]
  },
  {
   "cell_type": "code",
   "execution_count": 231,
   "metadata": {},
   "outputs": [],
   "source": [
    "def regex_strip4(mainstring):\n",
    "    regex4 = re.compile('\\:\\s{1}FindPaths')\n",
    "    return regex4.sub('', mainstring)"
   ]
  },
  {
   "cell_type": "code",
   "execution_count": 233,
   "metadata": {},
   "outputs": [],
   "source": [
    "missing_ids = [regex_strip4(e) for e in missing]"
   ]
  },
  {
   "cell_type": "code",
   "execution_count": 218,
   "metadata": {},
   "outputs": [],
   "source": [
    "TEST_df = pd.merge(gentox_wsmi, test_df, left_on = 'CASRN', right_on = 'CAS', how = 'left')"
   ]
  },
  {
   "cell_type": "code",
   "execution_count": 249,
   "metadata": {},
   "outputs": [
    {
     "data": {
      "text/plain": [
       "'NOCAS_859101'"
      ]
     },
     "execution_count": 249,
     "metadata": {},
     "output_type": "execute_result"
    }
   ],
   "source": [
    "missing_ids[3]"
   ]
  },
  {
   "cell_type": "code",
   "execution_count": 242,
   "metadata": {},
   "outputs": [],
   "source": [
    "TEST_df['error'] = TEST_df['CASRN'].apply(lambda x: 1 if x in missing_ids else 0)"
   ]
  },
  {
   "cell_type": "code",
   "execution_count": 255,
   "metadata": {},
   "outputs": [
    {
     "data": {
      "text/html": [
       "<div>\n",
       "<style scoped>\n",
       "    .dataframe tbody tr th:only-of-type {\n",
       "        vertical-align: middle;\n",
       "    }\n",
       "\n",
       "    .dataframe tbody tr th {\n",
       "        vertical-align: top;\n",
       "    }\n",
       "\n",
       "    .dataframe thead th {\n",
       "        text-align: right;\n",
       "    }\n",
       "</style>\n",
       "<table border=\"1\" class=\"dataframe\">\n",
       "  <thead>\n",
       "    <tr style=\"text-align: right;\">\n",
       "      <th></th>\n",
       "      <th>DTXSID</th>\n",
       "      <th>PREFERRED_NAME</th>\n",
       "      <th>CASRN</th>\n",
       "      <th>SMILES</th>\n",
       "      <th>QSAR_READY_SMILES</th>\n",
       "      <th>CAS</th>\n",
       "      <th>Expt</th>\n",
       "      <th>Pred</th>\n",
       "      <th>error</th>\n",
       "    </tr>\n",
       "  </thead>\n",
       "  <tbody>\n",
       "    <tr>\n",
       "      <th>34</th>\n",
       "      <td>DTXSID00191008</td>\n",
       "      <td>4-Hydroxybenzo(a)pyrene</td>\n",
       "      <td>37574-48-4</td>\n",
       "      <td>OC1=CC2=CC3=CC=CC=C3C3=C2C2=C(C=CC=C12)C=C3</td>\n",
       "      <td>OC1=CC2=CC3=CC=CC=C3C3=C2C2=C(C=CC=C12)C=C3</td>\n",
       "      <td>NaN</td>\n",
       "      <td>NaN</td>\n",
       "      <td>NaN</td>\n",
       "      <td>1</td>\n",
       "    </tr>\n",
       "    <tr>\n",
       "      <th>66</th>\n",
       "      <td>DTXSID0020365</td>\n",
       "      <td>Cyclosporin A</td>\n",
       "      <td>59865-13-3</td>\n",
       "      <td>[H][C@@]1([C@H](O)[C@H](C)C\\C=C\\C)N(C)C(=O)[C@...</td>\n",
       "      <td>CCC1NC(=O)C(C(O)C(C)CC=CC)N(C)C(=O)C(C(C)C)N(C...</td>\n",
       "      <td>NaN</td>\n",
       "      <td>NaN</td>\n",
       "      <td>NaN</td>\n",
       "      <td>1</td>\n",
       "    </tr>\n",
       "    <tr>\n",
       "      <th>92</th>\n",
       "      <td>DTXSID0020650</td>\n",
       "      <td>Gallic acid</td>\n",
       "      <td>149-91-7</td>\n",
       "      <td>OC(=O)C1=CC(O)=C(O)C(O)=C1</td>\n",
       "      <td>OC(=O)C1=CC(O)=C(O)C(O)=C1</td>\n",
       "      <td>149-91-7</td>\n",
       "      <td>0.000</td>\n",
       "      <td>0.143</td>\n",
       "      <td>1</td>\n",
       "    </tr>\n",
       "    <tr>\n",
       "      <th>116</th>\n",
       "      <td>DTXSID00209617</td>\n",
       "      <td>Benz(a)anthracene, 1,7,12-trimethyl-</td>\n",
       "      <td>60786-51-8</td>\n",
       "      <td>CC1=C2C(C=CC3=C(C)C4=CC=CC=C4C(C)=C23)=CC=C1</td>\n",
       "      <td>CC1=C2C(C=CC3=C(C)C4=CC=CC=C4C(C)=C23)=CC=C1</td>\n",
       "      <td>60786-51-8</td>\n",
       "      <td>N/A</td>\n",
       "      <td>0.397</td>\n",
       "      <td>1</td>\n",
       "    </tr>\n",
       "    <tr>\n",
       "      <th>230</th>\n",
       "      <td>DTXSID0023955</td>\n",
       "      <td>Chlorimuron-ethyl</td>\n",
       "      <td>90982-32-4</td>\n",
       "      <td>CCOC(=O)C1=CC=CC=C1S(=O)(=O)NC(=O)NC1=NC(OC)=C...</td>\n",
       "      <td>CCOC(=O)C1=CC=CC=C1S(=O)(=O)NC(=O)NC1=NC(OC)=C...</td>\n",
       "      <td>90982-32-4</td>\n",
       "      <td>N/A</td>\n",
       "      <td>0.301</td>\n",
       "      <td>1</td>\n",
       "    </tr>\n",
       "    <tr>\n",
       "      <th>...</th>\n",
       "      <td>...</td>\n",
       "      <td>...</td>\n",
       "      <td>...</td>\n",
       "      <td>...</td>\n",
       "      <td>...</td>\n",
       "      <td>...</td>\n",
       "      <td>...</td>\n",
       "      <td>...</td>\n",
       "      <td>...</td>\n",
       "    </tr>\n",
       "    <tr>\n",
       "      <th>7438</th>\n",
       "      <td>DTXSID90863747</td>\n",
       "      <td>Butanamide, 2,2'-[(3,3'-dichloro[1,1'-biphenyl...</td>\n",
       "      <td>6358-37-8</td>\n",
       "      <td>CC(=O)C(N=NC1=CC=C(C=C1Cl)C1=CC(Cl)=C(C=C1)N=N...</td>\n",
       "      <td>CC(=O)C(N=NC1=CC=C(C=C1Cl)C1=CC(Cl)=C(C=C1)N=N...</td>\n",
       "      <td>6358-37-8</td>\n",
       "      <td>N/A</td>\n",
       "      <td>0.212</td>\n",
       "      <td>1</td>\n",
       "    </tr>\n",
       "    <tr>\n",
       "      <th>7445</th>\n",
       "      <td>DTXSID90867922</td>\n",
       "      <td>Spiro[isobenzofuran-1(3H),9'-[9H]xanthen]-3-on...</td>\n",
       "      <td>70516-41-5</td>\n",
       "      <td>CCN(CCC(C)C)C1=CC=C2C(OC3=C(C=C(NC4=CC=CC=C4)C...</td>\n",
       "      <td>CCN(CCC(C)C)C1=CC=C2C(OC3=C(C=C(NC4=CC=CC=C4)C...</td>\n",
       "      <td>70516-41-5</td>\n",
       "      <td>N/A</td>\n",
       "      <td>0.108</td>\n",
       "      <td>1</td>\n",
       "    </tr>\n",
       "    <tr>\n",
       "      <th>7448</th>\n",
       "      <td>DTXSID90872819</td>\n",
       "      <td>1,6-Dinitropyrene</td>\n",
       "      <td>42397-64-8</td>\n",
       "      <td>[O-][N+](=O)C1=CC=C2C=CC3=C(C=CC4=CC=C1C2=C34)...</td>\n",
       "      <td>[O-][N+](=O)C1=CC=C2C=CC3=C(C=CC4=CC=C1C2=C34)...</td>\n",
       "      <td>42397-64-8</td>\n",
       "      <td>1.000</td>\n",
       "      <td>0.859</td>\n",
       "      <td>1</td>\n",
       "    </tr>\n",
       "    <tr>\n",
       "      <th>7450</th>\n",
       "      <td>DTXSID90874954</td>\n",
       "      <td>TENULIN</td>\n",
       "      <td>19202-92-7</td>\n",
       "      <td>CC1CC2OC(=O)C3(C)C2C(OC3(C)O)C2(C)C1C=CC2=O</td>\n",
       "      <td>CC1CC2OC(=O)C3(C)C2C(OC3(C)O)C2(C)C1C=CC2=O</td>\n",
       "      <td>19202-92-7</td>\n",
       "      <td>0.000</td>\n",
       "      <td>0.150</td>\n",
       "      <td>1</td>\n",
       "    </tr>\n",
       "    <tr>\n",
       "      <th>7490</th>\n",
       "      <td>DTXSID90888612</td>\n",
       "      <td>2-Oxetanone, 3-eicosyl-4-heneicosylidene-</td>\n",
       "      <td>83708-14-9</td>\n",
       "      <td>CCCCCCCCCCCCCCCCCCCCC=C1OC(=O)C1CCCCCCCCCCCCCC...</td>\n",
       "      <td>CCCCCCCCCCCCCCCCCCCCC=C1OC(=O)C1CCCCCCCCCCCCCC...</td>\n",
       "      <td>83708-14-9</td>\n",
       "      <td>N/A</td>\n",
       "      <td>0.059</td>\n",
       "      <td>1</td>\n",
       "    </tr>\n",
       "  </tbody>\n",
       "</table>\n",
       "<p>223 rows × 9 columns</p>\n",
       "</div>"
      ],
      "text/plain": [
       "              DTXSID                                     PREFERRED_NAME  \\\n",
       "34    DTXSID00191008                            4-Hydroxybenzo(a)pyrene   \n",
       "66     DTXSID0020365                                      Cyclosporin A   \n",
       "92     DTXSID0020650                                        Gallic acid   \n",
       "116   DTXSID00209617               Benz(a)anthracene, 1,7,12-trimethyl-   \n",
       "230    DTXSID0023955                                  Chlorimuron-ethyl   \n",
       "...              ...                                                ...   \n",
       "7438  DTXSID90863747  Butanamide, 2,2'-[(3,3'-dichloro[1,1'-biphenyl...   \n",
       "7445  DTXSID90867922  Spiro[isobenzofuran-1(3H),9'-[9H]xanthen]-3-on...   \n",
       "7448  DTXSID90872819                                  1,6-Dinitropyrene   \n",
       "7450  DTXSID90874954                                            TENULIN   \n",
       "7490  DTXSID90888612          2-Oxetanone, 3-eicosyl-4-heneicosylidene-   \n",
       "\n",
       "           CASRN                                             SMILES  \\\n",
       "34    37574-48-4        OC1=CC2=CC3=CC=CC=C3C3=C2C2=C(C=CC=C12)C=C3   \n",
       "66    59865-13-3  [H][C@@]1([C@H](O)[C@H](C)C\\C=C\\C)N(C)C(=O)[C@...   \n",
       "92      149-91-7                         OC(=O)C1=CC(O)=C(O)C(O)=C1   \n",
       "116   60786-51-8       CC1=C2C(C=CC3=C(C)C4=CC=CC=C4C(C)=C23)=CC=C1   \n",
       "230   90982-32-4  CCOC(=O)C1=CC=CC=C1S(=O)(=O)NC(=O)NC1=NC(OC)=C...   \n",
       "...          ...                                                ...   \n",
       "7438   6358-37-8  CC(=O)C(N=NC1=CC=C(C=C1Cl)C1=CC(Cl)=C(C=C1)N=N...   \n",
       "7445  70516-41-5  CCN(CCC(C)C)C1=CC=C2C(OC3=C(C=C(NC4=CC=CC=C4)C...   \n",
       "7448  42397-64-8  [O-][N+](=O)C1=CC=C2C=CC3=C(C=CC4=CC=C1C2=C34)...   \n",
       "7450  19202-92-7        CC1CC2OC(=O)C3(C)C2C(OC3(C)O)C2(C)C1C=CC2=O   \n",
       "7490  83708-14-9  CCCCCCCCCCCCCCCCCCCCC=C1OC(=O)C1CCCCCCCCCCCCCC...   \n",
       "\n",
       "                                      QSAR_READY_SMILES         CAS   Expt  \\\n",
       "34          OC1=CC2=CC3=CC=CC=C3C3=C2C2=C(C=CC=C12)C=C3         NaN    NaN   \n",
       "66    CCC1NC(=O)C(C(O)C(C)CC=CC)N(C)C(=O)C(C(C)C)N(C...         NaN    NaN   \n",
       "92                           OC(=O)C1=CC(O)=C(O)C(O)=C1    149-91-7  0.000   \n",
       "116        CC1=C2C(C=CC3=C(C)C4=CC=CC=C4C(C)=C23)=CC=C1  60786-51-8    N/A   \n",
       "230   CCOC(=O)C1=CC=CC=C1S(=O)(=O)NC(=O)NC1=NC(OC)=C...  90982-32-4    N/A   \n",
       "...                                                 ...         ...    ...   \n",
       "7438  CC(=O)C(N=NC1=CC=C(C=C1Cl)C1=CC(Cl)=C(C=C1)N=N...   6358-37-8    N/A   \n",
       "7445  CCN(CCC(C)C)C1=CC=C2C(OC3=C(C=C(NC4=CC=CC=C4)C...  70516-41-5    N/A   \n",
       "7448  [O-][N+](=O)C1=CC=C2C=CC3=C(C=CC4=CC=C1C2=C34)...  42397-64-8  1.000   \n",
       "7450        CC1CC2OC(=O)C3(C)C2C(OC3(C)O)C2(C)C1C=CC2=O  19202-92-7  0.000   \n",
       "7490  CCCCCCCCCCCCCCCCCCCCC=C1OC(=O)C1CCCCCCCCCCCCCC...  83708-14-9    N/A   \n",
       "\n",
       "       Pred  error  \n",
       "34      NaN      1  \n",
       "66      NaN      1  \n",
       "92    0.143      1  \n",
       "116   0.397      1  \n",
       "230   0.301      1  \n",
       "...     ...    ...  \n",
       "7438  0.212      1  \n",
       "7445  0.108      1  \n",
       "7448  0.859      1  \n",
       "7450  0.150      1  \n",
       "7490  0.059      1  \n",
       "\n",
       "[223 rows x 9 columns]"
      ]
     },
     "execution_count": 255,
     "metadata": {},
     "output_type": "execute_result"
    }
   ],
   "source": [
    "TEST_df[TEST_df['error'] ==1 ]"
   ]
  },
  {
   "cell_type": "code",
   "execution_count": null,
   "metadata": {},
   "outputs": [],
   "source": []
  }
 ],
 "metadata": {
  "kernelspec": {
   "display_name": "Python 3",
   "language": "python",
   "name": "python3"
  },
  "language_info": {
   "codemirror_mode": {
    "name": "ipython",
    "version": 3
   },
   "file_extension": ".py",
   "mimetype": "text/x-python",
   "name": "python",
   "nbconvert_exporter": "python",
   "pygments_lexer": "ipython3",
   "version": "3.7.6"
  }
 },
 "nbformat": 4,
 "nbformat_minor": 4
}
