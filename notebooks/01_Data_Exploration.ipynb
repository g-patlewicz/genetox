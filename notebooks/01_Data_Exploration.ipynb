{
 "cells": [
  {
   "cell_type": "markdown",
   "metadata": {},
   "source": [
    "#### Exploration of datasets to qualify the number of chemicals studied in the subsections of the Methods"
   ]
  },
  {
   "cell_type": "markdown",
   "metadata": {},
   "source": [
    "### Based on original dataset - deprecated based on updated dataset and re-analysis"
   ]
  },
  {
   "cell_type": "code",
   "execution_count": 1,
   "metadata": {},
   "outputs": [],
   "source": [
    "import numpy as np\n",
    "import pandas as pd\n",
    "import matplotlib.pyplot as plt\n",
    "import seaborn as sns\n",
    "%matplotlib inline"
   ]
  },
  {
   "cell_type": "code",
   "execution_count": 2,
   "metadata": {},
   "outputs": [],
   "source": [
    "raw_dat_dir = '/home/grace/Documents/python/genetox/data/raw/'\n",
    "processed_dat_dir = '/home/grace/Documents/python/genetox/data/processed/'\n",
    "interim_dat_dir = '/home/grace/Documents/python/genetox/data/interim/'\n",
    "figures_dir = '/home/grace/Documents/python/genetox/reports/figures/'"
   ]
  },
  {
   "cell_type": "markdown",
   "metadata": {},
   "source": [
    "#### Supplementary data provided"
   ]
  },
  {
   "cell_type": "code",
   "execution_count": 4,
   "metadata": {},
   "outputs": [],
   "source": [
    "xls = pd.ExcelFile(raw_dat_dir+'Chemicals&AssayData.xlsx')"
   ]
  },
  {
   "cell_type": "code",
   "execution_count": 5,
   "metadata": {},
   "outputs": [
    {
     "data": {
      "text/plain": [
       "['all_genetox_exptdata']"
      ]
     },
     "execution_count": 5,
     "metadata": {},
     "output_type": "execute_result"
    }
   ],
   "source": [
    "xls.sheet_names"
   ]
  },
  {
   "cell_type": "code",
   "execution_count": 6,
   "metadata": {},
   "outputs": [],
   "source": [
    "genetox = xls.parse('all_genetox_exptdata')"
   ]
  },
  {
   "cell_type": "code",
   "execution_count": 7,
   "metadata": {},
   "outputs": [
    {
     "data": {
      "text/plain": [
       "(46557, 17)"
      ]
     },
     "execution_count": 7,
     "metadata": {},
     "output_type": "execute_result"
    }
   ],
   "source": [
    "genetox.shape"
   ]
  },
  {
   "cell_type": "code",
   "execution_count": 8,
   "metadata": {},
   "outputs": [
    {
     "data": {
      "text/html": [
       "<div>\n",
       "<style scoped>\n",
       "    .dataframe tbody tr th:only-of-type {\n",
       "        vertical-align: middle;\n",
       "    }\n",
       "\n",
       "    .dataframe tbody tr th {\n",
       "        vertical-align: top;\n",
       "    }\n",
       "\n",
       "    .dataframe thead th {\n",
       "        text-align: right;\n",
       "    }\n",
       "</style>\n",
       "<table border=\"1\" class=\"dataframe\">\n",
       "  <thead>\n",
       "    <tr style=\"text-align: right;\">\n",
       "      <th></th>\n",
       "      <th>Unnamed: 0</th>\n",
       "      <th>dsstox_substance_id</th>\n",
       "      <th>name</th>\n",
       "      <th>casrn</th>\n",
       "      <th>assay_result</th>\n",
       "      <th>assay_type</th>\n",
       "      <th>assay_type_standard</th>\n",
       "      <th>reference</th>\n",
       "      <th>source</th>\n",
       "      <th>species</th>\n",
       "      <th>strain</th>\n",
       "      <th>year</th>\n",
       "      <th>standard_assay_type</th>\n",
       "      <th>assay_result_std</th>\n",
       "      <th>assay_outcome</th>\n",
       "      <th>aggregate_study_type</th>\n",
       "      <th>simple_aggregate</th>\n",
       "    </tr>\n",
       "  </thead>\n",
       "  <tbody>\n",
       "    <tr>\n",
       "      <th>0</th>\n",
       "      <td>0</td>\n",
       "      <td>DTXSID5039224</td>\n",
       "      <td>ACETALDEHYDE (Preferred Term); ACETALDEHYDE (I...</td>\n",
       "      <td>75-07-0</td>\n",
       "      <td>positive</td>\n",
       "      <td>In Vivo Non-mammalian Mutagenesis</td>\n",
       "      <td>mutagenesis (in vivo)</td>\n",
       "      <td>ENVIRON MUTAGEN 7:677-702</td>\n",
       "      <td>COSMOS</td>\n",
       "      <td>DROSOPHILA MELANOGASTER</td>\n",
       "      <td>NaN</td>\n",
       "      <td>1985.0</td>\n",
       "      <td>In Vivo Non-mammalian Mutagenesis</td>\n",
       "      <td>positive</td>\n",
       "      <td>1</td>\n",
       "      <td>other</td>\n",
       "      <td>other</td>\n",
       "    </tr>\n",
       "    <tr>\n",
       "      <th>1</th>\n",
       "      <td>5</td>\n",
       "      <td>DTXSID5020106</td>\n",
       "      <td>ASCORBIC ACID (Preferred Term); ASCORBIC ACID ...</td>\n",
       "      <td>50-81-7</td>\n",
       "      <td>positive</td>\n",
       "      <td>In Vivo Non-mammalian Mutagenesis</td>\n",
       "      <td>mutagenesis (in vivo)</td>\n",
       "      <td>MUTAT RES 242:169-180</td>\n",
       "      <td>COSMOS</td>\n",
       "      <td>DROSOPHILA MELANOGASTER</td>\n",
       "      <td>NaN</td>\n",
       "      <td>1990.0</td>\n",
       "      <td>In Vivo Non-mammalian Mutagenesis</td>\n",
       "      <td>positive</td>\n",
       "      <td>1</td>\n",
       "      <td>other</td>\n",
       "      <td>other</td>\n",
       "    </tr>\n",
       "    <tr>\n",
       "      <th>2</th>\n",
       "      <td>6</td>\n",
       "      <td>DTXSID8039241</td>\n",
       "      <td>BENZALDEHYDE (INCI); BENZALDEHYDE (Preferred T...</td>\n",
       "      <td>100-52-7</td>\n",
       "      <td>positive</td>\n",
       "      <td>In Vivo Non-mammalian Mutagenesis</td>\n",
       "      <td>mutagenesis (in vivo)</td>\n",
       "      <td>ENVIRON MUTAGEN 7:677-702</td>\n",
       "      <td>COSMOS</td>\n",
       "      <td>DROSOPHILA MELANOGASTER</td>\n",
       "      <td>NaN</td>\n",
       "      <td>1985.0</td>\n",
       "      <td>In Vivo Non-mammalian Mutagenesis</td>\n",
       "      <td>positive</td>\n",
       "      <td>1</td>\n",
       "      <td>other</td>\n",
       "      <td>other</td>\n",
       "    </tr>\n",
       "    <tr>\n",
       "      <th>3</th>\n",
       "      <td>7</td>\n",
       "      <td>DTXSID1020144</td>\n",
       "      <td>BENZOIN (INCI); BENZOIN (Preferred Term)</td>\n",
       "      <td>119-53-9</td>\n",
       "      <td>positive</td>\n",
       "      <td>In Vivo Non-mammalian Mutagenesis</td>\n",
       "      <td>mutagenesis (in vivo)</td>\n",
       "      <td>PROG MUTAT RES 5:229-234</td>\n",
       "      <td>COSMOS</td>\n",
       "      <td>SACCHAROMYCES CEREVISIAE</td>\n",
       "      <td>NaN</td>\n",
       "      <td>1985.0</td>\n",
       "      <td>In Vivo Non-mammalian Mutagenesis</td>\n",
       "      <td>positive</td>\n",
       "      <td>1</td>\n",
       "      <td>other</td>\n",
       "      <td>other</td>\n",
       "    </tr>\n",
       "    <tr>\n",
       "      <th>4</th>\n",
       "      <td>8</td>\n",
       "      <td>DTXSID1020144</td>\n",
       "      <td>BENZOIN (INCI); BENZOIN (Preferred Term)</td>\n",
       "      <td>119-53-9</td>\n",
       "      <td>positive</td>\n",
       "      <td>In Vivo Non-mammalian Mutagenesis</td>\n",
       "      <td>mutagenesis (in vivo)</td>\n",
       "      <td>PROG MUTAT RES 5:243-255</td>\n",
       "      <td>COSMOS</td>\n",
       "      <td>SACCHAROMYCES CEREVISIAE</td>\n",
       "      <td>NaN</td>\n",
       "      <td>1985.0</td>\n",
       "      <td>In Vivo Non-mammalian Mutagenesis</td>\n",
       "      <td>positive</td>\n",
       "      <td>1</td>\n",
       "      <td>other</td>\n",
       "      <td>other</td>\n",
       "    </tr>\n",
       "  </tbody>\n",
       "</table>\n",
       "</div>"
      ],
      "text/plain": [
       "   Unnamed: 0 dsstox_substance_id  \\\n",
       "0           0       DTXSID5039224   \n",
       "1           5       DTXSID5020106   \n",
       "2           6       DTXSID8039241   \n",
       "3           7       DTXSID1020144   \n",
       "4           8       DTXSID1020144   \n",
       "\n",
       "                                                name     casrn assay_result  \\\n",
       "0  ACETALDEHYDE (Preferred Term); ACETALDEHYDE (I...   75-07-0     positive   \n",
       "1  ASCORBIC ACID (Preferred Term); ASCORBIC ACID ...   50-81-7     positive   \n",
       "2  BENZALDEHYDE (INCI); BENZALDEHYDE (Preferred T...  100-52-7     positive   \n",
       "3           BENZOIN (INCI); BENZOIN (Preferred Term)  119-53-9     positive   \n",
       "4           BENZOIN (INCI); BENZOIN (Preferred Term)  119-53-9     positive   \n",
       "\n",
       "                          assay_type    assay_type_standard  \\\n",
       "0  In Vivo Non-mammalian Mutagenesis  mutagenesis (in vivo)   \n",
       "1  In Vivo Non-mammalian Mutagenesis  mutagenesis (in vivo)   \n",
       "2  In Vivo Non-mammalian Mutagenesis  mutagenesis (in vivo)   \n",
       "3  In Vivo Non-mammalian Mutagenesis  mutagenesis (in vivo)   \n",
       "4  In Vivo Non-mammalian Mutagenesis  mutagenesis (in vivo)   \n",
       "\n",
       "                   reference  source                   species strain    year  \\\n",
       "0  ENVIRON MUTAGEN 7:677-702  COSMOS   DROSOPHILA MELANOGASTER    NaN  1985.0   \n",
       "1      MUTAT RES 242:169-180  COSMOS   DROSOPHILA MELANOGASTER    NaN  1990.0   \n",
       "2  ENVIRON MUTAGEN 7:677-702  COSMOS   DROSOPHILA MELANOGASTER    NaN  1985.0   \n",
       "3   PROG MUTAT RES 5:229-234  COSMOS  SACCHAROMYCES CEREVISIAE    NaN  1985.0   \n",
       "4   PROG MUTAT RES 5:243-255  COSMOS  SACCHAROMYCES CEREVISIAE    NaN  1985.0   \n",
       "\n",
       "                 standard_assay_type assay_result_std  assay_outcome  \\\n",
       "0  In Vivo Non-mammalian Mutagenesis         positive              1   \n",
       "1  In Vivo Non-mammalian Mutagenesis         positive              1   \n",
       "2  In Vivo Non-mammalian Mutagenesis         positive              1   \n",
       "3  In Vivo Non-mammalian Mutagenesis         positive              1   \n",
       "4  In Vivo Non-mammalian Mutagenesis         positive              1   \n",
       "\n",
       "  aggregate_study_type simple_aggregate  \n",
       "0                other            other  \n",
       "1                other            other  \n",
       "2                other            other  \n",
       "3                other            other  \n",
       "4                other            other  "
      ]
     },
     "execution_count": 8,
     "metadata": {},
     "output_type": "execute_result"
    }
   ],
   "source": [
    "genetox.head()"
   ]
  },
  {
   "cell_type": "markdown",
   "metadata": {},
   "source": [
    "#### Inspecting unique substances by different identifiers, CAS and DTXSID"
   ]
  },
  {
   "cell_type": "code",
   "execution_count": 9,
   "metadata": {},
   "outputs": [
    {
     "data": {
      "text/plain": [
       "6023"
      ]
     },
     "execution_count": 9,
     "metadata": {},
     "output_type": "execute_result"
    }
   ],
   "source": [
    "genetox.dsstox_substance_id.nunique()\n"
   ]
  },
  {
   "cell_type": "code",
   "execution_count": 11,
   "metadata": {},
   "outputs": [
    {
     "data": {
      "text/plain": [
       "7436"
      ]
     },
     "execution_count": 11,
     "metadata": {},
     "output_type": "execute_result"
    }
   ],
   "source": [
    "genetox.casrn.nunique()"
   ]
  },
  {
   "cell_type": "code",
   "execution_count": 13,
   "metadata": {},
   "outputs": [
    {
     "name": "stdout",
     "output_type": "stream",
     "text": [
      "<class 'pandas.core.frame.DataFrame'>\n",
      "RangeIndex: 46557 entries, 0 to 46556\n",
      "Data columns (total 17 columns):\n",
      " #   Column                Non-Null Count  Dtype  \n",
      "---  ------                --------------  -----  \n",
      " 0   Unnamed: 0            46557 non-null  int64  \n",
      " 1   dsstox_substance_id   46051 non-null  object \n",
      " 2   name                  46524 non-null  object \n",
      " 3   casrn                 45775 non-null  object \n",
      " 4   assay_result          46555 non-null  object \n",
      " 5   assay_type            46535 non-null  object \n",
      " 6   assay_type_standard   46532 non-null  object \n",
      " 7   reference             41051 non-null  object \n",
      " 8   source                46557 non-null  object \n",
      " 9   species               46557 non-null  object \n",
      " 10  strain                28293 non-null  object \n",
      " 11  year                  37976 non-null  float64\n",
      " 12  standard_assay_type   46535 non-null  object \n",
      " 13  assay_result_std      46557 non-null  object \n",
      " 14  assay_outcome         46557 non-null  int64  \n",
      " 15  aggregate_study_type  46535 non-null  object \n",
      " 16  simple_aggregate      46535 non-null  object \n",
      "dtypes: float64(1), int64(2), object(14)\n",
      "memory usage: 6.0+ MB\n"
     ]
    }
   ],
   "source": [
    "genetox.info()"
   ]
  },
  {
   "cell_type": "code",
   "execution_count": 19,
   "metadata": {},
   "outputs": [
    {
     "data": {
      "text/plain": [
       "(46557, 17)"
      ]
     },
     "execution_count": 19,
     "metadata": {},
     "output_type": "execute_result"
    }
   ],
   "source": [
    "genetox.shape"
   ]
  },
  {
   "cell_type": "code",
   "execution_count": 14,
   "metadata": {},
   "outputs": [],
   "source": [
    "mask = (genetox['dsstox_substance_id'].isnull() & genetox['casrn'].isnull())"
   ]
  },
  {
   "cell_type": "code",
   "execution_count": 18,
   "metadata": {},
   "outputs": [],
   "source": [
    "genetox['dsstox_substance_id'].replace('-', np.nan, inplace = True)"
   ]
  },
  {
   "cell_type": "code",
   "execution_count": 24,
   "metadata": {},
   "outputs": [],
   "source": [
    "genetox['casrn'].replace('-', np.nan, inplace = True)"
   ]
  },
  {
   "cell_type": "code",
   "execution_count": 27,
   "metadata": {},
   "outputs": [],
   "source": [
    "mask2 = (genetox['dsstox_substance_id'].isnull() | genetox['casrn'].isnull())"
   ]
  },
  {
   "cell_type": "code",
   "execution_count": 52,
   "metadata": {},
   "outputs": [],
   "source": [
    "#genetox[mask2]"
   ]
  },
  {
   "cell_type": "code",
   "execution_count": 29,
   "metadata": {},
   "outputs": [],
   "source": [
    "genetox['dsstox_substance_id'].replace(np.nan, 'missing', inplace = True)"
   ]
  },
  {
   "cell_type": "code",
   "execution_count": 30,
   "metadata": {},
   "outputs": [],
   "source": [
    "genetox['casrn'].replace(np.nan, 'missing', inplace = True)"
   ]
  },
  {
   "cell_type": "markdown",
   "metadata": {},
   "source": [
    "#### Concatenating both identifiers together to gain a sense of total number of substances with IDs and data"
   ]
  },
  {
   "cell_type": "code",
   "execution_count": 45,
   "metadata": {},
   "outputs": [],
   "source": [
    "genetox['ID'] = genetox.apply(lambda x: x['casrn'] if x['dsstox_substance_id'] == 'missing' else x['dsstox_substance_id'], axis = 1)"
   ]
  },
  {
   "cell_type": "code",
   "execution_count": 46,
   "metadata": {},
   "outputs": [
    {
     "data": {
      "text/plain": [
       "(169, 19)"
      ]
     },
     "execution_count": 46,
     "metadata": {},
     "output_type": "execute_result"
    }
   ],
   "source": [
    "genetox[genetox['ID'] == 'missing'].shape"
   ]
  },
  {
   "cell_type": "code",
   "execution_count": 47,
   "metadata": {},
   "outputs": [],
   "source": [
    "genetox_wids = genetox[genetox.ID != 'missing']"
   ]
  },
  {
   "cell_type": "code",
   "execution_count": 54,
   "metadata": {},
   "outputs": [
    {
     "data": {
      "text/plain": [
       "7439"
      ]
     },
     "execution_count": 54,
     "metadata": {},
     "output_type": "execute_result"
    }
   ],
   "source": [
    "genetox_wids.ID.nunique()"
   ]
  },
  {
   "cell_type": "markdown",
   "metadata": {},
   "source": [
    "#### Exploring number of records per source as described in Section 2.1"
   ]
  },
  {
   "cell_type": "code",
   "execution_count": 51,
   "metadata": {},
   "outputs": [
    {
     "data": {
      "text/plain": [
       "eChemPortal    32751\n",
       "TOXNET          8572\n",
       "COSMOS          5234\n",
       "Name: source, dtype: int64"
      ]
     },
     "execution_count": 51,
     "metadata": {},
     "output_type": "execute_result"
    }
   ],
   "source": [
    "genetox.source.value_counts()"
   ]
  },
  {
   "cell_type": "code",
   "execution_count": null,
   "metadata": {},
   "outputs": [],
   "source": []
  },
  {
   "cell_type": "code",
   "execution_count": null,
   "metadata": {},
   "outputs": [],
   "source": []
  },
  {
   "cell_type": "code",
   "execution_count": null,
   "metadata": {},
   "outputs": [],
   "source": []
  },
  {
   "cell_type": "code",
   "execution_count": null,
   "metadata": {},
   "outputs": [],
   "source": []
  },
  {
   "cell_type": "code",
   "execution_count": null,
   "metadata": {},
   "outputs": [],
   "source": []
  },
  {
   "cell_type": "code",
   "execution_count": null,
   "metadata": {},
   "outputs": [],
   "source": []
  },
  {
   "cell_type": "code",
   "execution_count": null,
   "metadata": {},
   "outputs": [],
   "source": []
  },
  {
   "cell_type": "code",
   "execution_count": null,
   "metadata": {},
   "outputs": [],
   "source": []
  },
  {
   "cell_type": "code",
   "execution_count": null,
   "metadata": {},
   "outputs": [],
   "source": []
  }
 ],
 "metadata": {
  "kernelspec": {
   "display_name": "Python 3",
   "language": "python",
   "name": "python3"
  },
  "language_info": {
   "codemirror_mode": {
    "name": "ipython",
    "version": 3
   },
   "file_extension": ".py",
   "mimetype": "text/x-python",
   "name": "python",
   "nbconvert_exporter": "python",
   "pygments_lexer": "ipython3",
   "version": "3.7.6"
  }
 },
 "nbformat": 4,
 "nbformat_minor": 4
}
