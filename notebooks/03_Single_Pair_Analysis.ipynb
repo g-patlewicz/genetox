{
 "cells": [
  {
   "cell_type": "markdown",
   "metadata": {},
   "source": [
    "#### Section 2.6: Single Assay Pair Analysis"
   ]
  },
  {
   "cell_type": "markdown",
   "metadata": {},
   "source": [
    "#### Depreated due to updated analysis"
   ]
  },
  {
   "cell_type": "code",
   "execution_count": 1,
   "metadata": {},
   "outputs": [],
   "source": [
    "import numpy as np\n",
    "import pandas as pd\n",
    "import matplotlib.pyplot as plt\n",
    "import seaborn as sns\n",
    "%matplotlib inline"
   ]
  },
  {
   "cell_type": "code",
   "execution_count": 2,
   "metadata": {},
   "outputs": [],
   "source": [
    "from sklearn import metrics \n",
    "from matplotlib.ticker import PercentFormatter"
   ]
  },
  {
   "cell_type": "code",
   "execution_count": 3,
   "metadata": {},
   "outputs": [],
   "source": [
    "raw_dat_dir = '/home/grace/Documents/python/genetox/data/raw/'\n",
    "processed_dat_dir = '/home/grace/Documents/python/genetox/data/processed/'\n",
    "interim_dat_dir = '/home/grace/Documents/python/genetox/data/interim/'\n",
    "figures_dir = '/home/grace/Documents/python/genetox/reports/figures/'"
   ]
  },
  {
   "cell_type": "code",
   "execution_count": 4,
   "metadata": {},
   "outputs": [],
   "source": [
    "xls = pd.ExcelFile(raw_dat_dir+'Chemicals&AssayData.xlsx')"
   ]
  },
  {
   "cell_type": "code",
   "execution_count": 5,
   "metadata": {},
   "outputs": [
    {
     "data": {
      "text/plain": [
       "['all_genetox_exptdata']"
      ]
     },
     "execution_count": 5,
     "metadata": {},
     "output_type": "execute_result"
    }
   ],
   "source": [
    "xls.sheet_names"
   ]
  },
  {
   "cell_type": "code",
   "execution_count": 6,
   "metadata": {},
   "outputs": [],
   "source": [
    "genetox = xls.parse('all_genetox_exptdata')"
   ]
  },
  {
   "cell_type": "code",
   "execution_count": 13,
   "metadata": {},
   "outputs": [],
   "source": [
    "#genetox"
   ]
  },
  {
   "cell_type": "code",
   "execution_count": 7,
   "metadata": {},
   "outputs": [],
   "source": [
    "df_demarini = pd.read_csv(processed_dat_dir+'DeMariniCalls.csv')"
   ]
  },
  {
   "cell_type": "code",
   "execution_count": 20,
   "metadata": {},
   "outputs": [
    {
     "data": {
      "text/html": [
       "<div>\n",
       "<style scoped>\n",
       "    .dataframe tbody tr th:only-of-type {\n",
       "        vertical-align: middle;\n",
       "    }\n",
       "\n",
       "    .dataframe tbody tr th {\n",
       "        vertical-align: top;\n",
       "    }\n",
       "\n",
       "    .dataframe thead th {\n",
       "        text-align: right;\n",
       "    }\n",
       "</style>\n",
       "<table border=\"1\" class=\"dataframe\">\n",
       "  <thead>\n",
       "    <tr style=\"text-align: right;\">\n",
       "      <th></th>\n",
       "      <th>CASRN</th>\n",
       "      <th>DeMarini_call</th>\n",
       "      <th>DTXSID</th>\n",
       "      <th>DeMarini_outcome</th>\n",
       "    </tr>\n",
       "  </thead>\n",
       "  <tbody>\n",
       "    <tr>\n",
       "      <th>0</th>\n",
       "      <td>75-07-0</td>\n",
       "      <td>clastogen</td>\n",
       "      <td>DTXSID5039224</td>\n",
       "      <td>1.0</td>\n",
       "    </tr>\n",
       "    <tr>\n",
       "      <th>1</th>\n",
       "      <td>50-81-7</td>\n",
       "      <td>clastogen</td>\n",
       "      <td>DTXSID5020106</td>\n",
       "      <td>1.0</td>\n",
       "    </tr>\n",
       "    <tr>\n",
       "      <th>2</th>\n",
       "      <td>100-52-7</td>\n",
       "      <td>clastogen</td>\n",
       "      <td>DTXSID8039241</td>\n",
       "      <td>1.0</td>\n",
       "    </tr>\n",
       "    <tr>\n",
       "      <th>3</th>\n",
       "      <td>119-53-9</td>\n",
       "      <td>clastogen</td>\n",
       "      <td>DTXSID1020144</td>\n",
       "      <td>1.0</td>\n",
       "    </tr>\n",
       "    <tr>\n",
       "      <th>4</th>\n",
       "      <td>140-11-4</td>\n",
       "      <td>clastogen</td>\n",
       "      <td>DTXSID0020151</td>\n",
       "      <td>1.0</td>\n",
       "    </tr>\n",
       "  </tbody>\n",
       "</table>\n",
       "</div>"
      ],
      "text/plain": [
       "      CASRN DeMarini_call         DTXSID  DeMarini_outcome\n",
       "0   75-07-0     clastogen  DTXSID5039224               1.0\n",
       "1   50-81-7     clastogen  DTXSID5020106               1.0\n",
       "2  100-52-7     clastogen  DTXSID8039241               1.0\n",
       "3  119-53-9     clastogen  DTXSID1020144               1.0\n",
       "4  140-11-4     clastogen  DTXSID0020151               1.0"
      ]
     },
     "execution_count": 20,
     "metadata": {},
     "output_type": "execute_result"
    }
   ],
   "source": [
    "df_demarini.head()"
   ]
  },
  {
   "cell_type": "code",
   "execution_count": 8,
   "metadata": {},
   "outputs": [],
   "source": [
    "tag = {'clastogen':1, 'gentox':1, 'non gentox':0,  'inconclusive':np.nan,\n",
    "       'not clastogen':0}"
   ]
  },
  {
   "cell_type": "code",
   "execution_count": 10,
   "metadata": {},
   "outputs": [],
   "source": [
    "df_demarini['DeMarini_outcome'] = df_demarini['DeMarini_call'].replace(tag)"
   ]
  },
  {
   "cell_type": "markdown",
   "metadata": {},
   "source": [
    "#### Resampling: Sample 1 ames and 1 clastogen activity for each chemical from the experimental data (underlying distribution). \n",
    "> - For each sample derive the Genetox classification as per the categorisation scheme\n",
    "> - Calculate the overall variance/accuracy of agreement as a measure of reproducibility\n",
    "> - Calculate the unalikability index as a measure of overall agreeability of experimental values/chemical"
   ]
  },
  {
   "cell_type": "code",
   "execution_count": 29,
   "metadata": {},
   "outputs": [
    {
     "name": "stderr",
     "output_type": "stream",
     "text": [
      "/home/grace/anaconda3/lib/python3.7/site-packages/ipykernel_launcher.py:29: RuntimeWarning: invalid value encountered in long_scalars\n",
      "/home/grace/anaconda3/lib/python3.7/site-packages/ipykernel_launcher.py:30: RuntimeWarning: invalid value encountered in long_scalars\n"
     ]
    }
   ],
   "source": [
    "n_bootstraps = 500\n",
    "AmesSubsetforBootstrap = pd.DataFrame(index=[], \\\n",
    "                                      columns=['CASRN','AmesOutcomeArraynoInc', '%AmesPos', '%AmesNeg','AmesUnalikeability',\\\n",
    "                                               'AmesBootstrappedArray', '%bAmesPos', '%bAmesNeg','AmesBUnalikeability',\\\n",
    "                                               'ClasOutcomeArraynoInc', '%ClasPos', '%ClasNeg','ClasUnalikeability',\\\n",
    "                                               'ClasBootstrappedArray', '%bClasPos', '%bClasNeg','ClasBUnalikeability',\\\n",
    "                                               'DeMariniBootstrapped'])\n",
    "idx = 0\n",
    "for cas, group in genetox.groupby('casrn'):\n",
    "    #cas = group['casrn'].unique()\n",
    "    AmesOutcomeArray = np.array(group[group['simple_aggregate']=='Ames']['assay_outcome'])\n",
    "    ClasOutcomeArray = np.array(group[group['simple_aggregate']=='clastogen']['assay_outcome'])\n",
    "    # Remove all the inconclusive outcomes\n",
    "    AmesOutcomeArraynoInc = AmesOutcomeArray[~np.isin(AmesOutcomeArray,(2))]\n",
    "    ClasOutcomeArraynoInc = ClasOutcomeArray[~np.isin(ClasOutcomeArray,(2))]\n",
    "    if len(AmesOutcomeArraynoInc) > 2:\n",
    "        # create a bootstraped value array\n",
    "        AmesBootstrapvalues = np.array(np.random.choice(AmesOutcomeArraynoInc, replace=True, size=n_bootstraps))\n",
    "        try:\n",
    "            ClasBootstrapvalues = np.array(np.random.choice(ClasOutcomeArraynoInc, replace=True, size=n_bootstraps))\n",
    "        except:\n",
    "            ClasBootstrapvalues = np.array([])\n",
    "        # Calculate the % of 0,1 and 2 (non-mutagenic, mutagenic and inconclusives) in original data\n",
    "        AmesPercPos = 100*(AmesOutcomeArraynoInc==1).sum()/len(AmesOutcomeArraynoInc)\n",
    "        AmesPercNeg = 100*(AmesOutcomeArraynoInc==0).sum()/len(AmesOutcomeArraynoInc)\n",
    "        Amesunalikeability = 2*AmesPercPos*AmesPercNeg/10000 #keep it as a number between 0 and 1\n",
    "        #PercInc = 100*(AmesOutcomeArraynoInc==2).sum()/len(AmesOutcomeArraynoInc)\n",
    "        # Calculate the % of 0,1 and 2 (clastogenicity) in original data\n",
    "        ClasPercPos = 100*(ClasOutcomeArraynoInc==1).sum()/len(ClasOutcomeArraynoInc)\n",
    "        ClasPercNeg = 100*(ClasOutcomeArraynoInc==0).sum()/len(ClasOutcomeArraynoInc)\n",
    "        Clasunalikeability = 2*ClasPercPos*ClasPercNeg/10000 #keep it as a number between 0 and 1\n",
    "        \n",
    "        # Calculate the % of 0,1 and 2 (non-mutagenic, mutagenic and inconclusives) in bootsstrapped data\n",
    "        AmesBPercPos = 100*(AmesBootstrapvalues==1).sum()/n_bootstraps\n",
    "        AmesBPercNeg = 100*(AmesBootstrapvalues==0).sum()/n_bootstraps\n",
    "        AmesBunalikeability = 2*AmesBPercPos*AmesBPercNeg/10000 #keep it as a number between 0 and 1\n",
    "        #bPercInc = 100*(bootstrapvalues==2).sum()/n_bootstraps\n",
    "        # Calculate the % of 0,1 and 2 (clastogenicity) in bootsstrapped data\n",
    "        ClasBPercPos = 100*(ClasBootstrapvalues==1).sum()/n_bootstraps\n",
    "        ClasBPercNeg = 100*(ClasBootstrapvalues==0).sum()/n_bootstraps\n",
    "        ClasBunalikeability = 2*ClasBPercPos*ClasBPercNeg/10000 #keep it as a number between 0 and 1\n",
    "               \n",
    "        # Derive DeMarini Call for each bootstrap\n",
    "        bootstrapdemarini = []\n",
    "        for i, ames in enumerate(AmesBootstrapvalues):\n",
    "            if ames == 1:\n",
    "                bootstrapdemarini.append(1)\n",
    "            else:\n",
    "                try:\n",
    "                    clas = ClasBootstrapvalues[i]\n",
    "                    if clas == 1:\n",
    "                        bootstrapdemarini.append(1)\n",
    "                    else:\n",
    "                        bootstrapdemarini.append(0)   \n",
    "                except:\n",
    "                    bootstrapdemarini.append(0)\n",
    "            \n",
    "        # Update the DataFrame\n",
    "        AmesSubsetforBootstrap.loc[idx,'CASRN'] = cas\n",
    "        #Ames\n",
    "        AmesSubsetforBootstrap.loc[idx, 'AmesOutcomeArraynoInc'] = AmesOutcomeArraynoInc\n",
    "        AmesSubsetforBootstrap.loc[idx, '%AmesPos']= AmesPercPos\n",
    "        AmesSubsetforBootstrap.loc[idx, '%AmesNeg'] = AmesPercNeg\n",
    "        AmesSubsetforBootstrap.loc[idx, 'AmesUnalikeability'] = Amesunalikeability\n",
    "        AmesSubsetforBootstrap.loc[idx, 'AmesBootstrappedArray'] = AmesBootstrapvalues\n",
    "        AmesSubsetforBootstrap.loc[idx, '%bAmesPos']= AmesBPercPos\n",
    "        AmesSubsetforBootstrap.loc[idx, '%bAmesNeg'] = AmesBPercNeg    \n",
    "        AmesSubsetforBootstrap.loc[idx, 'AmesBUnalikeability'] = float(AmesBunalikeability)\n",
    "        # Clas\n",
    "        AmesSubsetforBootstrap.loc[idx, 'ClasOutcomeArraynoInc'] = ClasOutcomeArraynoInc\n",
    "        AmesSubsetforBootstrap.loc[idx, '%ClasPos']= ClasPercPos\n",
    "        AmesSubsetforBootstrap.loc[idx, '%ClasNeg'] = ClasPercNeg\n",
    "        AmesSubsetforBootstrap.loc[idx, 'ClasUnalikeability'] = Clasunalikeability\n",
    "        AmesSubsetforBootstrap.loc[idx, 'ClasBootstrappedArray'] = ClasBootstrapvalues\n",
    "        AmesSubsetforBootstrap.loc[idx, '%bClasPos']= ClasBPercPos\n",
    "        AmesSubsetforBootstrap.loc[idx, '%bClasNeg'] = ClasBPercNeg    \n",
    "        AmesSubsetforBootstrap.loc[idx, 'ClasBUnalikeability'] = float(ClasBunalikeability)\n",
    "        # DeMarini calls\n",
    "        AmesSubsetforBootstrap.loc[idx, 'DeMariniBootstrapped'] = bootstrapdemarini\n",
    "        # Update the index\n",
    "        idx=idx+1\n",
    "\n",
    "AmesSubsetforBootstrap.index = AmesSubsetforBootstrap['CASRN']\n",
    "AmesSubsetforBootstrap.to_csv(processed_dat_dir+'AmesBootstrapAnalysis.csv', index_label = 'CASRN')   \n",
    "\n"
   ]
  },
  {
   "cell_type": "code",
   "execution_count": 30,
   "metadata": {},
   "outputs": [
    {
     "data": {
      "text/html": [
       "<div>\n",
       "<style scoped>\n",
       "    .dataframe tbody tr th:only-of-type {\n",
       "        vertical-align: middle;\n",
       "    }\n",
       "\n",
       "    .dataframe tbody tr th {\n",
       "        vertical-align: top;\n",
       "    }\n",
       "\n",
       "    .dataframe thead th {\n",
       "        text-align: right;\n",
       "    }\n",
       "</style>\n",
       "<table border=\"1\" class=\"dataframe\">\n",
       "  <thead>\n",
       "    <tr style=\"text-align: right;\">\n",
       "      <th></th>\n",
       "      <th>CASRN</th>\n",
       "      <th>AmesOutcomeArraynoInc</th>\n",
       "      <th>%AmesPos</th>\n",
       "      <th>%AmesNeg</th>\n",
       "      <th>AmesUnalikeability</th>\n",
       "      <th>AmesBootstrappedArray</th>\n",
       "      <th>%bAmesPos</th>\n",
       "      <th>%bAmesNeg</th>\n",
       "      <th>AmesBUnalikeability</th>\n",
       "      <th>ClasOutcomeArraynoInc</th>\n",
       "      <th>%ClasPos</th>\n",
       "      <th>%ClasNeg</th>\n",
       "      <th>ClasUnalikeability</th>\n",
       "      <th>ClasBootstrappedArray</th>\n",
       "      <th>%bClasPos</th>\n",
       "      <th>%bClasNeg</th>\n",
       "      <th>ClasBUnalikeability</th>\n",
       "      <th>DeMariniBootstrapped</th>\n",
       "    </tr>\n",
       "    <tr>\n",
       "      <th>CASRN</th>\n",
       "      <th></th>\n",
       "      <th></th>\n",
       "      <th></th>\n",
       "      <th></th>\n",
       "      <th></th>\n",
       "      <th></th>\n",
       "      <th></th>\n",
       "      <th></th>\n",
       "      <th></th>\n",
       "      <th></th>\n",
       "      <th></th>\n",
       "      <th></th>\n",
       "      <th></th>\n",
       "      <th></th>\n",
       "      <th></th>\n",
       "      <th></th>\n",
       "      <th></th>\n",
       "      <th></th>\n",
       "    </tr>\n",
       "  </thead>\n",
       "  <tbody>\n",
       "    <tr>\n",
       "      <th>100-00-5</th>\n",
       "      <td>100-00-5</td>\n",
       "      <td>[1, 1, 1, 1, 1]</td>\n",
       "      <td>100</td>\n",
       "      <td>0</td>\n",
       "      <td>0</td>\n",
       "      <td>[1, 1, 1, 1, 1, 1, 1, 1, 1, 1, 1, 1, 1, 1, 1, ...</td>\n",
       "      <td>100</td>\n",
       "      <td>0</td>\n",
       "      <td>0</td>\n",
       "      <td>[1, 1]</td>\n",
       "      <td>100</td>\n",
       "      <td>0</td>\n",
       "      <td>0</td>\n",
       "      <td>[1, 1, 1, 1, 1, 1, 1, 1, 1, 1, 1, 1, 1, 1, 1, ...</td>\n",
       "      <td>100</td>\n",
       "      <td>0</td>\n",
       "      <td>0</td>\n",
       "      <td>[1, 1, 1, 1, 1, 1, 1, 1, 1, 1, 1, 1, 1, 1, 1, ...</td>\n",
       "    </tr>\n",
       "    <tr>\n",
       "      <th>100-02-7</th>\n",
       "      <td>100-02-7</td>\n",
       "      <td>[0, 1, 0, 1, 0]</td>\n",
       "      <td>40</td>\n",
       "      <td>60</td>\n",
       "      <td>0.48</td>\n",
       "      <td>[0, 0, 1, 0, 0, 0, 1, 0, 1, 1, 1, 0, 0, 0, 0, ...</td>\n",
       "      <td>40.8</td>\n",
       "      <td>59.2</td>\n",
       "      <td>0.483072</td>\n",
       "      <td>[]</td>\n",
       "      <td>NaN</td>\n",
       "      <td>NaN</td>\n",
       "      <td>NaN</td>\n",
       "      <td>[]</td>\n",
       "      <td>0</td>\n",
       "      <td>0</td>\n",
       "      <td>0</td>\n",
       "      <td>[0, 0, 1, 0, 0, 0, 1, 0, 1, 1, 1, 0, 0, 0, 0, ...</td>\n",
       "    </tr>\n",
       "    <tr>\n",
       "      <th>100-36-7</th>\n",
       "      <td>100-36-7</td>\n",
       "      <td>[0, 0, 0, 0]</td>\n",
       "      <td>0</td>\n",
       "      <td>100</td>\n",
       "      <td>0</td>\n",
       "      <td>[0, 0, 0, 0, 0, 0, 0, 0, 0, 0, 0, 0, 0, 0, 0, ...</td>\n",
       "      <td>0</td>\n",
       "      <td>100</td>\n",
       "      <td>0</td>\n",
       "      <td>[]</td>\n",
       "      <td>NaN</td>\n",
       "      <td>NaN</td>\n",
       "      <td>NaN</td>\n",
       "      <td>[]</td>\n",
       "      <td>0</td>\n",
       "      <td>0</td>\n",
       "      <td>0</td>\n",
       "      <td>[0, 0, 0, 0, 0, 0, 0, 0, 0, 0, 0, 0, 0, 0, 0, ...</td>\n",
       "    </tr>\n",
       "    <tr>\n",
       "      <th>100-40-3</th>\n",
       "      <td>100-40-3</td>\n",
       "      <td>[0, 0, 0, 0, 0, 0]</td>\n",
       "      <td>0</td>\n",
       "      <td>100</td>\n",
       "      <td>0</td>\n",
       "      <td>[0, 0, 0, 0, 0, 0, 0, 0, 0, 0, 0, 0, 0, 0, 0, ...</td>\n",
       "      <td>0</td>\n",
       "      <td>100</td>\n",
       "      <td>0</td>\n",
       "      <td>[]</td>\n",
       "      <td>NaN</td>\n",
       "      <td>NaN</td>\n",
       "      <td>NaN</td>\n",
       "      <td>[]</td>\n",
       "      <td>0</td>\n",
       "      <td>0</td>\n",
       "      <td>0</td>\n",
       "      <td>[0, 0, 0, 0, 0, 0, 0, 0, 0, 0, 0, 0, 0, 0, 0, ...</td>\n",
       "    </tr>\n",
       "    <tr>\n",
       "      <th>100-41-4</th>\n",
       "      <td>100-41-4</td>\n",
       "      <td>[0, 0, 0]</td>\n",
       "      <td>0</td>\n",
       "      <td>100</td>\n",
       "      <td>0</td>\n",
       "      <td>[0, 0, 0, 0, 0, 0, 0, 0, 0, 0, 0, 0, 0, 0, 0, ...</td>\n",
       "      <td>0</td>\n",
       "      <td>100</td>\n",
       "      <td>0</td>\n",
       "      <td>[0, 0, 0, 1, 1]</td>\n",
       "      <td>40</td>\n",
       "      <td>60</td>\n",
       "      <td>0.48</td>\n",
       "      <td>[1, 1, 0, 0, 1, 0, 0, 0, 0, 1, 0, 0, 0, 1, 0, ...</td>\n",
       "      <td>44.2</td>\n",
       "      <td>55.8</td>\n",
       "      <td>0.493272</td>\n",
       "      <td>[1, 1, 0, 0, 1, 0, 0, 0, 0, 1, 0, 0, 0, 1, 0, ...</td>\n",
       "    </tr>\n",
       "  </tbody>\n",
       "</table>\n",
       "</div>"
      ],
      "text/plain": [
       "             CASRN AmesOutcomeArraynoInc %AmesPos %AmesNeg AmesUnalikeability  \\\n",
       "CASRN                                                                           \n",
       "100-00-5  100-00-5       [1, 1, 1, 1, 1]      100        0                  0   \n",
       "100-02-7  100-02-7       [0, 1, 0, 1, 0]       40       60               0.48   \n",
       "100-36-7  100-36-7          [0, 0, 0, 0]        0      100                  0   \n",
       "100-40-3  100-40-3    [0, 0, 0, 0, 0, 0]        0      100                  0   \n",
       "100-41-4  100-41-4             [0, 0, 0]        0      100                  0   \n",
       "\n",
       "                                      AmesBootstrappedArray %bAmesPos  \\\n",
       "CASRN                                                                   \n",
       "100-00-5  [1, 1, 1, 1, 1, 1, 1, 1, 1, 1, 1, 1, 1, 1, 1, ...       100   \n",
       "100-02-7  [0, 0, 1, 0, 0, 0, 1, 0, 1, 1, 1, 0, 0, 0, 0, ...      40.8   \n",
       "100-36-7  [0, 0, 0, 0, 0, 0, 0, 0, 0, 0, 0, 0, 0, 0, 0, ...         0   \n",
       "100-40-3  [0, 0, 0, 0, 0, 0, 0, 0, 0, 0, 0, 0, 0, 0, 0, ...         0   \n",
       "100-41-4  [0, 0, 0, 0, 0, 0, 0, 0, 0, 0, 0, 0, 0, 0, 0, ...         0   \n",
       "\n",
       "         %bAmesNeg AmesBUnalikeability ClasOutcomeArraynoInc %ClasPos  \\\n",
       "CASRN                                                                   \n",
       "100-00-5         0                   0                [1, 1]      100   \n",
       "100-02-7      59.2            0.483072                    []      NaN   \n",
       "100-36-7       100                   0                    []      NaN   \n",
       "100-40-3       100                   0                    []      NaN   \n",
       "100-41-4       100                   0       [0, 0, 0, 1, 1]       40   \n",
       "\n",
       "         %ClasNeg ClasUnalikeability  \\\n",
       "CASRN                                  \n",
       "100-00-5        0                  0   \n",
       "100-02-7      NaN                NaN   \n",
       "100-36-7      NaN                NaN   \n",
       "100-40-3      NaN                NaN   \n",
       "100-41-4       60               0.48   \n",
       "\n",
       "                                      ClasBootstrappedArray %bClasPos  \\\n",
       "CASRN                                                                   \n",
       "100-00-5  [1, 1, 1, 1, 1, 1, 1, 1, 1, 1, 1, 1, 1, 1, 1, ...       100   \n",
       "100-02-7                                                 []         0   \n",
       "100-36-7                                                 []         0   \n",
       "100-40-3                                                 []         0   \n",
       "100-41-4  [1, 1, 0, 0, 1, 0, 0, 0, 0, 1, 0, 0, 0, 1, 0, ...      44.2   \n",
       "\n",
       "         %bClasNeg ClasBUnalikeability  \\\n",
       "CASRN                                    \n",
       "100-00-5         0                   0   \n",
       "100-02-7         0                   0   \n",
       "100-36-7         0                   0   \n",
       "100-40-3         0                   0   \n",
       "100-41-4      55.8            0.493272   \n",
       "\n",
       "                                       DeMariniBootstrapped  \n",
       "CASRN                                                        \n",
       "100-00-5  [1, 1, 1, 1, 1, 1, 1, 1, 1, 1, 1, 1, 1, 1, 1, ...  \n",
       "100-02-7  [0, 0, 1, 0, 0, 0, 1, 0, 1, 1, 1, 0, 0, 0, 0, ...  \n",
       "100-36-7  [0, 0, 0, 0, 0, 0, 0, 0, 0, 0, 0, 0, 0, 0, 0, ...  \n",
       "100-40-3  [0, 0, 0, 0, 0, 0, 0, 0, 0, 0, 0, 0, 0, 0, 0, ...  \n",
       "100-41-4  [1, 1, 0, 0, 1, 0, 0, 0, 0, 1, 0, 0, 0, 1, 0, ...  "
      ]
     },
     "execution_count": 30,
     "metadata": {},
     "output_type": "execute_result"
    }
   ],
   "source": [
    "AmesSubsetforBootstrap.head()"
   ]
  },
  {
   "cell_type": "code",
   "execution_count": 43,
   "metadata": {},
   "outputs": [
    {
     "data": {
      "text/plain": [
       "(2167, 18)"
      ]
     },
     "execution_count": 43,
     "metadata": {},
     "output_type": "execute_result"
    }
   ],
   "source": [
    "AmesSubsetforBootstrap.shape"
   ]
  },
  {
   "cell_type": "code",
   "execution_count": 34,
   "metadata": {},
   "outputs": [],
   "source": [
    "df_demarini = df_demarini.set_index('CASRN')"
   ]
  },
  {
   "cell_type": "markdown",
   "metadata": {},
   "source": [
    "#### Calculate equivalence|accuracy of bootstrap DeMarini against original DeMarini calls"
   ]
  },
  {
   "cell_type": "code",
   "execution_count": 35,
   "metadata": {},
   "outputs": [],
   "source": [
    "\n",
    "evaluationdataset = pd.concat([AmesSubsetforBootstrap['DeMariniBootstrapped'], df_demarini], axis = 1).dropna()\n"
   ]
  },
  {
   "cell_type": "code",
   "execution_count": 36,
   "metadata": {},
   "outputs": [
    {
     "data": {
      "text/html": [
       "<div>\n",
       "<style scoped>\n",
       "    .dataframe tbody tr th:only-of-type {\n",
       "        vertical-align: middle;\n",
       "    }\n",
       "\n",
       "    .dataframe tbody tr th {\n",
       "        vertical-align: top;\n",
       "    }\n",
       "\n",
       "    .dataframe thead th {\n",
       "        text-align: right;\n",
       "    }\n",
       "</style>\n",
       "<table border=\"1\" class=\"dataframe\">\n",
       "  <thead>\n",
       "    <tr style=\"text-align: right;\">\n",
       "      <th></th>\n",
       "      <th>DeMariniBootstrapped</th>\n",
       "      <th>DeMarini_call</th>\n",
       "      <th>DTXSID</th>\n",
       "      <th>DeMarini_outcome</th>\n",
       "    </tr>\n",
       "  </thead>\n",
       "  <tbody>\n",
       "    <tr>\n",
       "      <th>100-00-5</th>\n",
       "      <td>[1, 1, 1, 1, 1, 1, 1, 1, 1, 1, 1, 1, 1, 1, 1, ...</td>\n",
       "      <td>gentox</td>\n",
       "      <td>DTXSID5020281</td>\n",
       "      <td>1.0</td>\n",
       "    </tr>\n",
       "    <tr>\n",
       "      <th>100-02-7</th>\n",
       "      <td>[0, 0, 1, 0, 0, 0, 1, 0, 1, 1, 1, 0, 0, 0, 0, ...</td>\n",
       "      <td>gentox</td>\n",
       "      <td>DTXSID0021834</td>\n",
       "      <td>1.0</td>\n",
       "    </tr>\n",
       "    <tr>\n",
       "      <th>100-36-7</th>\n",
       "      <td>[0, 0, 0, 0, 0, 0, 0, 0, 0, 0, 0, 0, 0, 0, 0, ...</td>\n",
       "      <td>non gentox</td>\n",
       "      <td>DTXSID7057606</td>\n",
       "      <td>0.0</td>\n",
       "    </tr>\n",
       "    <tr>\n",
       "      <th>100-40-3</th>\n",
       "      <td>[0, 0, 0, 0, 0, 0, 0, 0, 0, 0, 0, 0, 0, 0, 0, ...</td>\n",
       "      <td>non gentox</td>\n",
       "      <td>DTXSID3021437</td>\n",
       "      <td>0.0</td>\n",
       "    </tr>\n",
       "    <tr>\n",
       "      <th>100-41-4</th>\n",
       "      <td>[1, 1, 0, 0, 1, 0, 0, 0, 0, 1, 0, 0, 0, 1, 0, ...</td>\n",
       "      <td>clastogen</td>\n",
       "      <td>DTXSID3020596</td>\n",
       "      <td>1.0</td>\n",
       "    </tr>\n",
       "    <tr>\n",
       "      <th>...</th>\n",
       "      <td>...</td>\n",
       "      <td>...</td>\n",
       "      <td>...</td>\n",
       "      <td>...</td>\n",
       "    </tr>\n",
       "    <tr>\n",
       "      <th>99305-42-7</th>\n",
       "      <td>[0, 0, 0, 0, 0, 0, 0, 0, 0, 0, 0, 0, 0, 0, 0, ...</td>\n",
       "      <td>non gentox</td>\n",
       "      <td>DTXSID90893706</td>\n",
       "      <td>0.0</td>\n",
       "    </tr>\n",
       "    <tr>\n",
       "      <th>994-05-8</th>\n",
       "      <td>[1, 1, 1, 1, 1, 1, 1, 1, 1, 1, 1, 1, 1, 1, 1, ...</td>\n",
       "      <td>clastogen</td>\n",
       "      <td>DTXSID8024521</td>\n",
       "      <td>1.0</td>\n",
       "    </tr>\n",
       "    <tr>\n",
       "      <th>99591-74-9</th>\n",
       "      <td>[1, 1, 1, 1, 1, 1, 1, 1, 1, 1, 1, 1, 1, 1, 1, ...</td>\n",
       "      <td>gentox</td>\n",
       "      <td>DTXSID60469235</td>\n",
       "      <td>1.0</td>\n",
       "    </tr>\n",
       "    <tr>\n",
       "      <th>996-35-0</th>\n",
       "      <td>[0, 0, 0, 0, 0, 0, 0, 0, 0, 0, 0, 0, 0, 0, 0, ...</td>\n",
       "      <td>non gentox</td>\n",
       "      <td>DTXSID2033447</td>\n",
       "      <td>0.0</td>\n",
       "    </tr>\n",
       "    <tr>\n",
       "      <th>999-97-3</th>\n",
       "      <td>[0, 0, 0, 0, 0, 0, 0, 0, 0, 0, 0, 0, 0, 0, 0, ...</td>\n",
       "      <td>non gentox</td>\n",
       "      <td>DTXSID2025395</td>\n",
       "      <td>0.0</td>\n",
       "    </tr>\n",
       "  </tbody>\n",
       "</table>\n",
       "<p>2017 rows × 4 columns</p>\n",
       "</div>"
      ],
      "text/plain": [
       "                                         DeMariniBootstrapped DeMarini_call  \\\n",
       "100-00-5    [1, 1, 1, 1, 1, 1, 1, 1, 1, 1, 1, 1, 1, 1, 1, ...        gentox   \n",
       "100-02-7    [0, 0, 1, 0, 0, 0, 1, 0, 1, 1, 1, 0, 0, 0, 0, ...        gentox   \n",
       "100-36-7    [0, 0, 0, 0, 0, 0, 0, 0, 0, 0, 0, 0, 0, 0, 0, ...    non gentox   \n",
       "100-40-3    [0, 0, 0, 0, 0, 0, 0, 0, 0, 0, 0, 0, 0, 0, 0, ...    non gentox   \n",
       "100-41-4    [1, 1, 0, 0, 1, 0, 0, 0, 0, 1, 0, 0, 0, 1, 0, ...     clastogen   \n",
       "...                                                       ...           ...   \n",
       "99305-42-7  [0, 0, 0, 0, 0, 0, 0, 0, 0, 0, 0, 0, 0, 0, 0, ...    non gentox   \n",
       "994-05-8    [1, 1, 1, 1, 1, 1, 1, 1, 1, 1, 1, 1, 1, 1, 1, ...     clastogen   \n",
       "99591-74-9  [1, 1, 1, 1, 1, 1, 1, 1, 1, 1, 1, 1, 1, 1, 1, ...        gentox   \n",
       "996-35-0    [0, 0, 0, 0, 0, 0, 0, 0, 0, 0, 0, 0, 0, 0, 0, ...    non gentox   \n",
       "999-97-3    [0, 0, 0, 0, 0, 0, 0, 0, 0, 0, 0, 0, 0, 0, 0, ...    non gentox   \n",
       "\n",
       "                    DTXSID  DeMarini_outcome  \n",
       "100-00-5     DTXSID5020281               1.0  \n",
       "100-02-7     DTXSID0021834               1.0  \n",
       "100-36-7     DTXSID7057606               0.0  \n",
       "100-40-3     DTXSID3021437               0.0  \n",
       "100-41-4     DTXSID3020596               1.0  \n",
       "...                    ...               ...  \n",
       "99305-42-7  DTXSID90893706               0.0  \n",
       "994-05-8     DTXSID8024521               1.0  \n",
       "99591-74-9  DTXSID60469235               1.0  \n",
       "996-35-0     DTXSID2033447               0.0  \n",
       "999-97-3     DTXSID2025395               0.0  \n",
       "\n",
       "[2017 rows x 4 columns]"
      ]
     },
     "execution_count": 36,
     "metadata": {},
     "output_type": "execute_result"
    }
   ],
   "source": [
    "evaluationdataset"
   ]
  },
  {
   "cell_type": "code",
   "execution_count": 37,
   "metadata": {},
   "outputs": [],
   "source": [
    "#AmesSubsetforBootstrap['DeMarini'] = df_demarini\n",
    "bootstrapacc = []\n",
    "for idx in evaluationdataset.index:\n",
    "    x = np.empty(n_bootstraps)\n",
    "    x.fill(evaluationdataset.loc[idx, 'DeMarini_outcome'])\n",
    "    y = evaluationdataset.loc[idx, 'DeMariniBootstrapped']\n",
    "    acc = 100*np.round(metrics.accuracy_score(x, y),2)\n",
    "    evaluationdataset.loc[idx, 'DeMariniBootstrappedAccuracy'] = acc\n"
   ]
  },
  {
   "cell_type": "code",
   "execution_count": 40,
   "metadata": {},
   "outputs": [
    {
     "data": {
      "text/html": [
       "<div>\n",
       "<style scoped>\n",
       "    .dataframe tbody tr th:only-of-type {\n",
       "        vertical-align: middle;\n",
       "    }\n",
       "\n",
       "    .dataframe tbody tr th {\n",
       "        vertical-align: top;\n",
       "    }\n",
       "\n",
       "    .dataframe thead th {\n",
       "        text-align: right;\n",
       "    }\n",
       "</style>\n",
       "<table border=\"1\" class=\"dataframe\">\n",
       "  <thead>\n",
       "    <tr style=\"text-align: right;\">\n",
       "      <th></th>\n",
       "      <th>DeMariniBootstrapped</th>\n",
       "      <th>DeMarini_call</th>\n",
       "      <th>DTXSID</th>\n",
       "      <th>DeMarini_outcome</th>\n",
       "      <th>DeMariniBootstrappedAccuracy</th>\n",
       "    </tr>\n",
       "  </thead>\n",
       "  <tbody>\n",
       "    <tr>\n",
       "      <th>100-00-5</th>\n",
       "      <td>[1, 1, 1, 1, 1, 1, 1, 1, 1, 1, 1, 1, 1, 1, 1, ...</td>\n",
       "      <td>gentox</td>\n",
       "      <td>DTXSID5020281</td>\n",
       "      <td>1.0</td>\n",
       "      <td>100.0</td>\n",
       "    </tr>\n",
       "    <tr>\n",
       "      <th>100-02-7</th>\n",
       "      <td>[0, 0, 1, 0, 0, 0, 1, 0, 1, 1, 1, 0, 0, 0, 0, ...</td>\n",
       "      <td>gentox</td>\n",
       "      <td>DTXSID0021834</td>\n",
       "      <td>1.0</td>\n",
       "      <td>41.0</td>\n",
       "    </tr>\n",
       "    <tr>\n",
       "      <th>100-36-7</th>\n",
       "      <td>[0, 0, 0, 0, 0, 0, 0, 0, 0, 0, 0, 0, 0, 0, 0, ...</td>\n",
       "      <td>non gentox</td>\n",
       "      <td>DTXSID7057606</td>\n",
       "      <td>0.0</td>\n",
       "      <td>100.0</td>\n",
       "    </tr>\n",
       "    <tr>\n",
       "      <th>100-40-3</th>\n",
       "      <td>[0, 0, 0, 0, 0, 0, 0, 0, 0, 0, 0, 0, 0, 0, 0, ...</td>\n",
       "      <td>non gentox</td>\n",
       "      <td>DTXSID3021437</td>\n",
       "      <td>0.0</td>\n",
       "      <td>100.0</td>\n",
       "    </tr>\n",
       "    <tr>\n",
       "      <th>100-41-4</th>\n",
       "      <td>[1, 1, 0, 0, 1, 0, 0, 0, 0, 1, 0, 0, 0, 1, 0, ...</td>\n",
       "      <td>clastogen</td>\n",
       "      <td>DTXSID3020596</td>\n",
       "      <td>1.0</td>\n",
       "      <td>44.0</td>\n",
       "    </tr>\n",
       "  </tbody>\n",
       "</table>\n",
       "</div>"
      ],
      "text/plain": [
       "                                       DeMariniBootstrapped DeMarini_call  \\\n",
       "100-00-5  [1, 1, 1, 1, 1, 1, 1, 1, 1, 1, 1, 1, 1, 1, 1, ...        gentox   \n",
       "100-02-7  [0, 0, 1, 0, 0, 0, 1, 0, 1, 1, 1, 0, 0, 0, 0, ...        gentox   \n",
       "100-36-7  [0, 0, 0, 0, 0, 0, 0, 0, 0, 0, 0, 0, 0, 0, 0, ...    non gentox   \n",
       "100-40-3  [0, 0, 0, 0, 0, 0, 0, 0, 0, 0, 0, 0, 0, 0, 0, ...    non gentox   \n",
       "100-41-4  [1, 1, 0, 0, 1, 0, 0, 0, 0, 1, 0, 0, 0, 1, 0, ...     clastogen   \n",
       "\n",
       "                 DTXSID  DeMarini_outcome  DeMariniBootstrappedAccuracy  \n",
       "100-00-5  DTXSID5020281               1.0                         100.0  \n",
       "100-02-7  DTXSID0021834               1.0                          41.0  \n",
       "100-36-7  DTXSID7057606               0.0                         100.0  \n",
       "100-40-3  DTXSID3021437               0.0                         100.0  \n",
       "100-41-4  DTXSID3020596               1.0                          44.0  "
      ]
     },
     "execution_count": 40,
     "metadata": {},
     "output_type": "execute_result"
    }
   ],
   "source": [
    "evaluationdataset.head()"
   ]
  },
  {
   "cell_type": "markdown",
   "metadata": {},
   "source": [
    "#### Plot Unalikeability"
   ]
  },
  {
   "cell_type": "code",
   "execution_count": 41,
   "metadata": {},
   "outputs": [
    {
     "data": {
      "image/png": "[encoded data removed]",
      "text/plain": [
       "<Figure size 1600x1200 with 1 Axes>"
      ]
     },
     "metadata": {
      "needs_background": "light"
     },
     "output_type": "display_data"
    }
   ],
   "source": [
    "# a. Plot Unalikeability\n",
    "#-----------------------\n",
    "plt.figure(figsize=(8, 6), dpi = 200)\n",
    "Amestotaldata = len(AmesSubsetforBootstrap['AmesBUnalikeability'].dropna())\n",
    "AmesSubsetforBootstrap['AmesBUnalikeability'].astype('float64').hist(bins=20,  weights=np.ones(Amestotaldata)/(Amestotaldata), color='g', alpha=0.5, label='Ames')\n",
    "\n",
    "Clastotaldata = len(AmesSubsetforBootstrap['ClasBUnalikeability'].dropna())\n",
    "AmesSubsetforBootstrap['ClasBUnalikeability'].astype('float64').hist(bins=20,  weights=np.ones(Clastotaldata)/(Clastotaldata), color='r', alpha=0.5, label='Clastogen')\n",
    "\n",
    "plt.legend(prop={'size':18,'family':'serif'})\n",
    "plt.xlabel('Unalikeability', fontsize=18, family = 'serif')\n",
    "plt.ylabel('Fraction of Data', fontsize=18, family = 'serif')\n",
    "plt.gca().yaxis.set_major_formatter(PercentFormatter(1))\n",
    "plt.savefig(figures_dir+'unalikeability.png', bbox_inches='tight')"
   ]
  },
  {
   "cell_type": "markdown",
   "metadata": {},
   "source": [
    "#### Figure 6: Plot reproducibility"
   ]
  },
  {
   "cell_type": "code",
   "execution_count": 42,
   "metadata": {},
   "outputs": [
    {
     "data": {
      "image/png": "[encoded data removed]",
      "text/plain": [
       "<Figure size 1600x1200 with 1 Axes>"
      ]
     },
     "metadata": {
      "needs_background": "light"
     },
     "output_type": "display_data"
    }
   ],
   "source": [
    "plt.figure(figsize=(8, 6), dpi = 200)\n",
    "plt.grid(True)\n",
    "totaldata = len(evaluationdataset['DeMariniBootstrappedAccuracy'])\n",
    "plt.hist(evaluationdataset['DeMariniBootstrappedAccuracy'], bins=20,  weights=np.ones(totaldata)/(totaldata))\n",
    "#plt.legend(prop={'size':18,'family':'serif'})\n",
    "plt.xlabel('Reproducibility', fontsize=18, family = 'serif')\n",
    "plt.ylabel('Frequency', fontsize=18, family = 'serif')\n",
    "plt.gca().yaxis.set_major_formatter(PercentFormatter(1))\n",
    "plt.gca().xaxis.set_major_formatter(PercentFormatter(100))\n",
    "plt.savefig(figures_dir+'demariniReproducibility.png', bbox_inches='tight')\n",
    "#%%"
   ]
  },
  {
   "cell_type": "code",
   "execution_count": null,
   "metadata": {},
   "outputs": [],
   "source": []
  },
  {
   "cell_type": "code",
   "execution_count": null,
   "metadata": {},
   "outputs": [],
   "source": []
  },
  {
   "cell_type": "code",
   "execution_count": null,
   "metadata": {},
   "outputs": [],
   "source": []
  },
  {
   "cell_type": "code",
   "execution_count": null,
   "metadata": {},
   "outputs": [],
   "source": []
  },
  {
   "cell_type": "code",
   "execution_count": null,
   "metadata": {},
   "outputs": [],
   "source": []
  }
 ],
 "metadata": {
  "kernelspec": {
   "display_name": "Python 3",
   "language": "python",
   "name": "python3"
  },
  "language_info": {
   "codemirror_mode": {
    "name": "ipython",
    "version": 3
   },
   "file_extension": ".py",
   "mimetype": "text/x-python",
   "name": "python",
   "nbconvert_exporter": "python",
   "pygments_lexer": "ipython3",
   "version": "3.7.6"
  }
 },
 "nbformat": 4,
 "nbformat_minor": 4
}
